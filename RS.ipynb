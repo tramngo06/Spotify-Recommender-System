{
 "cells": [
  {
   "cell_type": "markdown",
   "id": "18efc2d8-2477-4a91-9817-d889ee9c07f2",
   "metadata": {},
   "source": [
    "# Recommendation System: Collaborative Filtering"
   ]
  },
  {
   "cell_type": "code",
   "execution_count": 1,
   "id": "ca89231f-4e08-47ad-8416-564fb4fd8180",
   "metadata": {},
   "outputs": [],
   "source": [
    "import pandas as pd\n",
    "import scipy.sparse as sparse\n",
    "import numpy as np\n",
    "from scipy.sparse.linalg import spsolve"
   ]
  },
  {
   "cell_type": "markdown",
   "id": "d9472a02-4345-4627-a2cd-1c9969b97e69",
   "metadata": {},
   "source": [
    "## 1.1 Load The Needed Variables Here"
   ]
  },
  {
   "cell_type": "code",
   "execution_count": null,
   "id": "e31508f0-88e5-4462-a945-d20cee129aa0",
   "metadata": {},
   "outputs": [],
   "source": [
    "tracks_df = pd.read_csv('tracks_df.csv')\n",
    "interaction_df = pd.read_csv('interaction_df.csv')\n",
    "interaction_matrix = sparse.load_npz(\"interaction_matrix.npz\")"
   ]
  },
  {
   "cell_type": "code",
   "execution_count": null,
   "id": "eeb4c296-2f3b-499d-bd63-ec3d7c4612c6",
   "metadata": {},
   "outputs": [],
   "source": [
    "train_matrix = sparse.load_npz('/home/jovyan/Spotify/StoredVariables/train_matrix.npz')\n",
    "test_matrix = sparse.load_npz('/home/jovyan/Spotify/StoredVariables/test_matrix.npz')\n",
    "#altered_data = np.load('altered_users.npz')"
   ]
  },
  {
   "cell_type": "code",
   "execution_count": 3,
   "id": "c917f209-e457-4d49-ad94-a9994078bec3",
   "metadata": {},
   "outputs": [
    {
     "name": "stdout",
     "output_type": "stream",
     "text": [
      "Writing 'interaction_df' (DataFrame) to file 'store.txt'.\n"
     ]
    }
   ],
   "source": [
    "%store interaction_df >store.txt"
   ]
  },
  {
   "cell_type": "code",
   "execution_count": 7,
   "id": "49418bb7-2891-42fb-aa5c-0c25a0bafcf5",
   "metadata": {},
   "outputs": [],
   "source": [
    "playlists = list(np.sort(interaction_df['playlist_id'].unique()))\n",
    "tracks = list(np.sort(interaction_df['track_uri'].unique()))"
   ]
  },
  {
   "cell_type": "markdown",
   "id": "26282b54-80ac-40d9-93e4-559232e6c129",
   "metadata": {},
   "source": [
    "## 1.2 Creating Interaction Dataframe. "
   ]
  },
  {
   "cell_type": "code",
   "execution_count": null,
   "id": "522ba6f0-954c-400a-9c59-1d669539288a",
   "metadata": {},
   "outputs": [],
   "source": [
    "# Map IDs to integer indices\n",
    "playlist_to_idx = {playlist: i for i, playlist in enumerate(playlists)}\n",
    "track_to_idx = {track: i for i, track in enumerate(tracks)}\n",
    "\n",
    "# Map the interaction DataFrame values to integer indices\n",
    "interaction_df['playlist_idx'] = interaction_df['playlist_id'].map(playlist_to_idx)\n",
    "interaction_df['track_idx'] = interaction_df['track_uri'].map(track_to_idx)"
   ]
  },
  {
   "cell_type": "code",
   "execution_count": 19,
   "id": "f2101e1a-6da0-467d-b91e-efdace0b2685",
   "metadata": {},
   "outputs": [
    {
     "data": {
      "text/html": [
       "<div>\n",
       "<style scoped>\n",
       "    .dataframe tbody tr th:only-of-type {\n",
       "        vertical-align: middle;\n",
       "    }\n",
       "\n",
       "    .dataframe tbody tr th {\n",
       "        vertical-align: top;\n",
       "    }\n",
       "\n",
       "    .dataframe thead th {\n",
       "        text-align: right;\n",
       "    }\n",
       "</style>\n",
       "<table border=\"1\" class=\"dataframe\">\n",
       "  <thead>\n",
       "    <tr style=\"text-align: right;\">\n",
       "      <th></th>\n",
       "      <th>playlist_id</th>\n",
       "      <th>track_uri</th>\n",
       "      <th>rating</th>\n",
       "      <th>playlist_idx</th>\n",
       "      <th>track_idx</th>\n",
       "    </tr>\n",
       "  </thead>\n",
       "  <tbody>\n",
       "    <tr>\n",
       "      <th>0</th>\n",
       "      <td>981000</td>\n",
       "      <td>spotify:track:7gKIt3rDGIMJDFVSPBnGmj</td>\n",
       "      <td>1</td>\n",
       "      <td>981000</td>\n",
       "      <td>2170204</td>\n",
       "    </tr>\n",
       "    <tr>\n",
       "      <th>1</th>\n",
       "      <td>981000</td>\n",
       "      <td>spotify:track:2eAAEa8pxKF7My0EO4rFgR</td>\n",
       "      <td>1</td>\n",
       "      <td>981000</td>\n",
       "      <td>771276</td>\n",
       "    </tr>\n",
       "    <tr>\n",
       "      <th>2</th>\n",
       "      <td>981000</td>\n",
       "      <td>spotify:track:5rnFOEEIBIWZ6dhHrY6zHh</td>\n",
       "      <td>1</td>\n",
       "      <td>981000</td>\n",
       "      <td>1705086</td>\n",
       "    </tr>\n",
       "    <tr>\n",
       "      <th>3</th>\n",
       "      <td>981000</td>\n",
       "      <td>spotify:track:7fwXWKdDNI5IutOMc5OKYw</td>\n",
       "      <td>1</td>\n",
       "      <td>981000</td>\n",
       "      <td>2168458</td>\n",
       "    </tr>\n",
       "    <tr>\n",
       "      <th>4</th>\n",
       "      <td>981000</td>\n",
       "      <td>spotify:track:19yIQRLAYMNxmEfdnnQDsS</td>\n",
       "      <td>1</td>\n",
       "      <td>981000</td>\n",
       "      <td>338658</td>\n",
       "    </tr>\n",
       "    <tr>\n",
       "      <th>...</th>\n",
       "      <td>...</td>\n",
       "      <td>...</td>\n",
       "      <td>...</td>\n",
       "      <td>...</td>\n",
       "      <td>...</td>\n",
       "    </tr>\n",
       "    <tr>\n",
       "      <th>66346423</th>\n",
       "      <td>930999</td>\n",
       "      <td>spotify:track:0O45fw2L5vsWpdsOdXwNAR</td>\n",
       "      <td>1</td>\n",
       "      <td>930999</td>\n",
       "      <td>113251</td>\n",
       "    </tr>\n",
       "    <tr>\n",
       "      <th>66346424</th>\n",
       "      <td>930999</td>\n",
       "      <td>spotify:track:08zJpaUQVi9FrKv2e32Bah</td>\n",
       "      <td>1</td>\n",
       "      <td>930999</td>\n",
       "      <td>42084</td>\n",
       "    </tr>\n",
       "    <tr>\n",
       "      <th>66346425</th>\n",
       "      <td>930999</td>\n",
       "      <td>spotify:track:7vx3CJaBaNdvkfz4lpj3IE</td>\n",
       "      <td>1</td>\n",
       "      <td>930999</td>\n",
       "      <td>2243141</td>\n",
       "    </tr>\n",
       "    <tr>\n",
       "      <th>66346426</th>\n",
       "      <td>930999</td>\n",
       "      <td>spotify:track:3wu9ADop1FXdhToPCxwBL8</td>\n",
       "      <td>1</td>\n",
       "      <td>930999</td>\n",
       "      <td>1148930</td>\n",
       "    </tr>\n",
       "    <tr>\n",
       "      <th>66346427</th>\n",
       "      <td>930999</td>\n",
       "      <td>spotify:track:3pfXxHoydFRfD7IBGJTQAN</td>\n",
       "      <td>1</td>\n",
       "      <td>930999</td>\n",
       "      <td>1114919</td>\n",
       "    </tr>\n",
       "  </tbody>\n",
       "</table>\n",
       "<p>66346428 rows × 5 columns</p>\n",
       "</div>"
      ],
      "text/plain": [
       "          playlist_id                             track_uri  rating  \\\n",
       "0              981000  spotify:track:7gKIt3rDGIMJDFVSPBnGmj       1   \n",
       "1              981000  spotify:track:2eAAEa8pxKF7My0EO4rFgR       1   \n",
       "2              981000  spotify:track:5rnFOEEIBIWZ6dhHrY6zHh       1   \n",
       "3              981000  spotify:track:7fwXWKdDNI5IutOMc5OKYw       1   \n",
       "4              981000  spotify:track:19yIQRLAYMNxmEfdnnQDsS       1   \n",
       "...               ...                                   ...     ...   \n",
       "66346423       930999  spotify:track:0O45fw2L5vsWpdsOdXwNAR       1   \n",
       "66346424       930999  spotify:track:08zJpaUQVi9FrKv2e32Bah       1   \n",
       "66346425       930999  spotify:track:7vx3CJaBaNdvkfz4lpj3IE       1   \n",
       "66346426       930999  spotify:track:3wu9ADop1FXdhToPCxwBL8       1   \n",
       "66346427       930999  spotify:track:3pfXxHoydFRfD7IBGJTQAN       1   \n",
       "\n",
       "          playlist_idx  track_idx  \n",
       "0               981000    2170204  \n",
       "1               981000     771276  \n",
       "2               981000    1705086  \n",
       "3               981000    2168458  \n",
       "4               981000     338658  \n",
       "...                ...        ...  \n",
       "66346423        930999     113251  \n",
       "66346424        930999      42084  \n",
       "66346425        930999    2243141  \n",
       "66346426        930999    1148930  \n",
       "66346427        930999    1114919  \n",
       "\n",
       "[66346428 rows x 5 columns]"
      ]
     },
     "execution_count": 19,
     "metadata": {},
     "output_type": "execute_result"
    }
   ],
   "source": [
    "interaction_df"
   ]
  },
  {
   "cell_type": "markdown",
   "id": "706084e4-9bcd-4047-8c7a-5b77d77e164d",
   "metadata": {},
   "source": [
    "# Create Sparse Matrix"
   ]
  },
  {
   "cell_type": "code",
   "execution_count": 8,
   "id": "b14ec86e-00ab-4925-b4c4-925d5a305241",
   "metadata": {},
   "outputs": [
    {
     "name": "stdout",
     "output_type": "stream",
     "text": [
      "(1000000, 2262292)\n"
     ]
    }
   ],
   "source": [
    "# Get the interaction values\n",
    "rows = interaction_df['playlist_idx']\n",
    "cols = interaction_df['track_idx']\n",
    "ratings = interaction_df['rating']\n",
    "\n",
    "# Create sparse matrix\n",
    "interaction_matrix = sparse.csr_matrix((ratings, (rows, cols)), shape=(len(playlists), len(tracks)))\n",
    "\n",
    "# Check the shape of the matrix\n",
    "print(interaction_matrix.shape)"
   ]
  },
  {
   "cell_type": "code",
   "execution_count": 9,
   "id": "a80a2930-8d31-48de-9efa-dd3ed1edd03b",
   "metadata": {},
   "outputs": [
    {
     "data": {
      "text/plain": [
       "<Compressed Sparse Row sparse matrix of dtype 'int64'\n",
       "\twith 65464776 stored elements and shape (1000000, 2262292)>"
      ]
     },
     "execution_count": 9,
     "metadata": {},
     "output_type": "execute_result"
    }
   ],
   "source": [
    "interaction_matrix"
   ]
  },
  {
   "cell_type": "code",
   "execution_count": 10,
   "id": "c61260fa-d2a6-4fd1-981a-772fc0d94934",
   "metadata": {},
   "outputs": [],
   "source": [
    "sparse.save_npz(\"interaction_matrix.npz\", interaction_matrix)"
   ]
  },
  {
   "cell_type": "markdown",
   "id": "c0864096-61d5-47d1-9fe6-7622ef956067",
   "metadata": {},
   "source": [
    "# Check The Sparsity Of Matrix"
   ]
  },
  {
   "cell_type": "code",
   "execution_count": 16,
   "id": "7ac2f671-888e-4a48-b82c-58e2cc474fd8",
   "metadata": {},
   "outputs": [
    {
     "name": "stdout",
     "output_type": "stream",
     "text": [
      "99.99710626320564\n"
     ]
    }
   ],
   "source": [
    "\n",
    "matrix_size = interaction_matrix.shape[0] * interaction_matrix.shape[1]\n",
    "# Count non-zero entries (actual interactions)\n",
    "num_interactions = interaction_matrix.nnz\n",
    "# Calculate sparsity percentage\n",
    "sparsity = 100 * (1 - (num_interactions / matrix_size))\n",
    "\n",
    "print(sparsity)\n"
   ]
  },
  {
   "cell_type": "markdown",
   "id": "19875481-17e0-4113-8b0d-a26e265e9467",
   "metadata": {},
   "source": [
    "## Train/ Test Data Create\n",
    "#####\n",
    "    This function will take in the original user-item matrix and \"mask\" a percentage of the original ratings where a\n",
    "    user-item interaction has taken place for use as a test set. The test set will contain all of the original ratings, \n",
    "    while the training set replaces the specified percentage of them with a zero in the original ratings matrix. \n",
    "    \n",
    "    parameters: \n",
    "    \n",
    "    ratings - the original ratings matrix from which you want to generate a train/test set. Test is just a complete\n",
    "    copy of the original set. This is in the form of a sparse csr_matrix. \n",
    "    \n",
    "    pct_test - The percentage of user-item interactions where an interaction took place that you want to mask in the \n",
    "    training set for later comparison to the test set, which contains all of the original ratings. \n",
    "    \n",
    "    returns:\n",
    "    \n",
    "    training_set - The altered version of the original data with a certain percentage of the user-item pairs \n",
    "    that originally had interaction set back to zero.\n",
    "    \n",
    "    test_set - A copy of the original ratings matrix, unaltered, so it can be used to see how the rank order \n",
    "    compares with the actual interactions.\n",
    "    \n",
    "    user_inds - From the randomly selected user-item indices, which user rows were altered in the training data.\n",
    "    This will be necessary later when evaluating the performance via AUC.\n",
    "    '''"
   ]
  },
  {
   "cell_type": "code",
   "execution_count": 17,
   "id": "f7399c00-645e-42e3-99a8-7c1bdec01b16",
   "metadata": {},
   "outputs": [],
   "source": [
    "import random\n",
    "def make_train(ratings, pct_test = 0.2):\n",
    "    \n",
    "    test_set = ratings.copy() # Make a copy of the original set to be the test set. \n",
    "    test_set[test_set != 0] = 1 # Store the test set as a binary preference matrix\n",
    "    training_set = ratings.copy() # Make a copy of the original data we can alter as our training set. \n",
    "    nonzero_inds = training_set.nonzero() # Find the indices in the ratings data where an interaction exists\n",
    "    nonzero_pairs = list(zip(nonzero_inds[0], nonzero_inds[1])) # Zip these pairs together of user,item index into list\n",
    "    random.seed(0) # Set the random seed to zero for reproducibility\n",
    "    num_samples = int(np.ceil(pct_test*len(nonzero_pairs))) # Round the number of samples needed to the nearest integer\n",
    "    samples = random.sample(nonzero_pairs, num_samples) # Sample a random number of user-item pairs without replacement\n",
    "    user_inds = [index[0] for index in samples] # Get the user row indices\n",
    "    item_inds = [index[1] for index in samples] # Get the item column indices\n",
    "    training_set[user_inds, item_inds] = 0 # Assign all of the randomly chosen user-item pairs to zero\n",
    "    training_set.eliminate_zeros() # Get rid of zeros in sparse array storage after update to save space\n",
    "    return training_set, test_set, list(set(user_inds)) # Output the unique"
   ]
  },
  {
   "cell_type": "markdown",
   "id": "ac83c28b-0da1-49fa-9f7d-c012aefb7915",
   "metadata": {},
   "source": [
    "**Notes:** altered_users is the list of unique playlist IDs which have some of their interaction hidden."
   ]
  },
  {
   "cell_type": "code",
   "execution_count": 18,
   "id": "96c41903-f548-4c1c-bd7e-f9f163a25041",
   "metadata": {},
   "outputs": [],
   "source": [
    "train_matrix, test_matrix, altered_users = make_train(interaction_matrix, pct_test=0.2)"
   ]
  },
  {
   "cell_type": "markdown",
   "id": "20daba2a-fb39-495d-bc78-44e7376e0e03",
   "metadata": {},
   "source": [
    "# Speed Up ALS Algorithm.\n",
    "**Explaination:** Since our last is very slow becausse it has to make over million iterations, we can use Cython and parallelization to speed up"
   ]
  },
  {
   "cell_type": "code",
   "execution_count": 3,
   "id": "ff254981-0113-49e5-849a-4e2ef045320e",
   "metadata": {},
   "outputs": [],
   "source": [
    "import implicit\n",
    "from implicit.als import AlternatingLeastSquares"
   ]
  },
  {
   "cell_type": "markdown",
   "id": "45933be0-c94c-4265-b77e-1f17b8ac40e9",
   "metadata": {},
   "source": [
    "**Note:** Why Implcit library ALS model is fast:\n",
    "* Optimized with Cython: The implicit library uses Cython, which compiles Python code into C, making it much faster.\n",
    "* Parallel Processing: Paralellize the computation across different computer\n",
    "* Efficient Memory Management: The library handles memory more efficiently, reducing overhead.\n",
    "* Algorithmic Optimizations: Includes various optimizations that reduce the number of operations needed for each iteration."
   ]
  },
  {
   "cell_type": "code",
   "execution_count": 8,
   "id": "551991fc-d18f-4498-8b90-51362a4a8481",
   "metadata": {},
   "outputs": [],
   "source": [
    "factors = 20 #number of latent factors\n",
    "regularization = 0.1\n",
    "iterations = 50\n",
    "alpha = 15\n",
    "\n",
    "# Initialize the ALS model\n",
    "model = implicit.als.AlternatingLeastSquares(factors=factors, regularization=regularization, iterations=iterations)"
   ]
  },
  {
   "cell_type": "code",
   "execution_count": 30,
   "id": "435d1f0a-5c46-44f4-865d-d555fe4c8bc6",
   "metadata": {},
   "outputs": [],
   "source": [
    "sparse.save_npz('train_matrix.npz', train_matrix)\n",
    "sparse.save_npz('test_matrix.npz', test_matrix)\n",
    "\n",
    "np.savez('altered_users.npz', altered_users=altered_users)"
   ]
  },
  {
   "cell_type": "markdown",
   "id": "4c2572d1-87b9-43de-9810-49c0a19c31b5",
   "metadata": {},
   "source": [
    "# Training Process\n",
    "**Explaination:** During this training process, the model will begin the to the matrix factorization on the train_matrix( matrix which some of interactions are being hidden "
   ]
  },
  {
   "cell_type": "markdown",
   "id": "9d4c354c-54aa-4e17-a5d8-1db320850c38",
   "metadata": {},
   "source": [
    "By using GPU to train the model, we save up so much time."
   ]
  },
  {
   "cell_type": "code",
   "execution_count": 9,
   "id": "a8db4651-d289-437f-bdb9-b09affd48013",
   "metadata": {},
   "outputs": [
    {
     "data": {
      "application/vnd.jupyter.widget-view+json": {
       "model_id": "14f1b645781547e0a409b9b366b64536",
       "version_major": 2,
       "version_minor": 0
      },
      "text/plain": [
       "  0%|          | 0/50 [00:00<?, ?it/s]"
      ]
     },
     "metadata": {},
     "output_type": "display_data"
    },
    {
     "name": "stdout",
     "output_type": "stream",
     "text": [
      "CPU times: user 29min 59s, sys: 3h 57min 52s, total: 4h 27min 52s\n",
      "Wall time: 8min 57s\n"
     ]
    }
   ],
   "source": [
    "%%time\n",
    "#Fit the model\n",
    "model.fit(train_matrix)"
   ]
  },
  {
   "cell_type": "code",
   "execution_count": 11,
   "id": "c616edd9-5f40-4b62-87f5-0841b1f5c700",
   "metadata": {},
   "outputs": [],
   "source": [
    "import pickle\n",
    "with open(\"trained_model_CF.pkl\", \"wb\") as f:\n",
    "    pickle.dump(model, f)"
   ]
  },
  {
   "cell_type": "code",
   "execution_count": 8,
   "id": "a4ce3f2f-41c0-4eb3-804d-75ad974e128a",
   "metadata": {},
   "outputs": [],
   "source": [
    "#Load the model\n",
    "import pickle\n",
    "with open(\"/home/jovyan/Spotify/trained_model_CF.pkl\", \"rb\") as f:\n",
    "    model = pickle.load(f)"
   ]
  },
  {
   "cell_type": "code",
   "execution_count": 13,
   "id": "d2e21619-ea3f-4538-a36d-2efeb021fe20",
   "metadata": {},
   "outputs": [],
   "source": [
    "user_vecs = model.user_factors\n",
    "item_vecs = model.item_factors"
   ]
  },
  {
   "cell_type": "markdown",
   "id": "2d6294b7-c360-4b6f-912e-788be59355fa",
   "metadata": {},
   "source": [
    "save the variables"
   ]
  },
  {
   "cell_type": "code",
   "execution_count": 17,
   "id": "3c04e62e-34ad-474a-9d2c-8c0d5c1d43ad",
   "metadata": {},
   "outputs": [],
   "source": [
    "import numpy as np\n",
    "np.save('user_vecs.npy', user_vecs)\n",
    "np.save('item_vecs.npy', item_vecs)"
   ]
  },
  {
   "cell_type": "code",
   "execution_count": 18,
   "id": "3e3281d3-e250-4322-a6f4-ae724ff3f6c5",
   "metadata": {},
   "outputs": [],
   "source": [
    "# retreueve variables \n",
    "user_vecs = np.load('/home/jovyan/Spotify/StoredVariables/user_vecs.npy')\n",
    "item_vecs = np.load('/home/jovyan/Spotify/StoredVariables/item_vecs.npy')"
   ]
  },
  {
   "cell_type": "code",
   "execution_count": 19,
   "id": "785357c7-e632-48f5-8a9a-e868aa41af9f",
   "metadata": {},
   "outputs": [
    {
     "name": "stdout",
     "output_type": "stream",
     "text": [
      "playlists-latent vector dimension: (1000000, 20)\n",
      "tracks-latent vector dimension: (2262292, 20)\n"
     ]
    }
   ],
   "source": [
    "print('playlists-latent vector dimension:', user_vecs.shape)\n",
    "print('tracks-latent vector dimension:', item_vecs.shape)"
   ]
  },
  {
   "cell_type": "markdown",
   "id": "0562f70d-d57d-4b65-9ea5-b57a51a93db3",
   "metadata": {},
   "source": [
    "**Note:** These vector represent the user-latent matrix abd item-latent matrix, there are k=20 number of letent factors in these matrix."
   ]
  },
  {
   "cell_type": "code",
   "execution_count": null,
   "id": "36140ad9-3935-400b-8e32-0b4a76828dd2",
   "metadata": {},
   "outputs": [],
   "source": [
    "np.dot(user_vecs , item_vecs.T)"
   ]
  },
  {
   "cell_type": "code",
   "execution_count": 27,
   "id": "1d838d68-3fe2-41c6-93ba-0a051f95a778",
   "metadata": {},
   "outputs": [
    {
     "data": {
      "text/plain": [
       "array([[ 1.3618277e-03, -3.9617908e-03,  9.9558837e-04, ...,\n",
       "         6.6140518e-03,  6.4980127e-03, -1.2205641e-03],\n",
       "       [ 1.2362348e-03,  2.0782896e-03, -6.9503947e-03, ...,\n",
       "        -1.5989727e-03,  4.5161657e-03, -2.3391312e-03],\n",
       "       [ 4.2069903e-05,  1.9816402e-05, -1.6046653e-05, ...,\n",
       "        -1.1606354e-05,  2.7722837e-05, -1.8056815e-05],\n",
       "       ...,\n",
       "       [ 1.4189853e-03, -1.5575235e-03, -1.1973886e-03, ...,\n",
       "        -1.7288451e-03, -2.5112028e-04,  3.4988173e-03],\n",
       "       [ 8.0287813e-05, -3.1563719e-05,  4.2934629e-05, ...,\n",
       "        -1.8698003e-05,  1.7525385e-06,  1.3175889e-05],\n",
       "       [-9.2407361e-05, -1.3404517e-05, -1.3457901e-04, ...,\n",
       "        -1.8812701e-04, -1.3406626e-04,  2.7947837e-05]], dtype=float32)"
      ]
     },
     "execution_count": 27,
     "metadata": {},
     "output_type": "execute_result"
    }
   ],
   "source": [
    "user_vecs"
   ]
  },
  {
   "cell_type": "code",
   "execution_count": 31,
   "id": "eaf6c180-7eb4-4a6b-acab-eb185e58452e",
   "metadata": {},
   "outputs": [
    {
     "data": {
      "text/plain": [
       "array([[ 0.0000000e+00,  0.0000000e+00,  0.0000000e+00, ...,\n",
       "         0.0000000e+00,  0.0000000e+00,  0.0000000e+00],\n",
       "       [ 4.2019007e-04, -3.0564028e-04,  4.6686901e-04, ...,\n",
       "        -2.3443170e-04,  1.3594792e-04, -2.0024566e-04],\n",
       "       [-4.6968160e-04, -2.8554298e-04,  6.6290231e-04, ...,\n",
       "        -3.6986901e-05, -3.6965561e-04,  1.0054124e-04],\n",
       "       ...,\n",
       "       [ 2.9947736e-07,  5.1935382e-07,  1.1191055e-06, ...,\n",
       "        -7.9690602e-07,  3.3849912e-07, -2.3909674e-06],\n",
       "       [-5.7167224e-05, -4.7674027e-04, -7.6377182e-05, ...,\n",
       "        -2.6562830e-04, -3.1905764e-04,  3.4172021e-04],\n",
       "       [ 4.3145070e-04,  5.0962047e-04, -1.8311673e-04, ...,\n",
       "         4.4828854e-04, -2.9734234e-04,  4.6400647e-04]], dtype=float32)"
      ]
     },
     "execution_count": 31,
     "metadata": {},
     "output_type": "execute_result"
    }
   ],
   "source": [
    "item_vecs"
   ]
  },
  {
   "cell_type": "markdown",
   "id": "ba06f83e-b588-46f1-a2b6-90331b2b2dcd",
   "metadata": {},
   "source": [
    "# Evaluating Recommeder System \n"
   ]
  },
  {
   "cell_type": "code",
   "execution_count": 28,
   "id": "5dfe4147-f53f-46e2-aa9f-e0c1829423c5",
   "metadata": {},
   "outputs": [],
   "source": [
    "user_vecs_csr = sparse.csr_matrix(user_vecs)\n",
    "item_vecs_csr = sparse.csr_matrix(item_vecs.T) #item_vec.t:(num feature, num item)"
   ]
  },
  {
   "cell_type": "code",
   "execution_count": 29,
   "id": "5ad208b3-3bb0-4694-afaa-2a8fb5aa40c9",
   "metadata": {},
   "outputs": [],
   "source": [
    "# save the variables\n",
    "sparse.save_npz('user_vecs_csr.npz', user_vecs_csr)\n",
    "sparse.save_npz('item_vecs_csr.npz', item_vecs_csr)"
   ]
  },
  {
   "cell_type": "markdown",
   "id": "da7e266c-f352-4848-8a27-22491710b0cb",
   "metadata": {},
   "source": [
    "# Recommendation System Application"
   ]
  },
  {
   "cell_type": "code",
   "execution_count": 9,
   "id": "7395c5b8-7d05-4cf5-9cc5-22375d159e16",
   "metadata": {},
   "outputs": [],
   "source": [
    "playlist_id = 110\n",
    "recommendations = model.recommend(playlist_id, interaction_matrix[playlist_id], N=6)\n"
   ]
  },
  {
   "cell_type": "code",
   "execution_count": 10,
   "id": "659da8ff-7a31-4113-8ff8-d584b4297acb",
   "metadata": {},
   "outputs": [
    {
     "data": {
      "text/html": [
       "<div>\n",
       "<style scoped>\n",
       "    .dataframe tbody tr th:only-of-type {\n",
       "        vertical-align: middle;\n",
       "    }\n",
       "\n",
       "    .dataframe tbody tr th {\n",
       "        vertical-align: top;\n",
       "    }\n",
       "\n",
       "    .dataframe thead th {\n",
       "        text-align: right;\n",
       "    }\n",
       "</style>\n",
       "<table border=\"1\" class=\"dataframe\">\n",
       "  <thead>\n",
       "    <tr style=\"text-align: right;\">\n",
       "      <th></th>\n",
       "      <th>track_idx</th>\n",
       "      <th>score</th>\n",
       "    </tr>\n",
       "  </thead>\n",
       "  <tbody>\n",
       "    <tr>\n",
       "      <th>0</th>\n",
       "      <td>2256731</td>\n",
       "      <td>0.000074</td>\n",
       "    </tr>\n",
       "    <tr>\n",
       "      <th>1</th>\n",
       "      <td>1873536</td>\n",
       "      <td>0.000073</td>\n",
       "    </tr>\n",
       "    <tr>\n",
       "      <th>2</th>\n",
       "      <td>520944</td>\n",
       "      <td>0.000073</td>\n",
       "    </tr>\n",
       "    <tr>\n",
       "      <th>3</th>\n",
       "      <td>1158068</td>\n",
       "      <td>0.000072</td>\n",
       "    </tr>\n",
       "    <tr>\n",
       "      <th>4</th>\n",
       "      <td>662809</td>\n",
       "      <td>0.000072</td>\n",
       "    </tr>\n",
       "    <tr>\n",
       "      <th>5</th>\n",
       "      <td>1046469</td>\n",
       "      <td>0.000061</td>\n",
       "    </tr>\n",
       "  </tbody>\n",
       "</table>\n",
       "</div>"
      ],
      "text/plain": [
       "   track_idx     score\n",
       "0    2256731  0.000074\n",
       "1    1873536  0.000073\n",
       "2     520944  0.000073\n",
       "3    1158068  0.000072\n",
       "4     662809  0.000072\n",
       "5    1046469  0.000061"
      ]
     },
     "execution_count": 10,
     "metadata": {},
     "output_type": "execute_result"
    }
   ],
   "source": [
    "# Convert the output to a DataFrame\n",
    "recommendations_df = pd.DataFrame({\n",
    "    'track_idx': recommendations[0],\n",
    "    'score': recommendations[1]\n",
    "})\n",
    "\n",
    "recommendations_df"
   ]
  },
  {
   "cell_type": "code",
   "execution_count": 12,
   "id": "16254dfc-9d22-454a-ae40-6740b6a5d182",
   "metadata": {},
   "outputs": [],
   "source": [
    "def cf_recommendations(playlist_id, model, interaction_matrix, interaction_df, tracks_df, N=5):\n",
    "    # Get recommendations from the model\n",
    "    recommendations = model.recommend(playlist_id, interaction_matrix[playlist_id], N=N)\n",
    "    \n",
    "    # Convert the output to a DataFrame\n",
    "    recommendations_df = pd.DataFrame({\n",
    "        'track_idx': recommendations[0],\n",
    "        'score': recommendations[1]\n",
    "    })\n",
    "    \n",
    "   \n",
    "    interaction_df['track_idx'] = interaction_df['track_uri'].astype('category').cat.codes\n",
    "    \n",
    "    # Create a mapping of track_idx to track_uri\n",
    "    idx_to_uri = dict(zip(interaction_df['track_idx'], interaction_df['track_uri']))\n",
    "    \n",
    "    # Map the track indices to track_uris\n",
    "    recommendations_df['track_uri'] = recommendations_df['track_idx'].map(idx_to_uri)\n",
    "    \n",
    "    # Merge with track_af_dataframe to get detailed track information\n",
    "    recommended_tracks = recommendations_df.merge(tracks_df, on='track_uri')\n",
    "\n",
    "    recommended_tracks = recommended_tracks.drop_duplicates(subset=['track_uri'])\n",
    "    \n",
    "   \n",
    "    return recommended_tracks[['track_uri','track_name', 'artist_name', 'album_name', 'score']]"
   ]
  },
  {
   "cell_type": "code",
   "execution_count": 15,
   "id": "9b5dbfc9-0542-402c-a1fb-964d9e971113",
   "metadata": {},
   "outputs": [
    {
     "name": "stdin",
     "output_type": "stream",
     "text": [
      "Enter Playlist ID:  110\n"
     ]
    },
    {
     "data": {
      "text/html": [
       "<div>\n",
       "<style scoped>\n",
       "    .dataframe tbody tr th:only-of-type {\n",
       "        vertical-align: middle;\n",
       "    }\n",
       "\n",
       "    .dataframe tbody tr th {\n",
       "        vertical-align: top;\n",
       "    }\n",
       "\n",
       "    .dataframe thead th {\n",
       "        text-align: right;\n",
       "    }\n",
       "</style>\n",
       "<table border=\"1\" class=\"dataframe\">\n",
       "  <thead>\n",
       "    <tr style=\"text-align: right;\">\n",
       "      <th></th>\n",
       "      <th>track_uri</th>\n",
       "      <th>track_name</th>\n",
       "      <th>artist_name</th>\n",
       "      <th>album_name</th>\n",
       "      <th>score</th>\n",
       "    </tr>\n",
       "  </thead>\n",
       "  <tbody>\n",
       "    <tr>\n",
       "      <th>0</th>\n",
       "      <td>spotify:track:7yq4Qj7cqayVTp3FF9CWbm</td>\n",
       "      <td>Riptide</td>\n",
       "      <td>Vance Joy</td>\n",
       "      <td>Dream Your Life Away</td>\n",
       "      <td>0.000074</td>\n",
       "    </tr>\n",
       "    <tr>\n",
       "      <th>28448</th>\n",
       "      <td>spotify:track:6RrXd9Hph4hYR4bf3dbM6H</td>\n",
       "      <td>My Girl</td>\n",
       "      <td>The Temptations</td>\n",
       "      <td>The Temptations Sing Smokey</td>\n",
       "      <td>0.000073</td>\n",
       "    </tr>\n",
       "    <tr>\n",
       "      <th>45566</th>\n",
       "      <td>spotify:track:1mqlc0vEP9mU1kZgTi6LIQ</td>\n",
       "      <td>September</td>\n",
       "      <td>Earth, Wind &amp; Fire</td>\n",
       "      <td>Now, Then &amp; Forever</td>\n",
       "      <td>0.000073</td>\n",
       "    </tr>\n",
       "    <tr>\n",
       "      <th>68207</th>\n",
       "      <td>spotify:track:3yrSvpt2l1xhsV9Em88Pul</td>\n",
       "      <td>Brown Eyed Girl</td>\n",
       "      <td>Van Morrison</td>\n",
       "      <td>Blowin' Your Mind!</td>\n",
       "      <td>0.000072</td>\n",
       "    </tr>\n",
       "    <tr>\n",
       "      <th>88285</th>\n",
       "      <td>spotify:track:2H3ZUSE54pST4ubRd5FzFR</td>\n",
       "      <td>Ain't No Mountain High Enough</td>\n",
       "      <td>Marvin Gaye</td>\n",
       "      <td>United</td>\n",
       "      <td>0.000072</td>\n",
       "    </tr>\n",
       "  </tbody>\n",
       "</table>\n",
       "</div>"
      ],
      "text/plain": [
       "                                  track_uri                     track_name  \\\n",
       "0      spotify:track:7yq4Qj7cqayVTp3FF9CWbm                        Riptide   \n",
       "28448  spotify:track:6RrXd9Hph4hYR4bf3dbM6H                        My Girl   \n",
       "45566  spotify:track:1mqlc0vEP9mU1kZgTi6LIQ                      September   \n",
       "68207  spotify:track:3yrSvpt2l1xhsV9Em88Pul                Brown Eyed Girl   \n",
       "88285  spotify:track:2H3ZUSE54pST4ubRd5FzFR  Ain't No Mountain High Enough   \n",
       "\n",
       "              artist_name                   album_name     score  \n",
       "0               Vance Joy         Dream Your Life Away  0.000074  \n",
       "28448     The Temptations  The Temptations Sing Smokey  0.000073  \n",
       "45566  Earth, Wind & Fire          Now, Then & Forever  0.000073  \n",
       "68207        Van Morrison           Blowin' Your Mind!  0.000072  \n",
       "88285         Marvin Gaye                       United  0.000072  "
      ]
     },
     "execution_count": 15,
     "metadata": {},
     "output_type": "execute_result"
    }
   ],
   "source": [
    "playlist_id = int(input(\"Enter Playlist ID: \"))  # Take user input for playlist ID\n",
    "recommended_songs_df = cf_recommendations(playlist_id, model, interaction_matrix, interaction_df, tracks_df, N=5)\n",
    "recommended_songs_df"
   ]
  },
  {
   "cell_type": "code",
   "execution_count": null,
   "id": "9a1d05ed-2137-4940-a0bd-dd75e25b96a7",
   "metadata": {},
   "outputs": [],
   "source": []
  }
 ],
 "metadata": {
  "kernelspec": {
   "display_name": "Python 3 (ipykernel)",
   "language": "python",
   "name": "python3"
  },
  "language_info": {
   "codemirror_mode": {
    "name": "ipython",
    "version": 3
   },
   "file_extension": ".py",
   "mimetype": "text/x-python",
   "name": "python",
   "nbconvert_exporter": "python",
   "pygments_lexer": "ipython3",
   "version": "3.10.12"
  }
 },
 "nbformat": 4,
 "nbformat_minor": 5
}
