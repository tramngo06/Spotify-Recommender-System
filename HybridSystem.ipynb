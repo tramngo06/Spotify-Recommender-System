{
 "cells": [
  {
   "cell_type": "markdown",
   "id": "2486cddb-e095-40fa-a779-72006e707f28",
   "metadata": {},
   "source": [
    "# HYBRID APPROACH: Genres and PlayCount"
   ]
  },
  {
   "cell_type": "markdown",
   "id": "094002aa-8b26-48c0-817d-b7dc403d6bed",
   "metadata": {},
   "source": [
    "In this approach, we will use a Hybrid Recommender System (Content"
   ]
  },
  {
   "cell_type": "code",
   "execution_count": 2,
   "id": "abfd33ca-78a5-45f2-8147-b87e5c3697ef",
   "metadata": {
    "collapsed": true,
    "jupyter": {
     "outputs_hidden": true
    }
   },
   "outputs": [
    {
     "name": "stdout",
     "output_type": "stream",
     "text": [
      "Defaulting to user installation because normal site-packages is not writeable\n",
      "Requirement already satisfied: lightgbm in /home/jovyan/.local/lib/python3.10/site-packages (4.6.0)\n",
      "Requirement already satisfied: numpy>=1.17.0 in /home/jovyan/.local/lib/python3.10/site-packages (from lightgbm) (2.0.2)\n",
      "Requirement already satisfied: scipy in /usr/local/lib/python3.10/dist-packages (from lightgbm) (1.15.1)\n",
      "\n",
      "\u001b[1m[\u001b[0m\u001b[34;49mnotice\u001b[0m\u001b[1;39;49m]\u001b[0m\u001b[39;49m A new release of pip is available: \u001b[0m\u001b[31;49m25.0\u001b[0m\u001b[39;49m -> \u001b[0m\u001b[32;49m25.0.1\u001b[0m\n",
      "\u001b[1m[\u001b[0m\u001b[34;49mnotice\u001b[0m\u001b[1;39;49m]\u001b[0m\u001b[39;49m To update, run: \u001b[0m\u001b[32;49mpython3 -m pip install --upgrade pip\u001b[0m\n",
      "Note: you may need to restart the kernel to use updated packages.\n"
     ]
    }
   ],
   "source": [
    "pip install lightgbm"
   ]
  },
  {
   "cell_type": "markdown",
   "id": "5b81eedd-9f92-4978-993c-fc0c80bf4419",
   "metadata": {},
   "source": [
    "## 1. Getting All The Needed Dataset"
   ]
  },
  {
   "cell_type": "code",
   "execution_count": 1,
   "id": "43072651-73cf-4ee3-b56c-d9ce8193bf32",
   "metadata": {},
   "outputs": [],
   "source": [
    "import pandas as pd\n",
    "import numpy as np\n",
    "import matplotlib.pyplot as plt\n",
    "from sklearn.feature_extraction.text import TfidfVectorizer\n",
    "from sklearn.metrics.pairwise import cosine_similarity\n",
    "from sklearn.metrics import ndcg_score\n",
    "from sklearn.preprocessing import MultiLabelBinarizer\n",
    "from collections import Counter\n",
    "from sklearn.metrics.pairwise import cosine_similarity"
   ]
  },
  {
   "cell_type": "code",
   "execution_count": 2,
   "id": "6356d6a8-f510-426e-adb8-326e701c0214",
   "metadata": {},
   "outputs": [],
   "source": [
    "unique_artists_df = pd.read_pickle('unique_artists_df.pkl')\n",
    "playlists_genres_df = pd.read_pickle('playlists_genres_df.pkl')\n",
    "playlist_genres_dup= pd.read_pickle('playlist_genres_dup.pkl')\n",
    "tracks_df = pd.read_csv('tracks_df.csv')\n",
    "common_genres = np.load(\"common_genres.npy\", allow_pickle=True)\n",
    "common_genres = common_genres.tolist()\n",
    "artist_vectors = np.load(\"artist_vectors.npy\", allow_pickle=True)\n",
    "merged_df = pd.read_csv('merged_df')"
   ]
  },
  {
   "cell_type": "code",
   "execution_count": null,
   "id": "34c28cd2-f54f-4354-8330-5a8508dd60c6",
   "metadata": {},
   "outputs": [],
   "source": [
    "merged_pcount_genresf= pd.read_csv('/home/jovyan/Spotify/merged_pcount_genres.csv')"
   ]
  },
  {
   "cell_type": "code",
   "execution_count": null,
   "id": "69f1b58d-0581-49f7-a085-308a768cfcc9",
   "metadata": {},
   "outputs": [],
   "source": [
    "merged_mil_df= pd.read_csv('/home/jovyan/Spotify/merged_mil_df .csv')"
   ]
  },
  {
   "cell_type": "code",
   "execution_count": 5,
   "id": "3684a854-a0e9-4d21-b930-c12cd9ec6a5d",
   "metadata": {},
   "outputs": [],
   "source": [
    "merged_pcount_genres = merged_mil_df.merge(unique_artists_df[['artist_name', 'genres']], on='artist_name', how='inner')"
   ]
  },
  {
   "cell_type": "code",
   "execution_count": null,
   "id": "15efc603-0d2a-4273-bd87-a9b550220adb",
   "metadata": {},
   "outputs": [],
   "source": [
    "merged_pcount_genres"
   ]
  },
  {
   "cell_type": "code",
   "execution_count": 9,
   "id": "51635da2-8522-4404-b48d-7c9eef73cfd5",
   "metadata": {},
   "outputs": [],
   "source": [
    "merged_pcount_genresf.to_csv('merged_pcount_genres.csv', index=False)"
   ]
  },
  {
   "cell_type": "code",
   "execution_count": 7,
   "id": "e4f251d8-d1c7-4666-9f1d-43e5715e1ee8",
   "metadata": {},
   "outputs": [
    {
     "data": {
      "text/plain": [
       "track_uri       0\n",
       "artist_uri      0\n",
       "artist_name     0\n",
       "track_name     14\n",
       "user_id         0\n",
       "play_count      0\n",
       "genres          0\n",
       "dtype: int64"
      ]
     },
     "execution_count": 7,
     "metadata": {},
     "output_type": "execute_result"
    }
   ],
   "source": [
    "merged_pcount_genresf.isnull().sum()"
   ]
  },
  {
   "cell_type": "code",
   "execution_count": 8,
   "id": "7888f211-ee8d-4135-a4a5-1d777721ec27",
   "metadata": {},
   "outputs": [],
   "source": [
    "merged_pcount_genresf.dropna(subset=['track_name'], inplace=True)"
   ]
  },
  {
   "cell_type": "markdown",
   "id": "b5b7a25f-5267-4d47-a799-11700ed15abf",
   "metadata": {},
   "source": [
    "## 2. Getting Content-Based System "
   ]
  },
  {
   "cell_type": "code",
   "execution_count": 11,
   "id": "681e0099-9fc4-48a7-a939-f55464de72a1",
   "metadata": {},
   "outputs": [],
   "source": [
    "def cb_recommend(playlist_pid):\n",
    "    # Retrieve genres of the given playlist\n",
    "    my_all_genres = playlist_genres_dup.loc[playlist_pid, 'genres']\n",
    "    \n",
    "    # Count occurrences of each genre\n",
    "    my_genre_counts = Counter(my_all_genres)\n",
    "    total_genres = len(my_all_genres)\n",
    "\n",
    "    # Compute playlist genre percentage vector\n",
    "    my_vector = []\n",
    "    total_genres = len(my_all_genres)\n",
    "    for genre in common_genres:\n",
    "        count = my_genre_counts.get(genre, 0) #retrieve the value of key (genres) in the dictionaery Counter\n",
    "        percentage = (count / total_genres ) * 100\n",
    "        my_vector.append(percentage)\n",
    "    my_vector = np.array(my_vector)\n",
    "\n",
    "    # Compute cosine similarity with each artist and store the similarity score\n",
    "    similarities = {}\n",
    "    for idx, artist_vector in enumerate(artist_vectors):  \n",
    "        artist_name = unique_artists_df['artist_name'][idx] \n",
    "        similarity = cosine_similarity([my_vector], [artist_vector])\n",
    "        similarities[artist_name] = similarity[0][0]\n",
    "\n",
    "    # Select Top 5 Relevant Artists\n",
    "    sorted_artists = sorted(similarities.items(), key=lambda x: x[1], reverse=True)\n",
    "    top_artists = [artist for artist, _ in sorted_artists[:5]]\n",
    "\n",
    "    # Get tracks not already in the playlist\n",
    "    existing_tracks = set(tracks_df[tracks_df['playlist_pid'] == playlist_pid]['track_uri'])\n",
    "\n",
    "    recommended_songs = []\n",
    "    for artist in top_artists:\n",
    "        if len(recommended_songs) >= 5:\n",
    "            break\n",
    "\n",
    "        artist_songs = tracks_df[tracks_df['artist_name'] == artist]\n",
    "        artist_songs = artist_songs[~artist_songs['track_uri'].isin(existing_tracks)]\n",
    "\n",
    "        if not artist_songs.empty:\n",
    "            top_song = artist_songs.sample(n=1).iloc[0]\n",
    "            score = similarities[artist]  # The similarity score for this artist\n",
    "            recommended_songs.append({\n",
    "                'track_name': top_song['track_name'],\n",
    "                'artist_name': top_song['artist_name'],\n",
    "                'album_name': top_song['album_name'],\n",
    "                'similarity_score': score  \n",
    "            })\n",
    "\n",
    "    # Create a DataFrame to display the recommended songs with their scores\n",
    "    recommended_songs_df = pd.DataFrame(recommended_songs)\n",
    "    return recommended_songs_df\n"
   ]
  },
  {
   "cell_type": "code",
   "execution_count": 7,
   "id": "4870c13d-89b6-4fd7-a15f-0d17dd18e994",
   "metadata": {},
   "outputs": [
    {
     "name": "stdin",
     "output_type": "stream",
     "text": [
      "What Is Your Playlist ID?:  110\n"
     ]
    },
    {
     "data": {
      "text/html": [
       "<div>\n",
       "<style scoped>\n",
       "    .dataframe tbody tr th:only-of-type {\n",
       "        vertical-align: middle;\n",
       "    }\n",
       "\n",
       "    .dataframe tbody tr th {\n",
       "        vertical-align: top;\n",
       "    }\n",
       "\n",
       "    .dataframe thead th {\n",
       "        text-align: right;\n",
       "    }\n",
       "</style>\n",
       "<table border=\"1\" class=\"dataframe\">\n",
       "  <thead>\n",
       "    <tr style=\"text-align: right;\">\n",
       "      <th></th>\n",
       "      <th>track_name</th>\n",
       "      <th>artist_name</th>\n",
       "      <th>album_name</th>\n",
       "      <th>similarity_score</th>\n",
       "    </tr>\n",
       "  </thead>\n",
       "  <tbody>\n",
       "    <tr>\n",
       "      <th>0</th>\n",
       "      <td>Soy un Truhán, Soy un Señor</td>\n",
       "      <td>Julio Iglesias</td>\n",
       "      <td>A MIS 33 AÑOS</td>\n",
       "      <td>0.80268</td>\n",
       "    </tr>\n",
       "    <tr>\n",
       "      <th>1</th>\n",
       "      <td>Amor Libre</td>\n",
       "      <td>Camilo Sesto</td>\n",
       "      <td>20 Grandes Exitos</td>\n",
       "      <td>0.80268</td>\n",
       "    </tr>\n",
       "    <tr>\n",
       "      <th>2</th>\n",
       "      <td>Madalena</td>\n",
       "      <td>Ivan Lins</td>\n",
       "      <td>Cantando Historias Ivan Lins</td>\n",
       "      <td>0.80268</td>\n",
       "    </tr>\n",
       "    <tr>\n",
       "      <th>3</th>\n",
       "      <td>Hasta Siempre, Comandante (Song for Che Guevara)</td>\n",
       "      <td>Carlos Puebla</td>\n",
       "      <td>Cancion Protesta: Protest Songs of Latin America</td>\n",
       "      <td>0.77827</td>\n",
       "    </tr>\n",
       "    <tr>\n",
       "      <th>4</th>\n",
       "      <td>Balada (Tchê Tcherere Tchê Tchê)</td>\n",
       "      <td>Gusttavo Lima</td>\n",
       "      <td>E Você</td>\n",
       "      <td>0.77827</td>\n",
       "    </tr>\n",
       "  </tbody>\n",
       "</table>\n",
       "</div>"
      ],
      "text/plain": [
       "                                         track_name     artist_name  \\\n",
       "0                       Soy un Truhán, Soy un Señor  Julio Iglesias   \n",
       "1                                        Amor Libre    Camilo Sesto   \n",
       "2                                          Madalena       Ivan Lins   \n",
       "3  Hasta Siempre, Comandante (Song for Che Guevara)   Carlos Puebla   \n",
       "4                  Balada (Tchê Tcherere Tchê Tchê)   Gusttavo Lima   \n",
       "\n",
       "                                         album_name  similarity_score  \n",
       "0                                     A MIS 33 AÑOS           0.80268  \n",
       "1                                 20 Grandes Exitos           0.80268  \n",
       "2                      Cantando Historias Ivan Lins           0.80268  \n",
       "3  Cancion Protesta: Protest Songs of Latin America           0.77827  \n",
       "4                                            E Você           0.77827  "
      ]
     },
     "execution_count": 7,
     "metadata": {},
     "output_type": "execute_result"
    }
   ],
   "source": [
    "playlist_pid = input(\"What Is Your Playlist ID?: \")\n",
    "recommended_songs = cb_recommend(int(playlist_pid))\n",
    "recommended_songs"
   ]
  },
  {
   "cell_type": "markdown",
   "id": "0a1a48ae-c252-4a77-9e5f-397280bc099a",
   "metadata": {},
   "source": [
    "## 3. Creating Collaborative-Filtering System."
   ]
  },
  {
   "cell_type": "markdown",
   "id": "14aca34c-5517-4017-9224-70c1bd16daec",
   "metadata": {},
   "source": [
    "### 3.1 Load The Pre-Trained Model."
   ]
  },
  {
   "cell_type": "code",
   "execution_count": 14,
   "id": "a8f171f3-a570-4dbc-80b5-95e5af965273",
   "metadata": {},
   "outputs": [],
   "source": [
    "#Load the model\n",
    "import pickle\n",
    "with open(\"/home/jovyan/Spotify/trained_model_CF.pkl\", \"rb\") as f:\n",
    "    model = pickle.load(f)"
   ]
  },
  {
   "cell_type": "code",
   "execution_count": 15,
   "id": "e6d81166-b5ad-4f3a-b75b-6d98cc289977",
   "metadata": {},
   "outputs": [],
   "source": [
    "interaction_df = pd.read_csv('interaction_df.csv')\n",
    "import scipy.sparse as sparse\n",
    "interaction_matrix = sparse.load_npz(\"interaction_matrix.npz\")"
   ]
  },
  {
   "cell_type": "code",
   "execution_count": 14,
   "id": "b02afe79-2dc2-4a1a-b4d1-ecc95004c405",
   "metadata": {},
   "outputs": [],
   "source": [
    "def cf_recommendations(playlist_id, model, interaction_matrix, interaction_df, track_af_dataframe, N=5):\n",
    "    # Get recommendations from the model\n",
    "    recommendations = model.recommend(playlist_id, interaction_matrix[playlist_id], N=N)\n",
    "    \n",
    "    # Convert the output to a DataFrame\n",
    "    recommendations_df = pd.DataFrame({\n",
    "        'track_idx': recommendations[0],\n",
    "        'score': recommendations[1]\n",
    "    })\n",
    "    \n",
    "   \n",
    "    interaction_df['track_idx'] = interaction_df['track_uri'].astype('category').cat.codes\n",
    "    \n",
    "    # Create a mapping of track_idx to track_uri\n",
    "    idx_to_uri = dict(zip(interaction_df['track_idx'], interaction_df['track_uri']))\n",
    "    \n",
    "    # Map the track indices to track_uris\n",
    "    recommendations_df['track_uri'] = recommendations_df['track_idx'].map(idx_to_uri)\n",
    "    \n",
    "    # Merge with track_af_dataframe to get detailed track information\n",
    "    recommended_tracks = recommendations_df.merge(track_af_dataframe, on='track_uri')\n",
    "\n",
    "    recommended_tracks = recommended_tracks.drop_duplicates(subset=['track_uri'])\n",
    "    \n",
    "   \n",
    "    return recommended_tracks[['track_uri','track_name', 'artist_name', 'album_name', 'score']]"
   ]
  },
  {
   "cell_type": "code",
   "execution_count": 12,
   "id": "695fabd8-2e46-4110-ab52-81eaf8bbdbbb",
   "metadata": {},
   "outputs": [
    {
     "name": "stdin",
     "output_type": "stream",
     "text": [
      "Enter Playlist ID:  110\n"
     ]
    },
    {
     "data": {
      "text/html": [
       "<div>\n",
       "<style scoped>\n",
       "    .dataframe tbody tr th:only-of-type {\n",
       "        vertical-align: middle;\n",
       "    }\n",
       "\n",
       "    .dataframe tbody tr th {\n",
       "        vertical-align: top;\n",
       "    }\n",
       "\n",
       "    .dataframe thead th {\n",
       "        text-align: right;\n",
       "    }\n",
       "</style>\n",
       "<table border=\"1\" class=\"dataframe\">\n",
       "  <thead>\n",
       "    <tr style=\"text-align: right;\">\n",
       "      <th></th>\n",
       "      <th>track_uri</th>\n",
       "      <th>track_name</th>\n",
       "      <th>artist_name</th>\n",
       "      <th>album_name</th>\n",
       "      <th>score</th>\n",
       "    </tr>\n",
       "  </thead>\n",
       "  <tbody>\n",
       "    <tr>\n",
       "      <th>0</th>\n",
       "      <td>spotify:track:7yq4Qj7cqayVTp3FF9CWbm</td>\n",
       "      <td>Riptide</td>\n",
       "      <td>Vance Joy</td>\n",
       "      <td>Dream Your Life Away</td>\n",
       "      <td>0.000074</td>\n",
       "    </tr>\n",
       "    <tr>\n",
       "      <th>28448</th>\n",
       "      <td>spotify:track:6RrXd9Hph4hYR4bf3dbM6H</td>\n",
       "      <td>My Girl</td>\n",
       "      <td>The Temptations</td>\n",
       "      <td>The Temptations Sing Smokey</td>\n",
       "      <td>0.000073</td>\n",
       "    </tr>\n",
       "    <tr>\n",
       "      <th>45566</th>\n",
       "      <td>spotify:track:1mqlc0vEP9mU1kZgTi6LIQ</td>\n",
       "      <td>September</td>\n",
       "      <td>Earth, Wind &amp; Fire</td>\n",
       "      <td>Now, Then &amp; Forever</td>\n",
       "      <td>0.000073</td>\n",
       "    </tr>\n",
       "    <tr>\n",
       "      <th>68207</th>\n",
       "      <td>spotify:track:3yrSvpt2l1xhsV9Em88Pul</td>\n",
       "      <td>Brown Eyed Girl</td>\n",
       "      <td>Van Morrison</td>\n",
       "      <td>Blowin' Your Mind!</td>\n",
       "      <td>0.000072</td>\n",
       "    </tr>\n",
       "    <tr>\n",
       "      <th>88285</th>\n",
       "      <td>spotify:track:2H3ZUSE54pST4ubRd5FzFR</td>\n",
       "      <td>Ain't No Mountain High Enough</td>\n",
       "      <td>Marvin Gaye</td>\n",
       "      <td>United</td>\n",
       "      <td>0.000072</td>\n",
       "    </tr>\n",
       "  </tbody>\n",
       "</table>\n",
       "</div>"
      ],
      "text/plain": [
       "                                  track_uri                     track_name  \\\n",
       "0      spotify:track:7yq4Qj7cqayVTp3FF9CWbm                        Riptide   \n",
       "28448  spotify:track:6RrXd9Hph4hYR4bf3dbM6H                        My Girl   \n",
       "45566  spotify:track:1mqlc0vEP9mU1kZgTi6LIQ                      September   \n",
       "68207  spotify:track:3yrSvpt2l1xhsV9Em88Pul                Brown Eyed Girl   \n",
       "88285  spotify:track:2H3ZUSE54pST4ubRd5FzFR  Ain't No Mountain High Enough   \n",
       "\n",
       "              artist_name                   album_name     score  \n",
       "0               Vance Joy         Dream Your Life Away  0.000074  \n",
       "28448     The Temptations  The Temptations Sing Smokey  0.000073  \n",
       "45566  Earth, Wind & Fire          Now, Then & Forever  0.000073  \n",
       "68207        Van Morrison           Blowin' Your Mind!  0.000072  \n",
       "88285         Marvin Gaye                       United  0.000072  "
      ]
     },
     "execution_count": 12,
     "metadata": {},
     "output_type": "execute_result"
    }
   ],
   "source": [
    "playlist_id = int(input(\"Enter Playlist ID: \"))  # Take user input for playlist ID\n",
    "recommended_songs_df = cf_recommendations(playlist_id, model, interaction_matrix, interaction_df, tracks_df, N=5)\n",
    "recommended_songs_df"
   ]
  },
  {
   "cell_type": "markdown",
   "id": "00a10e9a-a170-423d-a57b-45d569788166",
   "metadata": {},
   "source": [
    "# 4. HYBRID RECOMMENDER SYSTEM"
   ]
  },
  {
   "cell_type": "code",
   "execution_count": 17,
   "id": "17176b1a-e3cb-49f8-9272-c9e2080d659f",
   "metadata": {},
   "outputs": [],
   "source": [
    "from sklearn.preprocessing import MinMaxScaler\n",
    "\n",
    "def hybrid_recommend(playlist_pid, model, interaction_matrix, interaction_df, track_af_dataframe, cb_weight=0.5, cf_weight=0.5, N=5):\n",
    "    # Get Content-Based recommendations\n",
    "    cb_df = cb_recommend(playlist_pid)\n",
    "    \n",
    "    # Get Collaborative Filtering recommendations\n",
    "    cf_df = cf_recommendations(playlist_pid, model, interaction_matrix, interaction_df, track_af_dataframe, N=100)\n",
    "    \n",
    "    # Normalize similarity scores for both methods\n",
    "    cb_df['similarity_score'] = MinMaxScaler().fit_transform(cb_df[['similarity_score']])\n",
    "    cf_df['score'] = MinMaxScaler().fit_transform(cf_df[['score']])\n",
    "    \n",
    "    # Merge both DataFrames on track_uri (track name can also be used)\n",
    "    hybrid_df = cb_df.merge(cf_df, on=['track_name', 'artist_name', 'album_name'], how='outer')\n",
    "    \n",
    "    # Fill missing scores with 0 (for tracks that appear in only one method)\n",
    "    hybrid_df['similarity_score'] = hybrid_df['similarity_score'].fillna(0)\n",
    "    hybrid_df['score'] = hybrid_df['score'].fillna(0)\n",
    "\n",
    "    \n",
    "    # Compute final hybrid score\n",
    "    hybrid_df['final_score'] = (cb_weight * hybrid_df['similarity_score']) + (cf_weight * hybrid_df['score'])\n",
    "    \n",
    "    # Sort and return top N recommendations\n",
    "    hybrid_df = hybrid_df.sort_values(by='final_score', ascending=False).head(N)\n",
    "    \n",
    "    return hybrid_df[['track_name', 'artist_name', 'album_name', 'final_score']]\n"
   ]
  },
  {
   "cell_type": "code",
   "execution_count": 18,
   "id": "a7cfb728-56fa-411b-a807-4fdae4535221",
   "metadata": {},
   "outputs": [
    {
     "name": "stdin",
     "output_type": "stream",
     "text": [
      "Enter Playlist ID:  110\n"
     ]
    },
    {
     "data": {
      "text/html": [
       "<div>\n",
       "<style scoped>\n",
       "    .dataframe tbody tr th:only-of-type {\n",
       "        vertical-align: middle;\n",
       "    }\n",
       "\n",
       "    .dataframe tbody tr th {\n",
       "        vertical-align: top;\n",
       "    }\n",
       "\n",
       "    .dataframe thead th {\n",
       "        text-align: right;\n",
       "    }\n",
       "</style>\n",
       "<table border=\"1\" class=\"dataframe\">\n",
       "  <thead>\n",
       "    <tr style=\"text-align: right;\">\n",
       "      <th></th>\n",
       "      <th>track_name</th>\n",
       "      <th>artist_name</th>\n",
       "      <th>album_name</th>\n",
       "      <th>final_score</th>\n",
       "    </tr>\n",
       "  </thead>\n",
       "  <tbody>\n",
       "    <tr>\n",
       "      <th>68</th>\n",
       "      <td>Riptide</td>\n",
       "      <td>Vance Joy</td>\n",
       "      <td>Dream Your Life Away</td>\n",
       "      <td>0.500000</td>\n",
       "    </tr>\n",
       "    <tr>\n",
       "      <th>104</th>\n",
       "      <td>¿Quieres Ser Mi Amante?</td>\n",
       "      <td>Camilo Sesto</td>\n",
       "      <td>Camilo</td>\n",
       "      <td>0.500000</td>\n",
       "    </tr>\n",
       "    <tr>\n",
       "      <th>96</th>\n",
       "      <td>Vitoriosa</td>\n",
       "      <td>Ivan Lins</td>\n",
       "      <td>Nova Bis - Ivan Lins</td>\n",
       "      <td>0.500000</td>\n",
       "    </tr>\n",
       "    <tr>\n",
       "      <th>47</th>\n",
       "      <td>La Carretera</td>\n",
       "      <td>Julio Iglesias</td>\n",
       "      <td>1, Volumen 1</td>\n",
       "      <td>0.500000</td>\n",
       "    </tr>\n",
       "    <tr>\n",
       "      <th>58</th>\n",
       "      <td>My Girl</td>\n",
       "      <td>The Temptations</td>\n",
       "      <td>The Temptations Sing Smokey</td>\n",
       "      <td>0.492453</td>\n",
       "    </tr>\n",
       "  </tbody>\n",
       "</table>\n",
       "</div>"
      ],
      "text/plain": [
       "                  track_name      artist_name                   album_name  \\\n",
       "68                   Riptide        Vance Joy         Dream Your Life Away   \n",
       "104  ¿Quieres Ser Mi Amante?     Camilo Sesto                       Camilo   \n",
       "96                 Vitoriosa        Ivan Lins         Nova Bis - Ivan Lins   \n",
       "47              La Carretera   Julio Iglesias                 1, Volumen 1   \n",
       "58                   My Girl  The Temptations  The Temptations Sing Smokey   \n",
       "\n",
       "     final_score  \n",
       "68      0.500000  \n",
       "104     0.500000  \n",
       "96      0.500000  \n",
       "47      0.500000  \n",
       "58      0.492453  "
      ]
     },
     "execution_count": 18,
     "metadata": {},
     "output_type": "execute_result"
    }
   ],
   "source": [
    "playlist_id = int(input(\"Enter Playlist ID: \"))  # Take user input for playlist ID\n",
    "recommended_songs_h = hybrid_recommend(playlist_id ,model, interaction_matrix, interaction_df, tracks_df, cb_weight=0.5, cf_weight=0.5, N=5)\n",
    "recommended_songs_h"
   ]
  },
  {
   "cell_type": "markdown",
   "id": "2a8dce67-27d9-435d-83ee-9b17980601b2",
   "metadata": {},
   "source": [
    "## Why can't we use CF system to test on new playlist?\n",
    "\n",
    "Because it uses ALS model to train on the existing dataset, so it can predict which playlist is close to which one. So the new dataset have to be added in the dataset (or if the new plalist cvontains song already in the dataset). Then, we have to retrain the model. "
   ]
  }
 ],
 "metadata": {
  "kernelspec": {
   "display_name": "Python 3 (ipykernel)",
   "language": "python",
   "name": "python3"
  },
  "language_info": {
   "codemirror_mode": {
    "name": "ipython",
    "version": 3
   },
   "file_extension": ".py",
   "mimetype": "text/x-python",
   "name": "python",
   "nbconvert_exporter": "python",
   "pygments_lexer": "ipython3",
   "version": "3.10.12"
  }
 },
 "nbformat": 4,
 "nbformat_minor": 5
}
