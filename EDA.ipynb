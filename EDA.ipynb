{
 "cells": [
  {
   "cell_type": "markdown",
   "id": "d2d946a4-9ac7-4de4-9cb2-e8b8321b7706",
   "metadata": {
    "editable": true,
    "slideshow": {
     "slide_type": ""
    },
    "tags": []
   },
   "source": [
    "#### Here are some EDA on 1,000,000 playlists. \n",
    "* Understanding the data structure\n",
    "* Handling missing value\n",
    "* Performing Data Tranformation\n",
    "* Visualize Data Relationship\n",
    "\n",
    "#### Data Visualization Topics:\n",
    "* Top 50 Most Popular Playlists\n",
    "* Top 10 Popular Artists\n",
    "* Top 10 Energetic Tracks\n",
    "* Top Artists With The Most Danceability Tracks\n",
    "* Top 50 Intrumentalness Tracks\n",
    "* Most trending Gernes\n",
    "* Top 10 Happy/Sad Tracks "
   ]
  },
  {
   "cell_type": "code",
   "execution_count": 1,
   "id": "d9f61766-60a0-4ffb-af23-b5cb28d07100",
   "metadata": {},
   "outputs": [],
   "source": [
    "import pandas as pd\n",
    "import matplotlib.pyplot as plt\n",
    "import seaborn as sns\n",
    "from collections import Counter"
   ]
  },
  {
   "cell_type": "markdown",
   "id": "ddc3288d-386a-4a6e-b5bf-1d4623af9177",
   "metadata": {},
   "source": [
    "# Part I: Overview The Dataset"
   ]
  },
  {
   "cell_type": "code",
   "execution_count": 2,
   "id": "11301db8-0c1e-4da0-9c35-486fb976fee9",
   "metadata": {},
   "outputs": [],
   "source": [
    "playlists_df = pd.read_csv('playlists_df.csv')"
   ]
  },
  {
   "cell_type": "code",
   "execution_count": 3,
   "id": "f8f0e0cc-5ae4-4c6c-8640-c325d4bbf484",
   "metadata": {},
   "outputs": [],
   "source": [
    "tracks_df = pd.read_csv('tracks_df.csv')"
   ]
  },
  {
   "cell_type": "code",
   "execution_count": null,
   "id": "07992dfe-db0b-4c64-9249-679cbc6acc5b",
   "metadata": {},
   "outputs": [],
   "source": [
    "spotifymilsongs.to_csv('spotifymilsongs.csv', index=False)"
   ]
  },
  {
   "cell_type": "markdown",
   "id": "11ac54e6-eab2-4ee4-83a7-9a9675b95ee9",
   "metadata": {},
   "source": [
    "# Part II: EDA ( Exploratory Data Analysis)"
   ]
  },
  {
   "cell_type": "markdown",
   "id": "1bf42781-82d8-4627-bb04-e6f2c23d6f59",
   "metadata": {},
   "source": [
    "## 1. Playlists Level \n",
    "**Description:** This is the dataframe contain only playlists along 24 json files. Here are the variables (metadata included) inside each playlist). Tracks column represent the list of track's metadata."
   ]
  },
  {
   "cell_type": "code",
   "execution_count": 5,
   "id": "62d9e99e-ff25-42a9-96b7-83b59c6f96bb",
   "metadata": {},
   "outputs": [
    {
     "data": {
      "text/html": [
       "<div>\n",
       "<style scoped>\n",
       "    .dataframe tbody tr th:only-of-type {\n",
       "        vertical-align: middle;\n",
       "    }\n",
       "\n",
       "    .dataframe tbody tr th {\n",
       "        vertical-align: top;\n",
       "    }\n",
       "\n",
       "    .dataframe thead th {\n",
       "        text-align: right;\n",
       "    }\n",
       "</style>\n",
       "<table border=\"1\" class=\"dataframe\">\n",
       "  <thead>\n",
       "    <tr style=\"text-align: right;\">\n",
       "      <th></th>\n",
       "      <th>name</th>\n",
       "      <th>collaborative</th>\n",
       "      <th>pid</th>\n",
       "      <th>modified_at</th>\n",
       "      <th>num_tracks</th>\n",
       "      <th>num_albums</th>\n",
       "      <th>num_followers</th>\n",
       "      <th>tracks</th>\n",
       "      <th>num_edits</th>\n",
       "      <th>duration_ms</th>\n",
       "      <th>num_artists</th>\n",
       "      <th>description</th>\n",
       "    </tr>\n",
       "  </thead>\n",
       "  <tbody>\n",
       "    <tr>\n",
       "      <th>0</th>\n",
       "      <td>life</td>\n",
       "      <td>False</td>\n",
       "      <td>981000</td>\n",
       "      <td>1507766400</td>\n",
       "      <td>86</td>\n",
       "      <td>77</td>\n",
       "      <td>1</td>\n",
       "      <td>[{'pos': 0, 'artist_name': 'Nicki Minaj', 'tra...</td>\n",
       "      <td>2</td>\n",
       "      <td>18075322</td>\n",
       "      <td>65</td>\n",
       "      <td>NaN</td>\n",
       "    </tr>\n",
       "    <tr>\n",
       "      <th>1</th>\n",
       "      <td>New Folk</td>\n",
       "      <td>False</td>\n",
       "      <td>981001</td>\n",
       "      <td>1421539200</td>\n",
       "      <td>85</td>\n",
       "      <td>43</td>\n",
       "      <td>1</td>\n",
       "      <td>[{'pos': 0, 'artist_name': 'Mumford &amp; Sons', '...</td>\n",
       "      <td>31</td>\n",
       "      <td>16711273</td>\n",
       "      <td>38</td>\n",
       "      <td>NaN</td>\n",
       "    </tr>\n",
       "    <tr>\n",
       "      <th>2</th>\n",
       "      <td>rock</td>\n",
       "      <td>False</td>\n",
       "      <td>981002</td>\n",
       "      <td>1497744000</td>\n",
       "      <td>49</td>\n",
       "      <td>44</td>\n",
       "      <td>1</td>\n",
       "      <td>[{'pos': 0, 'artist_name': 'a-ha', 'track_uri'...</td>\n",
       "      <td>6</td>\n",
       "      <td>12050389</td>\n",
       "      <td>39</td>\n",
       "      <td>NaN</td>\n",
       "    </tr>\n",
       "    <tr>\n",
       "      <th>3</th>\n",
       "      <td>Rock</td>\n",
       "      <td>False</td>\n",
       "      <td>981003</td>\n",
       "      <td>1475884800</td>\n",
       "      <td>21</td>\n",
       "      <td>18</td>\n",
       "      <td>1</td>\n",
       "      <td>[{'pos': 0, 'artist_name': 'Good With Grenades...</td>\n",
       "      <td>4</td>\n",
       "      <td>5461213</td>\n",
       "      <td>16</td>\n",
       "      <td>NaN</td>\n",
       "    </tr>\n",
       "    <tr>\n",
       "      <th>4</th>\n",
       "      <td>Litty</td>\n",
       "      <td>False</td>\n",
       "      <td>981004</td>\n",
       "      <td>1509321600</td>\n",
       "      <td>205</td>\n",
       "      <td>150</td>\n",
       "      <td>1</td>\n",
       "      <td>[{'pos': 0, 'artist_name': 'Kendrick Lamar', '...</td>\n",
       "      <td>45</td>\n",
       "      <td>45534634</td>\n",
       "      <td>105</td>\n",
       "      <td>NaN</td>\n",
       "    </tr>\n",
       "  </tbody>\n",
       "</table>\n",
       "</div>"
      ],
      "text/plain": [
       "       name  collaborative     pid  modified_at  num_tracks  num_albums  \\\n",
       "0      life          False  981000   1507766400          86          77   \n",
       "1  New Folk          False  981001   1421539200          85          43   \n",
       "2      rock          False  981002   1497744000          49          44   \n",
       "3      Rock          False  981003   1475884800          21          18   \n",
       "4     Litty          False  981004   1509321600         205         150   \n",
       "\n",
       "   num_followers                                             tracks  \\\n",
       "0              1  [{'pos': 0, 'artist_name': 'Nicki Minaj', 'tra...   \n",
       "1              1  [{'pos': 0, 'artist_name': 'Mumford & Sons', '...   \n",
       "2              1  [{'pos': 0, 'artist_name': 'a-ha', 'track_uri'...   \n",
       "3              1  [{'pos': 0, 'artist_name': 'Good With Grenades...   \n",
       "4              1  [{'pos': 0, 'artist_name': 'Kendrick Lamar', '...   \n",
       "\n",
       "   num_edits  duration_ms  num_artists description  \n",
       "0          2     18075322           65         NaN  \n",
       "1         31     16711273           38         NaN  \n",
       "2          6     12050389           39         NaN  \n",
       "3          4      5461213           16         NaN  \n",
       "4         45     45534634          105         NaN  "
      ]
     },
     "execution_count": 5,
     "metadata": {},
     "output_type": "execute_result"
    }
   ],
   "source": [
    "playlists_df.head()"
   ]
  },
  {
   "cell_type": "markdown",
   "id": "c8e59a1c-9bdf-4c23-bb3e-84695af9f5dd",
   "metadata": {},
   "source": [
    "### Getting Inside The Dataset"
   ]
  },
  {
   "cell_type": "code",
   "execution_count": 6,
   "id": "c5112a39-1f4f-4f63-98f4-9390ed1205ef",
   "metadata": {},
   "outputs": [
    {
     "name": "stdout",
     "output_type": "stream",
     "text": [
      "<class 'pandas.core.frame.DataFrame'>\n",
      "RangeIndex: 1000000 entries, 0 to 999999\n",
      "Data columns (total 12 columns):\n",
      " #   Column         Non-Null Count    Dtype \n",
      "---  ------         --------------    ----- \n",
      " 0   name           999989 non-null   object\n",
      " 1   collaborative  1000000 non-null  bool  \n",
      " 2   pid            1000000 non-null  int64 \n",
      " 3   modified_at    1000000 non-null  int64 \n",
      " 4   num_tracks     1000000 non-null  int64 \n",
      " 5   num_albums     1000000 non-null  int64 \n",
      " 6   num_followers  1000000 non-null  int64 \n",
      " 7   tracks         1000000 non-null  object\n",
      " 8   num_edits      1000000 non-null  int64 \n",
      " 9   duration_ms    1000000 non-null  int64 \n",
      " 10  num_artists    1000000 non-null  int64 \n",
      " 11  description    18758 non-null    object\n",
      "dtypes: bool(1), int64(8), object(3)\n",
      "memory usage: 84.9+ MB\n"
     ]
    }
   ],
   "source": [
    "playlists_df.info()"
   ]
  },
  {
   "cell_type": "markdown",
   "id": "0be10542-2c57-4941-93bf-b892f2418908",
   "metadata": {},
   "source": [
    "**Analysis:** \n",
    "* The Dataframe contain 1,000,000 entries corresponds to number of playlists in the dataset, the entries are indexed from 0-999,999\n",
    "* This dataframe shows the metadata at playlists level, which contains 12 columns of playlist's name, collaborative (if the playlists being owned by more than 1 user),...\n",
    "* Most of the columns have completed data, only 11 playlists are unnamed. desciption columns has only 18,758 non-null entries but it doesn't affect that much since description are optional.\n",
    "* This dataframe contains 1 boolean column (collaborative), 8 integer columns, and 3 object columns (written in text)."
   ]
  },
  {
   "cell_type": "code",
   "execution_count": 8,
   "id": "f9737047-caab-41f4-99b6-0dd8a1654f54",
   "metadata": {},
   "outputs": [
    {
     "data": {
      "text/plain": [
       "name               92940\n",
       "collaborative          2\n",
       "pid              1000000\n",
       "modified_at         2294\n",
       "num_tracks           247\n",
       "num_albums           243\n",
       "num_followers        620\n",
       "tracks            998083\n",
       "num_edits            197\n",
       "duration_ms       980790\n",
       "num_artists          231\n",
       "description        18138\n",
       "dtype: int64"
      ]
     },
     "execution_count": 8,
     "metadata": {},
     "output_type": "execute_result"
    }
   ],
   "source": [
    "playlists_df.nunique()"
   ]
  },
  {
   "cell_type": "markdown",
   "id": "aaed2d22-2571-4d5b-a7dc-ba1ae5b65639",
   "metadata": {},
   "source": [
    "**Analysis:** This shows the number of unique entries in each columns. For example:\n",
    "* Name: 92940 name of the playlists are unique, the rest of them has some repeated name for some playlists.\n",
    "* Collaborative: there are only 2 entries since this column is boolean (yes/no).\n",
    "* pid: Playlists IDs should be unique since we use them to idenitfy each playlists\n",
    "* Description: There are only 18,758 playlists has description but there only 18,138 are unique. Therefore, there are 620 playlists who has the exact same description."
   ]
  },
  {
   "cell_type": "code",
   "execution_count": 10,
   "id": "f1487fc9-59f2-4be7-a841-2f090d12fb17",
   "metadata": {},
   "outputs": [
    {
     "data": {
      "text/html": [
       "<div>\n",
       "<style scoped>\n",
       "    .dataframe tbody tr th:only-of-type {\n",
       "        vertical-align: middle;\n",
       "    }\n",
       "\n",
       "    .dataframe tbody tr th {\n",
       "        vertical-align: top;\n",
       "    }\n",
       "\n",
       "    .dataframe thead th {\n",
       "        text-align: right;\n",
       "    }\n",
       "</style>\n",
       "<table border=\"1\" class=\"dataframe\">\n",
       "  <thead>\n",
       "    <tr style=\"text-align: right;\">\n",
       "      <th></th>\n",
       "      <th>pid</th>\n",
       "      <th>modified_at</th>\n",
       "      <th>num_tracks</th>\n",
       "      <th>num_albums</th>\n",
       "      <th>num_followers</th>\n",
       "      <th>num_edits</th>\n",
       "      <th>duration_ms</th>\n",
       "      <th>num_artists</th>\n",
       "    </tr>\n",
       "  </thead>\n",
       "  <tbody>\n",
       "    <tr>\n",
       "      <th>count</th>\n",
       "      <td>1000000.000000</td>\n",
       "      <td>1.000000e+06</td>\n",
       "      <td>1000000.000000</td>\n",
       "      <td>1000000.000000</td>\n",
       "      <td>1000000.000000</td>\n",
       "      <td>1000000.000000</td>\n",
       "      <td>1.000000e+06</td>\n",
       "      <td>1000000.000000</td>\n",
       "    </tr>\n",
       "    <tr>\n",
       "      <th>mean</th>\n",
       "      <td>499999.500000</td>\n",
       "      <td>1.476279e+09</td>\n",
       "      <td>66.346428</td>\n",
       "      <td>49.597278</td>\n",
       "      <td>2.597746</td>\n",
       "      <td>17.655902</td>\n",
       "      <td>1.557968e+07</td>\n",
       "      <td>38.088211</td>\n",
       "    </tr>\n",
       "    <tr>\n",
       "      <th>std</th>\n",
       "      <td>288675.278932</td>\n",
       "      <td>3.666992e+07</td>\n",
       "      <td>53.669358</td>\n",
       "      <td>39.961064</td>\n",
       "      <td>128.851145</td>\n",
       "      <td>20.643254</td>\n",
       "      <td>1.285643e+07</td>\n",
       "      <td>30.282901</td>\n",
       "    </tr>\n",
       "    <tr>\n",
       "      <th>min</th>\n",
       "      <td>0.000000</td>\n",
       "      <td>1.271376e+09</td>\n",
       "      <td>5.000000</td>\n",
       "      <td>2.000000</td>\n",
       "      <td>1.000000</td>\n",
       "      <td>1.000000</td>\n",
       "      <td>9.753800e+04</td>\n",
       "      <td>3.000000</td>\n",
       "    </tr>\n",
       "    <tr>\n",
       "      <th>25%</th>\n",
       "      <td>249999.750000</td>\n",
       "      <td>1.458950e+09</td>\n",
       "      <td>26.000000</td>\n",
       "      <td>20.000000</td>\n",
       "      <td>1.000000</td>\n",
       "      <td>5.000000</td>\n",
       "      <td>5.995383e+06</td>\n",
       "      <td>16.000000</td>\n",
       "    </tr>\n",
       "    <tr>\n",
       "      <th>50%</th>\n",
       "      <td>499999.500000</td>\n",
       "      <td>1.490227e+09</td>\n",
       "      <td>49.000000</td>\n",
       "      <td>37.000000</td>\n",
       "      <td>1.000000</td>\n",
       "      <td>10.000000</td>\n",
       "      <td>1.142244e+07</td>\n",
       "      <td>29.000000</td>\n",
       "    </tr>\n",
       "    <tr>\n",
       "      <th>75%</th>\n",
       "      <td>749999.250000</td>\n",
       "      <td>1.505434e+09</td>\n",
       "      <td>92.000000</td>\n",
       "      <td>68.000000</td>\n",
       "      <td>1.000000</td>\n",
       "      <td>22.000000</td>\n",
       "      <td>2.143369e+07</td>\n",
       "      <td>52.000000</td>\n",
       "    </tr>\n",
       "    <tr>\n",
       "      <th>max</th>\n",
       "      <td>999999.000000</td>\n",
       "      <td>1.509494e+09</td>\n",
       "      <td>376.000000</td>\n",
       "      <td>244.000000</td>\n",
       "      <td>71643.000000</td>\n",
       "      <td>201.000000</td>\n",
       "      <td>6.350738e+08</td>\n",
       "      <td>238.000000</td>\n",
       "    </tr>\n",
       "  </tbody>\n",
       "</table>\n",
       "</div>"
      ],
      "text/plain": [
       "                  pid   modified_at      num_tracks      num_albums  \\\n",
       "count  1000000.000000  1.000000e+06  1000000.000000  1000000.000000   \n",
       "mean    499999.500000  1.476279e+09       66.346428       49.597278   \n",
       "std     288675.278932  3.666992e+07       53.669358       39.961064   \n",
       "min          0.000000  1.271376e+09        5.000000        2.000000   \n",
       "25%     249999.750000  1.458950e+09       26.000000       20.000000   \n",
       "50%     499999.500000  1.490227e+09       49.000000       37.000000   \n",
       "75%     749999.250000  1.505434e+09       92.000000       68.000000   \n",
       "max     999999.000000  1.509494e+09      376.000000      244.000000   \n",
       "\n",
       "        num_followers       num_edits   duration_ms     num_artists  \n",
       "count  1000000.000000  1000000.000000  1.000000e+06  1000000.000000  \n",
       "mean         2.597746       17.655902  1.557968e+07       38.088211  \n",
       "std        128.851145       20.643254  1.285643e+07       30.282901  \n",
       "min          1.000000        1.000000  9.753800e+04        3.000000  \n",
       "25%          1.000000        5.000000  5.995383e+06       16.000000  \n",
       "50%          1.000000       10.000000  1.142244e+07       29.000000  \n",
       "75%          1.000000       22.000000  2.143369e+07       52.000000  \n",
       "max      71643.000000      201.000000  6.350738e+08      238.000000  "
      ]
     },
     "execution_count": 10,
     "metadata": {},
     "output_type": "execute_result"
    }
   ],
   "source": [
    "playlists_df.describe()"
   ]
  },
  {
   "cell_type": "markdown",
   "id": "70ba0940-a1ba-4683-8de9-b90e0f92318e",
   "metadata": {},
   "source": [
    "**Analysis:** This shows the basic statistic on the dataset for each columns. For example: num_tracks\n",
    "* Since every playlists contains different number of tracks (songs), the mean of 66.35 shows that the average number of tracks that each playlist has is approximate 67 tracks/playlist.\n",
    "* The std=53.67 shows that the datapoint are spread out over a wide range from the mean. In other words, some playlists will a very few number of tracks, and some playlists has a lot of tracks.\n",
    "* There are some small playlists which just have 5 songs and there are some big playlists which have 376 songs.                                                      "
   ]
  },
  {
   "cell_type": "markdown",
   "id": "dab8c2b8-619c-45dd-b2f9-3122f82bdee4",
   "metadata": {},
   "source": [
    "### Handling Missing Values"
   ]
  },
  {
   "cell_type": "code",
   "execution_count": 13,
   "id": "e1107f9d-f7f7-472f-bebb-1cf21f122754",
   "metadata": {},
   "outputs": [
    {
     "data": {
      "text/plain": [
       "name                 11\n",
       "collaborative         0\n",
       "pid                   0\n",
       "modified_at           0\n",
       "num_tracks            0\n",
       "num_albums            0\n",
       "num_followers         0\n",
       "tracks                0\n",
       "num_edits             0\n",
       "duration_ms           0\n",
       "num_artists           0\n",
       "description      981242\n",
       "dtype: int64"
      ]
     },
     "execution_count": 13,
     "metadata": {},
     "output_type": "execute_result"
    }
   ],
   "source": [
    "playlists_df.isnull().sum()"
   ]
  },
  {
   "cell_type": "markdown",
   "id": "a79645ec-e0d0-4e53-aa18-b004303480fb",
   "metadata": {},
   "source": [
    "**Analysis:** most of the entries don't have missing value except for 'Description' and 'Name' column since it's optional (we don't need to have desciption or name for our playlists). This is a very good and completed dataset, so we don't need to clean and handle the missing data."
   ]
  },
  {
   "cell_type": "markdown",
   "id": "88ba89e5-f995-4265-97d7-a644005a15bd",
   "metadata": {
    "jp-MarkdownHeadingCollapsed": true
   },
   "source": [
    "## 2. Tracks & Artists Level"
   ]
  },
  {
   "cell_type": "markdown",
   "id": "e5b7dfce-7d58-4592-94f0-73481840f614",
   "metadata": {},
   "source": [
    "**Description:** This is a dataframe contains every information about track(track's metadata)"
   ]
  },
  {
   "cell_type": "markdown",
   "id": "0d1c29ea-3c60-48eb-b753-a46a7e0502f4",
   "metadata": {},
   "source": [
    "### Getting The Inside Of Dataset"
   ]
  },
  {
   "cell_type": "code",
   "execution_count": 33,
   "id": "294c4aac-f904-4412-9c29-566de85c7897",
   "metadata": {},
   "outputs": [
    {
     "data": {
      "text/html": [
       "<div>\n",
       "<style scoped>\n",
       "    .dataframe tbody tr th:only-of-type {\n",
       "        vertical-align: middle;\n",
       "    }\n",
       "\n",
       "    .dataframe tbody tr th {\n",
       "        vertical-align: top;\n",
       "    }\n",
       "\n",
       "    .dataframe thead th {\n",
       "        text-align: right;\n",
       "    }\n",
       "</style>\n",
       "<table border=\"1\" class=\"dataframe\">\n",
       "  <thead>\n",
       "    <tr style=\"text-align: right;\">\n",
       "      <th></th>\n",
       "      <th>pos</th>\n",
       "      <th>artist_name</th>\n",
       "      <th>track_uri</th>\n",
       "      <th>artist_uri</th>\n",
       "      <th>track_name</th>\n",
       "      <th>album_uri</th>\n",
       "      <th>duration_ms</th>\n",
       "      <th>album_name</th>\n",
       "      <th>playlist_name</th>\n",
       "      <th>playlist_pid</th>\n",
       "    </tr>\n",
       "  </thead>\n",
       "  <tbody>\n",
       "    <tr>\n",
       "      <th>0</th>\n",
       "      <td>0</td>\n",
       "      <td>Nicki Minaj</td>\n",
       "      <td>spotify:track:7gKIt3rDGIMJDFVSPBnGmj</td>\n",
       "      <td>spotify:artist:0hCNtLu0JehylgoiP8L4Gh</td>\n",
       "      <td>Super Bass</td>\n",
       "      <td>spotify:album:2RfF6dGpYIN5u1mNkfG8Pb</td>\n",
       "      <td>200013</td>\n",
       "      <td>Pink Friday</td>\n",
       "      <td>life</td>\n",
       "      <td>981000</td>\n",
       "    </tr>\n",
       "    <tr>\n",
       "      <th>1</th>\n",
       "      <td>1</td>\n",
       "      <td>Dua Lipa</td>\n",
       "      <td>spotify:track:2eAAEa8pxKF7My0EO4rFgR</td>\n",
       "      <td>spotify:artist:6M2wZ9GZgrQXHCFfjv46we</td>\n",
       "      <td>Blow Your Mind (Mwah)</td>\n",
       "      <td>spotify:album:01sfgrNbnnPUEyz6GZYlt9</td>\n",
       "      <td>178583</td>\n",
       "      <td>Dua Lipa</td>\n",
       "      <td>life</td>\n",
       "      <td>981000</td>\n",
       "    </tr>\n",
       "    <tr>\n",
       "      <th>2</th>\n",
       "      <td>2</td>\n",
       "      <td>ILoveMakonnen</td>\n",
       "      <td>spotify:track:5rnFOEEIBIWZ6dhHrY6zHh</td>\n",
       "      <td>spotify:artist:3aGFCoR8xGN6DKwvdzeSja</td>\n",
       "      <td>Love (feat. Rae Sremmurd)</td>\n",
       "      <td>spotify:album:44sGCAuUKSGPbF6fSXO2vZ</td>\n",
       "      <td>283193</td>\n",
       "      <td>Love (feat. Rae Sremmurd)</td>\n",
       "      <td>life</td>\n",
       "      <td>981000</td>\n",
       "    </tr>\n",
       "    <tr>\n",
       "      <th>3</th>\n",
       "      <td>3</td>\n",
       "      <td>J Balvin</td>\n",
       "      <td>spotify:track:7fwXWKdDNI5IutOMc5OKYw</td>\n",
       "      <td>spotify:artist:1vyhD5VmyZ7KMfW5gqLgo5</td>\n",
       "      <td>Mi Gente (feat. Beyoncé)</td>\n",
       "      <td>spotify:album:0ARVq1kA5eRP4F5VsZsr3m</td>\n",
       "      <td>209733</td>\n",
       "      <td>Mi Gente (feat. Beyoncé)</td>\n",
       "      <td>life</td>\n",
       "      <td>981000</td>\n",
       "    </tr>\n",
       "    <tr>\n",
       "      <th>4</th>\n",
       "      <td>4</td>\n",
       "      <td>Era Istrefi</td>\n",
       "      <td>spotify:track:19yIQRLAYMNxmEfdnnQDsS</td>\n",
       "      <td>spotify:artist:4poL7YCSkG7kMnWjAdDU91</td>\n",
       "      <td>No I Love Yous</td>\n",
       "      <td>spotify:album:6z4lsw2W6YwkA3CNDhGP42</td>\n",
       "      <td>180012</td>\n",
       "      <td>No I Love Yous</td>\n",
       "      <td>life</td>\n",
       "      <td>981000</td>\n",
       "    </tr>\n",
       "  </tbody>\n",
       "</table>\n",
       "</div>"
      ],
      "text/plain": [
       "   pos    artist_name                             track_uri  \\\n",
       "0    0    Nicki Minaj  spotify:track:7gKIt3rDGIMJDFVSPBnGmj   \n",
       "1    1       Dua Lipa  spotify:track:2eAAEa8pxKF7My0EO4rFgR   \n",
       "2    2  ILoveMakonnen  spotify:track:5rnFOEEIBIWZ6dhHrY6zHh   \n",
       "3    3       J Balvin  spotify:track:7fwXWKdDNI5IutOMc5OKYw   \n",
       "4    4    Era Istrefi  spotify:track:19yIQRLAYMNxmEfdnnQDsS   \n",
       "\n",
       "                              artist_uri                 track_name  \\\n",
       "0  spotify:artist:0hCNtLu0JehylgoiP8L4Gh                 Super Bass   \n",
       "1  spotify:artist:6M2wZ9GZgrQXHCFfjv46we      Blow Your Mind (Mwah)   \n",
       "2  spotify:artist:3aGFCoR8xGN6DKwvdzeSja  Love (feat. Rae Sremmurd)   \n",
       "3  spotify:artist:1vyhD5VmyZ7KMfW5gqLgo5   Mi Gente (feat. Beyoncé)   \n",
       "4  spotify:artist:4poL7YCSkG7kMnWjAdDU91             No I Love Yous   \n",
       "\n",
       "                              album_uri  duration_ms  \\\n",
       "0  spotify:album:2RfF6dGpYIN5u1mNkfG8Pb       200013   \n",
       "1  spotify:album:01sfgrNbnnPUEyz6GZYlt9       178583   \n",
       "2  spotify:album:44sGCAuUKSGPbF6fSXO2vZ       283193   \n",
       "3  spotify:album:0ARVq1kA5eRP4F5VsZsr3m       209733   \n",
       "4  spotify:album:6z4lsw2W6YwkA3CNDhGP42       180012   \n",
       "\n",
       "                  album_name playlist_name  playlist_pid  \n",
       "0                Pink Friday          life        981000  \n",
       "1                   Dua Lipa          life        981000  \n",
       "2  Love (feat. Rae Sremmurd)          life        981000  \n",
       "3   Mi Gente (feat. Beyoncé)          life        981000  \n",
       "4             No I Love Yous          life        981000  "
      ]
     },
     "execution_count": 33,
     "metadata": {},
     "output_type": "execute_result"
    }
   ],
   "source": [
    "tracks_df.head()"
   ]
  },
  {
   "cell_type": "code",
   "execution_count": 34,
   "id": "7cbc514a-79b5-4bbb-9504-31cc1aee5f56",
   "metadata": {},
   "outputs": [
    {
     "data": {
      "text/plain": [
       "(66346428, 10)"
      ]
     },
     "execution_count": 34,
     "metadata": {},
     "output_type": "execute_result"
    }
   ],
   "source": [
    "tracks_df.shape"
   ]
  },
  {
   "cell_type": "markdown",
   "id": "21e59f98-f90e-41e7-ac8b-b8e71a11c5d3",
   "metadata": {},
   "source": [
    "There are 66346428 songs across 1 million playlists, those songs could be repeated in some playlists. In other words, some playlists has the same songs. "
   ]
  },
  {
   "cell_type": "code",
   "execution_count": 35,
   "id": "1850c017-de0d-4e0d-adab-ab1cfa2d3ea2",
   "metadata": {},
   "outputs": [
    {
     "name": "stdout",
     "output_type": "stream",
     "text": [
      "<class 'pandas.core.frame.DataFrame'>\n",
      "RangeIndex: 66346428 entries, 0 to 66346427\n",
      "Data columns (total 10 columns):\n",
      " #   Column         Dtype \n",
      "---  ------         ----- \n",
      " 0   pos            int64 \n",
      " 1   artist_name    object\n",
      " 2   track_uri      object\n",
      " 3   artist_uri     object\n",
      " 4   track_name     object\n",
      " 5   album_uri      object\n",
      " 6   duration_ms    int64 \n",
      " 7   album_name     object\n",
      " 8   playlist_name  object\n",
      " 9   playlist_pid   int64 \n",
      "dtypes: int64(3), object(7)\n",
      "memory usage: 4.9+ GB\n"
     ]
    }
   ],
   "source": [
    "tracks_df.info()"
   ]
  },
  {
   "cell_type": "markdown",
   "id": "a0a196df-55c4-46c0-9a59-89fb3683d56f",
   "metadata": {},
   "source": [
    "**Analysis:** All the variable in this dataframe is object (written by text and number) except for pos (position of tracks in a playlist) and duration_ms (time of a song in m/s)"
   ]
  },
  {
   "cell_type": "code",
   "execution_count": 37,
   "id": "c19cfc64-b758-4047-b47a-043c00eae203",
   "metadata": {},
   "outputs": [
    {
     "data": {
      "text/plain": [
       "pos                  376\n",
       "artist_name       287739\n",
       "track_uri        2262292\n",
       "artist_uri        295860\n",
       "track_name       1483758\n",
       "album_uri         734684\n",
       "duration_ms       315700\n",
       "album_name        571626\n",
       "playlist_name      92940\n",
       "playlist_pid     1000000\n",
       "dtype: int64"
      ]
     },
     "execution_count": 37,
     "metadata": {},
     "output_type": "execute_result"
    }
   ],
   "source": [
    "tracks_df.nunique()"
   ]
  },
  {
   "cell_type": "markdown",
   "id": "dd1dad3b-560b-494c-880c-ea509d1f656a",
   "metadata": {},
   "source": [
    "**Analysis:** \n",
    "* There are  295860 different artists and some of them have the same name because there are only 287739 unique artist names.\n",
    "* There are 2262292 different songs and some of them have the same name because there are only  1483758 unique songs's names."
   ]
  },
  {
   "cell_type": "code",
   "execution_count": 38,
   "id": "31144f6e-9067-4eb1-b92d-57a5e01f4505",
   "metadata": {},
   "outputs": [
    {
     "name": "stdout",
     "output_type": "stream",
     "text": [
      "Total songs in 1M playlist:\n"
     ]
    },
    {
     "data": {
      "text/plain": [
       "66346428"
      ]
     },
     "execution_count": 38,
     "metadata": {},
     "output_type": "execute_result"
    }
   ],
   "source": [
    "print(\"Total songs in 1M playlist:\")\n",
    "tracks_df.shape[0]"
   ]
  },
  {
   "cell_type": "code",
   "execution_count": 38,
   "id": "a9396fad-629e-40bb-bb53-89883eec1b9a",
   "metadata": {},
   "outputs": [
    {
     "data": {
      "text/html": [
       "<div>\n",
       "<style scoped>\n",
       "    .dataframe tbody tr th:only-of-type {\n",
       "        vertical-align: middle;\n",
       "    }\n",
       "\n",
       "    .dataframe tbody tr th {\n",
       "        vertical-align: top;\n",
       "    }\n",
       "\n",
       "    .dataframe thead th {\n",
       "        text-align: right;\n",
       "    }\n",
       "</style>\n",
       "<table border=\"1\" class=\"dataframe\">\n",
       "  <thead>\n",
       "    <tr style=\"text-align: right;\">\n",
       "      <th></th>\n",
       "      <th>pos</th>\n",
       "      <th>duration_ms</th>\n",
       "      <th>playlist_pid</th>\n",
       "    </tr>\n",
       "  </thead>\n",
       "  <tbody>\n",
       "    <tr>\n",
       "      <th>count</th>\n",
       "      <td>6.634643e+07</td>\n",
       "      <td>6.634643e+07</td>\n",
       "      <td>6.634643e+07</td>\n",
       "    </tr>\n",
       "    <tr>\n",
       "      <th>mean</th>\n",
       "      <td>5.438046e+01</td>\n",
       "      <td>2.348231e+05</td>\n",
       "      <td>4.999225e+05</td>\n",
       "    </tr>\n",
       "    <tr>\n",
       "      <th>std</th>\n",
       "      <td>4.824799e+01</td>\n",
       "      <td>7.455740e+04</td>\n",
       "      <td>2.891463e+05</td>\n",
       "    </tr>\n",
       "    <tr>\n",
       "      <th>min</th>\n",
       "      <td>0.000000e+00</td>\n",
       "      <td>-1.000000e+00</td>\n",
       "      <td>0.000000e+00</td>\n",
       "    </tr>\n",
       "    <tr>\n",
       "      <th>25%</th>\n",
       "      <td>1.700000e+01</td>\n",
       "      <td>1.984930e+05</td>\n",
       "      <td>2.488760e+05</td>\n",
       "    </tr>\n",
       "    <tr>\n",
       "      <th>50%</th>\n",
       "      <td>4.000000e+01</td>\n",
       "      <td>2.250710e+05</td>\n",
       "      <td>4.998990e+05</td>\n",
       "    </tr>\n",
       "    <tr>\n",
       "      <th>75%</th>\n",
       "      <td>7.900000e+01</td>\n",
       "      <td>2.592930e+05</td>\n",
       "      <td>7.507270e+05</td>\n",
       "    </tr>\n",
       "    <tr>\n",
       "      <th>max</th>\n",
       "      <td>3.750000e+02</td>\n",
       "      <td>2.074458e+07</td>\n",
       "      <td>9.999990e+05</td>\n",
       "    </tr>\n",
       "  </tbody>\n",
       "</table>\n",
       "</div>"
      ],
      "text/plain": [
       "                pos   duration_ms  playlist_pid\n",
       "count  6.634643e+07  6.634643e+07  6.634643e+07\n",
       "mean   5.438046e+01  2.348231e+05  4.999225e+05\n",
       "std    4.824799e+01  7.455740e+04  2.891463e+05\n",
       "min    0.000000e+00 -1.000000e+00  0.000000e+00\n",
       "25%    1.700000e+01  1.984930e+05  2.488760e+05\n",
       "50%    4.000000e+01  2.250710e+05  4.998990e+05\n",
       "75%    7.900000e+01  2.592930e+05  7.507270e+05\n",
       "max    3.750000e+02  2.074458e+07  9.999990e+05"
      ]
     },
     "execution_count": 38,
     "metadata": {},
     "output_type": "execute_result"
    }
   ],
   "source": [
    "tracks_df.describe()"
   ]
  },
  {
   "cell_type": "markdown",
   "id": "2a6164e6-3426-41b6-8f00-1ae7b81b7278",
   "metadata": {},
   "source": [
    "### Handling Missing Value"
   ]
  },
  {
   "cell_type": "code",
   "execution_count": 40,
   "id": "99247c5a-20d6-4055-8bc4-80e62bbdbbf8",
   "metadata": {},
   "outputs": [
    {
     "data": {
      "text/plain": [
       "pos                0\n",
       "artist_name       13\n",
       "track_uri          0\n",
       "artist_uri         0\n",
       "track_name       254\n",
       "album_uri          0\n",
       "duration_ms        0\n",
       "album_name        19\n",
       "playlist_name    777\n",
       "playlist_pid       0\n",
       "dtype: int64"
      ]
     },
     "execution_count": 40,
     "metadata": {},
     "output_type": "execute_result"
    }
   ],
   "source": [
    "tracks_df.isnull().sum()"
   ]
  },
  {
   "cell_type": "markdown",
   "id": "ee7decd4-9ba3-453b-9d4d-265d66365903",
   "metadata": {},
   "source": [
    "**Analysis:** There are some columns which have missing values: artists_name (some of the song in non_lyrics songs and unknown artists), tracks_name, album (some of the songs and album are unnamed)"
   ]
  },
  {
   "cell_type": "markdown",
   "id": "a9f50082-2f5b-40c9-9a21-d7911248504b",
   "metadata": {},
   "source": [
    "## 3. Data Visualization "
   ]
  },
  {
   "cell_type": "markdown",
   "id": "a6afb2e3-3d82-4b0e-9cca-408b4e3cd4a1",
   "metadata": {
    "jp-MarkdownHeadingCollapsed": true
   },
   "source": [
    "### 1. Top 50 Popular Playlists\n",
    "**Notes:** Top 50 will be ranked by number of followers."
   ]
  },
  {
   "cell_type": "code",
   "execution_count": 4,
   "id": "aa2a328b-054d-4117-8147-35718b1a3ac4",
   "metadata": {},
   "outputs": [],
   "source": [
    "top50_playlists = playlists_df.nlargest(50, 'num_followers')"
   ]
  },
  {
   "cell_type": "code",
   "execution_count": 7,
   "id": "e5f5c9db-49c0-4893-ad9b-8dad48005924",
   "metadata": {},
   "outputs": [
    {
     "data": {
      "image/png": "[encoded data removed]",
      "text/plain": [
       "<Figure size 1500x1000 with 1 Axes>"
      ]
     },
     "metadata": {},
     "output_type": "display_data"
    }
   ],
   "source": [
    "top50_playlists = playlists_df.nlargest(50, 'num_followers')\n",
    "plt.figure(figsize=(15, 10))\n",
    "sns.barplot(y='name', x='num_followers', data=top50_playlists, color='green')\n",
    "plt.title('Top 50 Popular Playlists')\n",
    "plt.xlabel('Number of Followers')\n",
    "plt.ylabel('Playlist Name')\n",
    "plt.xticks(rotation=90)\n",
    "plt.show()"
   ]
  },
  {
   "cell_type": "markdown",
   "id": "e77bc824-c0d1-43ea-8b0a-599a71fa9cc3",
   "metadata": {},
   "source": [
    "'That's What I like' is the most popular playlists with over 70,000 followers. Here is the information about that playlists. But there are 38 different playlists have the same name, the reason why is because most tracks contained in these playlists are from the artists 'Bruno Mars'. "
   ]
  },
  {
   "cell_type": "code",
   "execution_count": 21,
   "id": "107c16f4-87ce-4294-b74f-97846e0a0757",
   "metadata": {},
   "outputs": [
    {
     "data": {
      "text/plain": [
       "(38, 12)"
      ]
     },
     "execution_count": 21,
     "metadata": {},
     "output_type": "execute_result"
    }
   ],
   "source": [
    "playlists_df[playlists_df['name']== \"That's What I Like\"].shape"
   ]
  },
  {
   "cell_type": "code",
   "execution_count": 22,
   "id": "9d0c2a17-14d6-4d0a-8861-b1eff3b13abb",
   "metadata": {},
   "outputs": [
    {
     "data": {
      "text/html": [
       "<div>\n",
       "<style scoped>\n",
       "    .dataframe tbody tr th:only-of-type {\n",
       "        vertical-align: middle;\n",
       "    }\n",
       "\n",
       "    .dataframe tbody tr th {\n",
       "        vertical-align: top;\n",
       "    }\n",
       "\n",
       "    .dataframe thead th {\n",
       "        text-align: right;\n",
       "    }\n",
       "</style>\n",
       "<table border=\"1\" class=\"dataframe\">\n",
       "  <thead>\n",
       "    <tr style=\"text-align: right;\">\n",
       "      <th></th>\n",
       "      <th>name</th>\n",
       "      <th>collaborative</th>\n",
       "      <th>pid</th>\n",
       "      <th>modified_at</th>\n",
       "      <th>num_tracks</th>\n",
       "      <th>num_albums</th>\n",
       "      <th>num_followers</th>\n",
       "      <th>tracks</th>\n",
       "      <th>num_edits</th>\n",
       "      <th>duration_ms</th>\n",
       "      <th>num_artists</th>\n",
       "      <th>description</th>\n",
       "    </tr>\n",
       "  </thead>\n",
       "  <tbody>\n",
       "    <tr>\n",
       "      <th>43081</th>\n",
       "      <td>That's What I Like</td>\n",
       "      <td>False</td>\n",
       "      <td>493081</td>\n",
       "      <td>1497744000</td>\n",
       "      <td>19</td>\n",
       "      <td>19</td>\n",
       "      <td>1</td>\n",
       "      <td>[{'pos': 0, 'artist_name': 'Bruno Mars', 'trac...</td>\n",
       "      <td>10</td>\n",
       "      <td>4688532</td>\n",
       "      <td>16</td>\n",
       "      <td>NaN</td>\n",
       "    </tr>\n",
       "    <tr>\n",
       "      <th>129485</th>\n",
       "      <td>That's What I Like</td>\n",
       "      <td>False</td>\n",
       "      <td>625485</td>\n",
       "      <td>1508112000</td>\n",
       "      <td>22</td>\n",
       "      <td>16</td>\n",
       "      <td>1</td>\n",
       "      <td>[{'pos': 0, 'artist_name': 'Bruno Mars', 'trac...</td>\n",
       "      <td>10</td>\n",
       "      <td>4541254</td>\n",
       "      <td>13</td>\n",
       "      <td>NaN</td>\n",
       "    </tr>\n",
       "    <tr>\n",
       "      <th>149711</th>\n",
       "      <td>That's What I Like</td>\n",
       "      <td>False</td>\n",
       "      <td>886711</td>\n",
       "      <td>1480896000</td>\n",
       "      <td>26</td>\n",
       "      <td>18</td>\n",
       "      <td>1</td>\n",
       "      <td>[{'pos': 0, 'artist_name': 'Bruno Mars', 'trac...</td>\n",
       "      <td>4</td>\n",
       "      <td>5970238</td>\n",
       "      <td>14</td>\n",
       "      <td>NaN</td>\n",
       "    </tr>\n",
       "    <tr>\n",
       "      <th>160747</th>\n",
       "      <td>That's What I Like</td>\n",
       "      <td>False</td>\n",
       "      <td>88747</td>\n",
       "      <td>1489536000</td>\n",
       "      <td>10</td>\n",
       "      <td>10</td>\n",
       "      <td>1</td>\n",
       "      <td>[{'pos': 0, 'artist_name': 'Bruno Mars', 'trac...</td>\n",
       "      <td>5</td>\n",
       "      <td>2219922</td>\n",
       "      <td>10</td>\n",
       "      <td>NaN</td>\n",
       "    </tr>\n",
       "    <tr>\n",
       "      <th>228076</th>\n",
       "      <td>That's What I Like</td>\n",
       "      <td>False</td>\n",
       "      <td>420076</td>\n",
       "      <td>1492041600</td>\n",
       "      <td>82</td>\n",
       "      <td>65</td>\n",
       "      <td>1</td>\n",
       "      <td>[{'pos': 0, 'artist_name': 'Bruno Mars', 'trac...</td>\n",
       "      <td>5</td>\n",
       "      <td>18889287</td>\n",
       "      <td>54</td>\n",
       "      <td>NaN</td>\n",
       "    </tr>\n",
       "  </tbody>\n",
       "</table>\n",
       "</div>"
      ],
      "text/plain": [
       "                      name  collaborative     pid  modified_at  num_tracks  \\\n",
       "43081   That's What I Like          False  493081   1497744000          19   \n",
       "129485  That's What I Like          False  625485   1508112000          22   \n",
       "149711  That's What I Like          False  886711   1480896000          26   \n",
       "160747  That's What I Like          False   88747   1489536000          10   \n",
       "228076  That's What I Like          False  420076   1492041600          82   \n",
       "\n",
       "        num_albums  num_followers  \\\n",
       "43081           19              1   \n",
       "129485          16              1   \n",
       "149711          18              1   \n",
       "160747          10              1   \n",
       "228076          65              1   \n",
       "\n",
       "                                                   tracks  num_edits  \\\n",
       "43081   [{'pos': 0, 'artist_name': 'Bruno Mars', 'trac...         10   \n",
       "129485  [{'pos': 0, 'artist_name': 'Bruno Mars', 'trac...         10   \n",
       "149711  [{'pos': 0, 'artist_name': 'Bruno Mars', 'trac...          4   \n",
       "160747  [{'pos': 0, 'artist_name': 'Bruno Mars', 'trac...          5   \n",
       "228076  [{'pos': 0, 'artist_name': 'Bruno Mars', 'trac...          5   \n",
       "\n",
       "        duration_ms  num_artists description  \n",
       "43081       4688532           16         NaN  \n",
       "129485      4541254           13         NaN  \n",
       "149711      5970238           14         NaN  \n",
       "160747      2219922           10         NaN  \n",
       "228076     18889287           54         NaN  "
      ]
     },
     "execution_count": 22,
     "metadata": {},
     "output_type": "execute_result"
    }
   ],
   "source": [
    "playlists_df[playlists_df['name']== \"That's What I Like\"].head()"
   ]
  },
  {
   "cell_type": "markdown",
   "id": "59671b02-bcb8-4883-9a30-23c98061a106",
   "metadata": {},
   "source": [
    "'Tercer cielo' is the least popular playlists in top 50 which has under 5000 followers. There are 3 different playlists with the same name because it contains the tracks from artist Tercer cielo. Here are the information about those playlists."
   ]
  },
  {
   "cell_type": "code",
   "execution_count": 23,
   "id": "57070496-2d48-4851-ab25-04992acf78dd",
   "metadata": {},
   "outputs": [
    {
     "data": {
      "text/plain": [
       "(3, 12)"
      ]
     },
     "execution_count": 23,
     "metadata": {},
     "output_type": "execute_result"
    }
   ],
   "source": [
    "playlists_df[playlists_df['name']== \"Tercer cielo\"].shape"
   ]
  },
  {
   "cell_type": "code",
   "execution_count": 24,
   "id": "c31e558c-3198-4fc7-9ffd-600a72a3518d",
   "metadata": {},
   "outputs": [
    {
     "data": {
      "text/html": [
       "<div>\n",
       "<style scoped>\n",
       "    .dataframe tbody tr th:only-of-type {\n",
       "        vertical-align: middle;\n",
       "    }\n",
       "\n",
       "    .dataframe tbody tr th {\n",
       "        vertical-align: top;\n",
       "    }\n",
       "\n",
       "    .dataframe thead th {\n",
       "        text-align: right;\n",
       "    }\n",
       "</style>\n",
       "<table border=\"1\" class=\"dataframe\">\n",
       "  <thead>\n",
       "    <tr style=\"text-align: right;\">\n",
       "      <th></th>\n",
       "      <th>name</th>\n",
       "      <th>collaborative</th>\n",
       "      <th>pid</th>\n",
       "      <th>modified_at</th>\n",
       "      <th>num_tracks</th>\n",
       "      <th>num_albums</th>\n",
       "      <th>num_followers</th>\n",
       "      <th>tracks</th>\n",
       "      <th>num_edits</th>\n",
       "      <th>duration_ms</th>\n",
       "      <th>num_artists</th>\n",
       "      <th>description</th>\n",
       "    </tr>\n",
       "  </thead>\n",
       "  <tbody>\n",
       "    <tr>\n",
       "      <th>1821</th>\n",
       "      <td>Tercer cielo</td>\n",
       "      <td>False</td>\n",
       "      <td>935821</td>\n",
       "      <td>1392076800</td>\n",
       "      <td>58</td>\n",
       "      <td>12</td>\n",
       "      <td>3638</td>\n",
       "      <td>[{'pos': 0, 'artist_name': 'Tercer Cielo', 'tr...</td>\n",
       "      <td>4</td>\n",
       "      <td>14045223</td>\n",
       "      <td>4</td>\n",
       "      <td>NaN</td>\n",
       "    </tr>\n",
       "    <tr>\n",
       "      <th>230928</th>\n",
       "      <td>Tercer cielo</td>\n",
       "      <td>False</td>\n",
       "      <td>987928</td>\n",
       "      <td>1372723200</td>\n",
       "      <td>45</td>\n",
       "      <td>12</td>\n",
       "      <td>1</td>\n",
       "      <td>[{'pos': 0, 'artist_name': 'Tercer Cielo', 'tr...</td>\n",
       "      <td>3</td>\n",
       "      <td>11249362</td>\n",
       "      <td>4</td>\n",
       "      <td>NaN</td>\n",
       "    </tr>\n",
       "    <tr>\n",
       "      <th>609392</th>\n",
       "      <td>Tercer cielo</td>\n",
       "      <td>False</td>\n",
       "      <td>738392</td>\n",
       "      <td>1367539200</td>\n",
       "      <td>95</td>\n",
       "      <td>37</td>\n",
       "      <td>6</td>\n",
       "      <td>[{'pos': 0, 'artist_name': 'Tercer Cielo', 'tr...</td>\n",
       "      <td>33</td>\n",
       "      <td>24412498</td>\n",
       "      <td>19</td>\n",
       "      <td>NaN</td>\n",
       "    </tr>\n",
       "  </tbody>\n",
       "</table>\n",
       "</div>"
      ],
      "text/plain": [
       "                name  collaborative     pid  modified_at  num_tracks  \\\n",
       "1821    Tercer cielo          False  935821   1392076800          58   \n",
       "230928  Tercer cielo          False  987928   1372723200          45   \n",
       "609392  Tercer cielo          False  738392   1367539200          95   \n",
       "\n",
       "        num_albums  num_followers  \\\n",
       "1821            12           3638   \n",
       "230928          12              1   \n",
       "609392          37              6   \n",
       "\n",
       "                                                   tracks  num_edits  \\\n",
       "1821    [{'pos': 0, 'artist_name': 'Tercer Cielo', 'tr...          4   \n",
       "230928  [{'pos': 0, 'artist_name': 'Tercer Cielo', 'tr...          3   \n",
       "609392  [{'pos': 0, 'artist_name': 'Tercer Cielo', 'tr...         33   \n",
       "\n",
       "        duration_ms  num_artists description  \n",
       "1821       14045223            4         NaN  \n",
       "230928     11249362            4         NaN  \n",
       "609392     24412498           19         NaN  "
      ]
     },
     "execution_count": 24,
     "metadata": {},
     "output_type": "execute_result"
    }
   ],
   "source": [
    "playlists_df[playlists_df['name']== \"Tercer cielo\"]"
   ]
  },
  {
   "cell_type": "markdown",
   "id": "ac45a46f-d816-4cb9-9e33-347a4b0ae9ac",
   "metadata": {
    "jp-MarkdownHeadingCollapsed": true
   },
   "source": [
    "### 2. Distribution of Tracks Per Playlists"
   ]
  },
  {
   "cell_type": "code",
   "execution_count": 27,
   "id": "99baf47a-a1d1-48b4-9be3-3c0f033331be",
   "metadata": {},
   "outputs": [
    {
     "data": {
      "image/png": "[encoded data removed]",
      "text/plain": [
       "<Figure size 1000x600 with 1 Axes>"
      ]
     },
     "metadata": {},
     "output_type": "display_data"
    }
   ],
   "source": [
    "plt.figure(figsize=(10, 6))\n",
    "sns.histplot(playlists_df['num_tracks'], bins=50, kde=True, color='green')\n",
    "plt.title('Distribution of Number of Tracks per Playlist')\n",
    "plt.xlabel('Number of Tracks')\n",
    "plt.ylabel('Frequency')\n",
    "plt.show()"
   ]
  },
  {
   "cell_type": "code",
   "execution_count": 29,
   "id": "f4b4e186-3eaf-4a17-8970-d8d295fed6f7",
   "metadata": {},
   "outputs": [
    {
     "data": {
      "text/plain": [
       "Text(0, 0.5, 'Frequency')"
      ]
     },
     "execution_count": 29,
     "metadata": {},
     "output_type": "execute_result"
    },
    {
     "data": {
      "image/png": "[encoded data removed]",
      "text/plain": [
       "<Figure size 1000x600 with 1 Axes>"
      ]
     },
     "metadata": {},
     "output_type": "display_data"
    }
   ],
   "source": [
    "plt.figure(figsize=(10, 6))\n",
    "sns.histplot(playlists_df['duration_ms'], bins=50, color='green')\n",
    "plt.title('Distribution of Playlist Durations')\n",
    "plt.xlabel('Duration (ms)')\n",
    "plt.ylabel('Frequency')"
   ]
  },
  {
   "cell_type": "markdown",
   "id": "31677a4c-3770-4e9d-b452-e63ee7b61354",
   "metadata": {},
   "source": [
    "### Top 10 Popular Artists\n",
    "**Notes:** Popular arirtisrs will be ranked based on the varible called 'Popularity' at artists level. This popularity has a range of 1-100. In this graph, we only show top 10 most popular artists."
   ]
  },
  {
   "cell_type": "code",
   "execution_count": 4,
   "id": "9b96f95f-c828-4673-a0e7-a6b96321679c",
   "metadata": {},
   "outputs": [],
   "source": [
    "artist_appearance_counts = tracks_df['artist_uri'].value_counts()"
   ]
  },
  {
   "cell_type": "code",
   "execution_count": 5,
   "id": "84410959-b1f1-4379-b2e9-93253a5a6cd7",
   "metadata": {},
   "outputs": [
    {
     "data": {
      "text/plain": [
       "295860"
      ]
     },
     "execution_count": 5,
     "metadata": {},
     "output_type": "execute_result"
    }
   ],
   "source": [
    "len(tracks_df['artist_uri'].unique())"
   ]
  },
  {
   "cell_type": "code",
   "execution_count": 6,
   "id": "801ea3f0-50b0-44b8-85bf-2a95afddb2ea",
   "metadata": {},
   "outputs": [
    {
     "data": {
      "text/plain": [
       "artist_uri\n",
       "spotify:artist:3TVXtAsR1Inumwj472S9r4    846937\n",
       "spotify:artist:5K4W6rqBFWDnAN6FQUkS6x    413297\n",
       "spotify:artist:2YZyLoL8N0Wb9xBt1NhZWg    353624\n",
       "spotify:artist:5pKCCKE2ajJHZ9KAiaK11H    339570\n",
       "spotify:artist:1Xyo4u8uXC1ZmMpatF05PJ    316603\n",
       "                                          ...  \n",
       "spotify:artist:7F3ZFe9T4tkEoT3sc0q1GP         1\n",
       "spotify:artist:3ZNY8lSinh57ii0AiLHtxH         1\n",
       "spotify:artist:0UUuydPM5Kd0SDWDgFNvKM         1\n",
       "spotify:artist:0BffCye1dZNDJXXhUyy7VO         1\n",
       "spotify:artist:4K1RDdFMeSKKF13bOgAIGm         1\n",
       "Name: count, Length: 295860, dtype: int64"
      ]
     },
     "execution_count": 6,
     "metadata": {},
     "output_type": "execute_result"
    }
   ],
   "source": [
    "artist_appearance_counts "
   ]
  },
  {
   "cell_type": "code",
   "execution_count": 7,
   "id": "63ad3e6c-6ba0-409d-bd96-7f42471e0eb5",
   "metadata": {},
   "outputs": [
    {
     "data": {
      "text/html": [
       "<div>\n",
       "<style scoped>\n",
       "    .dataframe tbody tr th:only-of-type {\n",
       "        vertical-align: middle;\n",
       "    }\n",
       "\n",
       "    .dataframe tbody tr th {\n",
       "        vertical-align: top;\n",
       "    }\n",
       "\n",
       "    .dataframe thead th {\n",
       "        text-align: right;\n",
       "    }\n",
       "</style>\n",
       "<table border=\"1\" class=\"dataframe\">\n",
       "  <thead>\n",
       "    <tr style=\"text-align: right;\">\n",
       "      <th></th>\n",
       "      <th>artist_uri</th>\n",
       "      <th>occurence</th>\n",
       "    </tr>\n",
       "  </thead>\n",
       "  <tbody>\n",
       "    <tr>\n",
       "      <th>0</th>\n",
       "      <td>spotify:artist:3TVXtAsR1Inumwj472S9r4</td>\n",
       "      <td>846937</td>\n",
       "    </tr>\n",
       "    <tr>\n",
       "      <th>1</th>\n",
       "      <td>spotify:artist:5K4W6rqBFWDnAN6FQUkS6x</td>\n",
       "      <td>413297</td>\n",
       "    </tr>\n",
       "    <tr>\n",
       "      <th>2</th>\n",
       "      <td>spotify:artist:2YZyLoL8N0Wb9xBt1NhZWg</td>\n",
       "      <td>353624</td>\n",
       "    </tr>\n",
       "    <tr>\n",
       "      <th>3</th>\n",
       "      <td>spotify:artist:5pKCCKE2ajJHZ9KAiaK11H</td>\n",
       "      <td>339570</td>\n",
       "    </tr>\n",
       "    <tr>\n",
       "      <th>4</th>\n",
       "      <td>spotify:artist:1Xyo4u8uXC1ZmMpatF05PJ</td>\n",
       "      <td>316603</td>\n",
       "    </tr>\n",
       "    <tr>\n",
       "      <th>...</th>\n",
       "      <td>...</td>\n",
       "      <td>...</td>\n",
       "    </tr>\n",
       "    <tr>\n",
       "      <th>295855</th>\n",
       "      <td>spotify:artist:7F3ZFe9T4tkEoT3sc0q1GP</td>\n",
       "      <td>1</td>\n",
       "    </tr>\n",
       "    <tr>\n",
       "      <th>295856</th>\n",
       "      <td>spotify:artist:3ZNY8lSinh57ii0AiLHtxH</td>\n",
       "      <td>1</td>\n",
       "    </tr>\n",
       "    <tr>\n",
       "      <th>295857</th>\n",
       "      <td>spotify:artist:0UUuydPM5Kd0SDWDgFNvKM</td>\n",
       "      <td>1</td>\n",
       "    </tr>\n",
       "    <tr>\n",
       "      <th>295858</th>\n",
       "      <td>spotify:artist:0BffCye1dZNDJXXhUyy7VO</td>\n",
       "      <td>1</td>\n",
       "    </tr>\n",
       "    <tr>\n",
       "      <th>295859</th>\n",
       "      <td>spotify:artist:4K1RDdFMeSKKF13bOgAIGm</td>\n",
       "      <td>1</td>\n",
       "    </tr>\n",
       "  </tbody>\n",
       "</table>\n",
       "<p>295860 rows × 2 columns</p>\n",
       "</div>"
      ],
      "text/plain": [
       "                                   artist_uri  occurence\n",
       "0       spotify:artist:3TVXtAsR1Inumwj472S9r4     846937\n",
       "1       spotify:artist:5K4W6rqBFWDnAN6FQUkS6x     413297\n",
       "2       spotify:artist:2YZyLoL8N0Wb9xBt1NhZWg     353624\n",
       "3       spotify:artist:5pKCCKE2ajJHZ9KAiaK11H     339570\n",
       "4       spotify:artist:1Xyo4u8uXC1ZmMpatF05PJ     316603\n",
       "...                                       ...        ...\n",
       "295855  spotify:artist:7F3ZFe9T4tkEoT3sc0q1GP          1\n",
       "295856  spotify:artist:3ZNY8lSinh57ii0AiLHtxH          1\n",
       "295857  spotify:artist:0UUuydPM5Kd0SDWDgFNvKM          1\n",
       "295858  spotify:artist:0BffCye1dZNDJXXhUyy7VO          1\n",
       "295859  spotify:artist:4K1RDdFMeSKKF13bOgAIGm          1\n",
       "\n",
       "[295860 rows x 2 columns]"
      ]
     },
     "execution_count": 7,
     "metadata": {},
     "output_type": "execute_result"
    }
   ],
   "source": [
    "artist_counts_df = artist_appearance_counts.reset_index()\n",
    "artist_counts_df.columns = ['artist_uri', 'occurence']\n",
    "artist_counts_df"
   ]
  },
  {
   "cell_type": "code",
   "execution_count": 29,
   "id": "e8adc5bd-214c-4382-8952-3a2d912788dd",
   "metadata": {},
   "outputs": [],
   "source": [
    "merged_df = pd.merge(artist_counts_df, tracks_df[['artist_uri', 'artist_name']], on='artist_uri', how='left').drop_duplicates(subset='artist_uri')"
   ]
  },
  {
   "cell_type": "code",
   "execution_count": 33,
   "id": "15ae74b2-f18f-409f-96e7-28db337403bb",
   "metadata": {},
   "outputs": [
    {
     "data": {
      "text/html": [
       "<div>\n",
       "<style scoped>\n",
       "    .dataframe tbody tr th:only-of-type {\n",
       "        vertical-align: middle;\n",
       "    }\n",
       "\n",
       "    .dataframe tbody tr th {\n",
       "        vertical-align: top;\n",
       "    }\n",
       "\n",
       "    .dataframe thead th {\n",
       "        text-align: right;\n",
       "    }\n",
       "</style>\n",
       "<table border=\"1\" class=\"dataframe\">\n",
       "  <thead>\n",
       "    <tr style=\"text-align: right;\">\n",
       "      <th></th>\n",
       "      <th>artist_uri</th>\n",
       "      <th>occurence</th>\n",
       "      <th>artist_name</th>\n",
       "    </tr>\n",
       "  </thead>\n",
       "  <tbody>\n",
       "    <tr>\n",
       "      <th>0</th>\n",
       "      <td>spotify:artist:3TVXtAsR1Inumwj472S9r4</td>\n",
       "      <td>846937</td>\n",
       "      <td>Drake</td>\n",
       "    </tr>\n",
       "    <tr>\n",
       "      <th>846937</th>\n",
       "      <td>spotify:artist:5K4W6rqBFWDnAN6FQUkS6x</td>\n",
       "      <td>413297</td>\n",
       "      <td>Kanye West</td>\n",
       "    </tr>\n",
       "    <tr>\n",
       "      <th>1260234</th>\n",
       "      <td>spotify:artist:2YZyLoL8N0Wb9xBt1NhZWg</td>\n",
       "      <td>353624</td>\n",
       "      <td>Kendrick Lamar</td>\n",
       "    </tr>\n",
       "  </tbody>\n",
       "</table>\n",
       "</div>"
      ],
      "text/plain": [
       "                                    artist_uri  occurence     artist_name\n",
       "0        spotify:artist:3TVXtAsR1Inumwj472S9r4     846937           Drake\n",
       "846937   spotify:artist:5K4W6rqBFWDnAN6FQUkS6x     413297      Kanye West\n",
       "1260234  spotify:artist:2YZyLoL8N0Wb9xBt1NhZWg     353624  Kendrick Lamar"
      ]
     },
     "execution_count": 33,
     "metadata": {},
     "output_type": "execute_result"
    }
   ],
   "source": [
    "merged_df[:3]"
   ]
  },
  {
   "cell_type": "code",
   "execution_count": 36,
   "id": "5aa03d87-83de-4924-b308-f316787d41fa",
   "metadata": {
    "scrolled": true
   },
   "outputs": [
    {
     "data": {
      "text/html": [
       "<div>\n",
       "<style scoped>\n",
       "    .dataframe tbody tr th:only-of-type {\n",
       "        vertical-align: middle;\n",
       "    }\n",
       "\n",
       "    .dataframe tbody tr th {\n",
       "        vertical-align: top;\n",
       "    }\n",
       "\n",
       "    .dataframe thead th {\n",
       "        text-align: right;\n",
       "    }\n",
       "</style>\n",
       "<table border=\"1\" class=\"dataframe\">\n",
       "  <thead>\n",
       "    <tr style=\"text-align: right;\">\n",
       "      <th></th>\n",
       "      <th>artist_uri</th>\n",
       "      <th>occurence</th>\n",
       "      <th>artist_name</th>\n",
       "    </tr>\n",
       "  </thead>\n",
       "  <tbody>\n",
       "    <tr>\n",
       "      <th>0</th>\n",
       "      <td>spotify:artist:3TVXtAsR1Inumwj472S9r4</td>\n",
       "      <td>846937</td>\n",
       "      <td>Drake</td>\n",
       "    </tr>\n",
       "    <tr>\n",
       "      <th>846937</th>\n",
       "      <td>spotify:artist:5K4W6rqBFWDnAN6FQUkS6x</td>\n",
       "      <td>413297</td>\n",
       "      <td>Kanye West</td>\n",
       "    </tr>\n",
       "    <tr>\n",
       "      <th>1260234</th>\n",
       "      <td>spotify:artist:2YZyLoL8N0Wb9xBt1NhZWg</td>\n",
       "      <td>353624</td>\n",
       "      <td>Kendrick Lamar</td>\n",
       "    </tr>\n",
       "    <tr>\n",
       "      <th>1613858</th>\n",
       "      <td>spotify:artist:5pKCCKE2ajJHZ9KAiaK11H</td>\n",
       "      <td>339570</td>\n",
       "      <td>Rihanna</td>\n",
       "    </tr>\n",
       "    <tr>\n",
       "      <th>1953428</th>\n",
       "      <td>spotify:artist:1Xyo4u8uXC1ZmMpatF05PJ</td>\n",
       "      <td>316603</td>\n",
       "      <td>The Weeknd</td>\n",
       "    </tr>\n",
       "    <tr>\n",
       "      <th>2270031</th>\n",
       "      <td>spotify:artist:7dGJo4pcD2V6oG8kP0tJRR</td>\n",
       "      <td>294667</td>\n",
       "      <td>Eminem</td>\n",
       "    </tr>\n",
       "    <tr>\n",
       "      <th>2564698</th>\n",
       "      <td>spotify:artist:6eUKZXaKkcviH0Ku9w2n3V</td>\n",
       "      <td>272116</td>\n",
       "      <td>Ed Sheeran</td>\n",
       "    </tr>\n",
       "    <tr>\n",
       "      <th>2836814</th>\n",
       "      <td>spotify:artist:1RyvyyTE3xzB2ZywiAwp0i</td>\n",
       "      <td>249986</td>\n",
       "      <td>Future</td>\n",
       "    </tr>\n",
       "    <tr>\n",
       "      <th>3086800</th>\n",
       "      <td>spotify:artist:1uNFoZAHBGtllmzznpCI3s</td>\n",
       "      <td>243119</td>\n",
       "      <td>Justin Bieber</td>\n",
       "    </tr>\n",
       "    <tr>\n",
       "      <th>3329919</th>\n",
       "      <td>spotify:artist:6l3HvQ5sa6mXTsMTB19rO5</td>\n",
       "      <td>241556</td>\n",
       "      <td>J. Cole</td>\n",
       "    </tr>\n",
       "    <tr>\n",
       "      <th>3571475</th>\n",
       "      <td>spotify:artist:6vWDO969PvNqNYHIOW5v0m</td>\n",
       "      <td>230857</td>\n",
       "      <td>Beyoncé</td>\n",
       "    </tr>\n",
       "    <tr>\n",
       "      <th>3802332</th>\n",
       "      <td>spotify:artist:69GGBxA162lTqCwzJG5jLp</td>\n",
       "      <td>223509</td>\n",
       "      <td>The Chainsmokers</td>\n",
       "    </tr>\n",
       "    <tr>\n",
       "      <th>4025841</th>\n",
       "      <td>spotify:artist:7bXgB6jMjp9ATFy66eO08Z</td>\n",
       "      <td>212751</td>\n",
       "      <td>Chris Brown</td>\n",
       "    </tr>\n",
       "    <tr>\n",
       "      <th>4238592</th>\n",
       "      <td>spotify:artist:7CajNmpbOovFoOoasH2HaY</td>\n",
       "      <td>203047</td>\n",
       "      <td>Calvin Harris</td>\n",
       "    </tr>\n",
       "    <tr>\n",
       "      <th>4441639</th>\n",
       "      <td>spotify:artist:3YQKmKGau1PzlVlkL1iodx</td>\n",
       "      <td>198905</td>\n",
       "      <td>Twenty One Pilots</td>\n",
       "    </tr>\n",
       "    <tr>\n",
       "      <th>4640544</th>\n",
       "      <td>spotify:artist:4O15NlyKLIASxsJ0PrXPfz</td>\n",
       "      <td>197855</td>\n",
       "      <td>Lil Uzi Vert</td>\n",
       "    </tr>\n",
       "    <tr>\n",
       "      <th>4838399</th>\n",
       "      <td>spotify:artist:246dkjvS1zLTtiykXe5h60</td>\n",
       "      <td>195907</td>\n",
       "      <td>Post Malone</td>\n",
       "    </tr>\n",
       "    <tr>\n",
       "      <th>5034306</th>\n",
       "      <td>spotify:artist:0c173mlxpT3dSFRgMO8XPh</td>\n",
       "      <td>192473</td>\n",
       "      <td>Big Sean</td>\n",
       "    </tr>\n",
       "    <tr>\n",
       "      <th>5226779</th>\n",
       "      <td>spotify:artist:04gDigrS5kc9YWfZHwBETP</td>\n",
       "      <td>187029</td>\n",
       "      <td>Maroon 5</td>\n",
       "    </tr>\n",
       "    <tr>\n",
       "      <th>5413808</th>\n",
       "      <td>spotify:artist:3nFkdlSjzX9mRTtwJOzDYB</td>\n",
       "      <td>185520</td>\n",
       "      <td>JAY Z</td>\n",
       "    </tr>\n",
       "  </tbody>\n",
       "</table>\n",
       "</div>"
      ],
      "text/plain": [
       "                                    artist_uri  occurence        artist_name\n",
       "0        spotify:artist:3TVXtAsR1Inumwj472S9r4     846937              Drake\n",
       "846937   spotify:artist:5K4W6rqBFWDnAN6FQUkS6x     413297         Kanye West\n",
       "1260234  spotify:artist:2YZyLoL8N0Wb9xBt1NhZWg     353624     Kendrick Lamar\n",
       "1613858  spotify:artist:5pKCCKE2ajJHZ9KAiaK11H     339570            Rihanna\n",
       "1953428  spotify:artist:1Xyo4u8uXC1ZmMpatF05PJ     316603         The Weeknd\n",
       "2270031  spotify:artist:7dGJo4pcD2V6oG8kP0tJRR     294667             Eminem\n",
       "2564698  spotify:artist:6eUKZXaKkcviH0Ku9w2n3V     272116         Ed Sheeran\n",
       "2836814  spotify:artist:1RyvyyTE3xzB2ZywiAwp0i     249986             Future\n",
       "3086800  spotify:artist:1uNFoZAHBGtllmzznpCI3s     243119      Justin Bieber\n",
       "3329919  spotify:artist:6l3HvQ5sa6mXTsMTB19rO5     241556            J. Cole\n",
       "3571475  spotify:artist:6vWDO969PvNqNYHIOW5v0m     230857            Beyoncé\n",
       "3802332  spotify:artist:69GGBxA162lTqCwzJG5jLp     223509   The Chainsmokers\n",
       "4025841  spotify:artist:7bXgB6jMjp9ATFy66eO08Z     212751        Chris Brown\n",
       "4238592  spotify:artist:7CajNmpbOovFoOoasH2HaY     203047      Calvin Harris\n",
       "4441639  spotify:artist:3YQKmKGau1PzlVlkL1iodx     198905  Twenty One Pilots\n",
       "4640544  spotify:artist:4O15NlyKLIASxsJ0PrXPfz     197855       Lil Uzi Vert\n",
       "4838399  spotify:artist:246dkjvS1zLTtiykXe5h60     195907        Post Malone\n",
       "5034306  spotify:artist:0c173mlxpT3dSFRgMO8XPh     192473           Big Sean\n",
       "5226779  spotify:artist:04gDigrS5kc9YWfZHwBETP     187029           Maroon 5\n",
       "5413808  spotify:artist:3nFkdlSjzX9mRTtwJOzDYB     185520              JAY Z"
      ]
     },
     "execution_count": 36,
     "metadata": {},
     "output_type": "execute_result"
    }
   ],
   "source": [
    "top_20_artists_df = merged_df.sort_values(by='occurence', ascending=False).head(20)\n",
    "top_20_artists_df"
   ]
  },
  {
   "cell_type": "code",
   "execution_count": 37,
   "id": "2bb35740-34d9-4614-a200-275e75ad7e8e",
   "metadata": {},
   "outputs": [
    {
     "data": {
      "image/png": "[encoded data removed]",
      "text/plain": [
       "<Figure size 1200x800 with 1 Axes>"
      ]
     },
     "metadata": {},
     "output_type": "display_data"
    }
   ],
   "source": [
    "plt.figure(figsize=(12, 8))\n",
    "sns.barplot(x='occurence', y='artist_name', data=top_20_artists_df,color='green')\n",
    "plt.title('Top 20 Artists ')\n",
    "plt.xlabel('Occurrence')\n",
    "plt.ylabel('Artist Name')\n",
    "plt.show()"
   ]
  },
  {
   "cell_type": "markdown",
   "id": "366a6e48-238c-4210-bec9-e5710ab6068f",
   "metadata": {
    "jp-MarkdownHeadingCollapsed": true
   },
   "source": [
    "### Top 10 Popular Songs"
   ]
  },
  {
   "cell_type": "markdown",
   "id": "0226d38d-8292-40e2-ae00-8688ee4dea32",
   "metadata": {},
   "source": [
    "First, let's create a dataframe to see the occurence of each song across the playlists."
   ]
  },
  {
   "cell_type": "code",
   "execution_count": 37,
   "id": "f4712ac5-18da-41cb-9905-196d86f1145f",
   "metadata": {},
   "outputs": [],
   "source": [
    "track_occur = tracks_df['track_uri'].value_counts()"
   ]
  },
  {
   "cell_type": "code",
   "execution_count": 38,
   "id": "32ae2987-1203-41db-80f2-b46c677a578a",
   "metadata": {},
   "outputs": [],
   "source": [
    "top_20_tracks_info = tracks_df[['track_uri', 'track_name','artist_name']].drop_duplicates().set_index('track_uri').loc[track_occur.head(20).index]\n"
   ]
  },
  {
   "cell_type": "code",
   "execution_count": 39,
   "id": "bd3ef965-53e1-400d-8b56-e7046ecf50f5",
   "metadata": {},
   "outputs": [
    {
     "data": {
      "text/html": [
       "<div>\n",
       "<style scoped>\n",
       "    .dataframe tbody tr th:only-of-type {\n",
       "        vertical-align: middle;\n",
       "    }\n",
       "\n",
       "    .dataframe tbody tr th {\n",
       "        vertical-align: top;\n",
       "    }\n",
       "\n",
       "    .dataframe thead th {\n",
       "        text-align: right;\n",
       "    }\n",
       "</style>\n",
       "<table border=\"1\" class=\"dataframe\">\n",
       "  <thead>\n",
       "    <tr style=\"text-align: right;\">\n",
       "      <th></th>\n",
       "      <th>track_name</th>\n",
       "      <th>artist_name</th>\n",
       "    </tr>\n",
       "    <tr>\n",
       "      <th>track_uri</th>\n",
       "      <th></th>\n",
       "      <th></th>\n",
       "    </tr>\n",
       "  </thead>\n",
       "  <tbody>\n",
       "    <tr>\n",
       "      <th>spotify:track:7KXjTSCq5nL1LoYtL7XAwS</th>\n",
       "      <td>HUMBLE.</td>\n",
       "      <td>Kendrick Lamar</td>\n",
       "    </tr>\n",
       "    <tr>\n",
       "      <th>spotify:track:1xznGGDReH1oQq0xzbwXa3</th>\n",
       "      <td>One Dance</td>\n",
       "      <td>Drake</td>\n",
       "    </tr>\n",
       "    <tr>\n",
       "      <th>spotify:track:7yyRTcZmCiyzzJlNzGC9Ol</th>\n",
       "      <td>Broccoli (feat. Lil Yachty)</td>\n",
       "      <td>DRAM</td>\n",
       "    </tr>\n",
       "    <tr>\n",
       "      <th>spotify:track:7BKLCZ1jbUBVqRi2FVlTVw</th>\n",
       "      <td>Closer</td>\n",
       "      <td>The Chainsmokers</td>\n",
       "    </tr>\n",
       "    <tr>\n",
       "      <th>spotify:track:3a1lNhkSLSkpJE4MSHpDu9</th>\n",
       "      <td>Congratulations</td>\n",
       "      <td>Post Malone</td>\n",
       "    </tr>\n",
       "    <tr>\n",
       "      <th>spotify:track:5hTpBe8h35rJ67eAWHQsJx</th>\n",
       "      <td>Caroline</td>\n",
       "      <td>Aminé</td>\n",
       "    </tr>\n",
       "    <tr>\n",
       "      <th>spotify:track:2EEeOnHehOozLq4aS0n6SL</th>\n",
       "      <td>iSpy (feat. Lil Yachty)</td>\n",
       "      <td>KYLE</td>\n",
       "    </tr>\n",
       "    <tr>\n",
       "      <th>spotify:track:4Km5HrUvYTaSUfiSGPJeQR</th>\n",
       "      <td>Bad and Boujee (feat. Lil Uzi Vert)</td>\n",
       "      <td>Migos</td>\n",
       "    </tr>\n",
       "    <tr>\n",
       "      <th>spotify:track:7GX5flRQZVHRAGd6B4TmDO</th>\n",
       "      <td>XO TOUR Llif3</td>\n",
       "      <td>Lil Uzi Vert</td>\n",
       "    </tr>\n",
       "    <tr>\n",
       "      <th>spotify:track:152lZdxL1OR0ZMW6KquMif</th>\n",
       "      <td>Location</td>\n",
       "      <td>Khalid</td>\n",
       "    </tr>\n",
       "    <tr>\n",
       "      <th>spotify:track:0SGkqnVQo9KPytSri1H6cF</th>\n",
       "      <td>Bounce Back</td>\n",
       "      <td>Big Sean</td>\n",
       "    </tr>\n",
       "    <tr>\n",
       "      <th>spotify:track:5dNfHmqgr128gMY2tc5CeJ</th>\n",
       "      <td>Ignition - Remix</td>\n",
       "      <td>R. Kelly</td>\n",
       "    </tr>\n",
       "    <tr>\n",
       "      <th>spotify:track:62vpWI1CHwFy7tMIcSStl8</th>\n",
       "      <td>No Role Modelz</td>\n",
       "      <td>J. Cole</td>\n",
       "    </tr>\n",
       "    <tr>\n",
       "      <th>spotify:track:0VgkVdmE4gld66l8iyGjgx</th>\n",
       "      <td>Mask Off</td>\n",
       "      <td>Future</td>\n",
       "    </tr>\n",
       "    <tr>\n",
       "      <th>spotify:track:0v9Wz8o0BT8DU38R4ddjeH</th>\n",
       "      <td>No Problem (feat. Lil Wayne &amp; 2 Chainz)</td>\n",
       "      <td>Chance The Rapper</td>\n",
       "    </tr>\n",
       "    <tr>\n",
       "      <th>spotify:track:3DXncPQOG4VBw3QHh3S817</th>\n",
       "      <td>I'm the One</td>\n",
       "      <td>DJ Khaled</td>\n",
       "    </tr>\n",
       "    <tr>\n",
       "      <th>spotify:track:27GmP9AWRs744SzKcpJsTZ</th>\n",
       "      <td>Jumpman</td>\n",
       "      <td>Drake</td>\n",
       "    </tr>\n",
       "    <tr>\n",
       "      <th>spotify:track:6gBFPUFcJLzWGx4lenP6h2</th>\n",
       "      <td>goosebumps</td>\n",
       "      <td>Travis Scott</td>\n",
       "    </tr>\n",
       "    <tr>\n",
       "      <th>spotify:track:343YBumqHu19cGoGARUTsd</th>\n",
       "      <td>Fake Love</td>\n",
       "      <td>Drake</td>\n",
       "    </tr>\n",
       "    <tr>\n",
       "      <th>spotify:track:5CtI0qwDJkDQGwXD1H1cLb</th>\n",
       "      <td>Despacito - Remix</td>\n",
       "      <td>Luis Fonsi</td>\n",
       "    </tr>\n",
       "  </tbody>\n",
       "</table>\n",
       "</div>"
      ],
      "text/plain": [
       "                                                                   track_name  \\\n",
       "track_uri                                                                       \n",
       "spotify:track:7KXjTSCq5nL1LoYtL7XAwS                                  HUMBLE.   \n",
       "spotify:track:1xznGGDReH1oQq0xzbwXa3                                One Dance   \n",
       "spotify:track:7yyRTcZmCiyzzJlNzGC9Ol              Broccoli (feat. Lil Yachty)   \n",
       "spotify:track:7BKLCZ1jbUBVqRi2FVlTVw                                   Closer   \n",
       "spotify:track:3a1lNhkSLSkpJE4MSHpDu9                          Congratulations   \n",
       "spotify:track:5hTpBe8h35rJ67eAWHQsJx                                 Caroline   \n",
       "spotify:track:2EEeOnHehOozLq4aS0n6SL                  iSpy (feat. Lil Yachty)   \n",
       "spotify:track:4Km5HrUvYTaSUfiSGPJeQR      Bad and Boujee (feat. Lil Uzi Vert)   \n",
       "spotify:track:7GX5flRQZVHRAGd6B4TmDO                            XO TOUR Llif3   \n",
       "spotify:track:152lZdxL1OR0ZMW6KquMif                                 Location   \n",
       "spotify:track:0SGkqnVQo9KPytSri1H6cF                              Bounce Back   \n",
       "spotify:track:5dNfHmqgr128gMY2tc5CeJ                         Ignition - Remix   \n",
       "spotify:track:62vpWI1CHwFy7tMIcSStl8                           No Role Modelz   \n",
       "spotify:track:0VgkVdmE4gld66l8iyGjgx                                 Mask Off   \n",
       "spotify:track:0v9Wz8o0BT8DU38R4ddjeH  No Problem (feat. Lil Wayne & 2 Chainz)   \n",
       "spotify:track:3DXncPQOG4VBw3QHh3S817                              I'm the One   \n",
       "spotify:track:27GmP9AWRs744SzKcpJsTZ                                  Jumpman   \n",
       "spotify:track:6gBFPUFcJLzWGx4lenP6h2                               goosebumps   \n",
       "spotify:track:343YBumqHu19cGoGARUTsd                                Fake Love   \n",
       "spotify:track:5CtI0qwDJkDQGwXD1H1cLb                        Despacito - Remix   \n",
       "\n",
       "                                            artist_name  \n",
       "track_uri                                                \n",
       "spotify:track:7KXjTSCq5nL1LoYtL7XAwS     Kendrick Lamar  \n",
       "spotify:track:1xznGGDReH1oQq0xzbwXa3              Drake  \n",
       "spotify:track:7yyRTcZmCiyzzJlNzGC9Ol               DRAM  \n",
       "spotify:track:7BKLCZ1jbUBVqRi2FVlTVw   The Chainsmokers  \n",
       "spotify:track:3a1lNhkSLSkpJE4MSHpDu9        Post Malone  \n",
       "spotify:track:5hTpBe8h35rJ67eAWHQsJx              Aminé  \n",
       "spotify:track:2EEeOnHehOozLq4aS0n6SL               KYLE  \n",
       "spotify:track:4Km5HrUvYTaSUfiSGPJeQR              Migos  \n",
       "spotify:track:7GX5flRQZVHRAGd6B4TmDO       Lil Uzi Vert  \n",
       "spotify:track:152lZdxL1OR0ZMW6KquMif             Khalid  \n",
       "spotify:track:0SGkqnVQo9KPytSri1H6cF           Big Sean  \n",
       "spotify:track:5dNfHmqgr128gMY2tc5CeJ           R. Kelly  \n",
       "spotify:track:62vpWI1CHwFy7tMIcSStl8            J. Cole  \n",
       "spotify:track:0VgkVdmE4gld66l8iyGjgx             Future  \n",
       "spotify:track:0v9Wz8o0BT8DU38R4ddjeH  Chance The Rapper  \n",
       "spotify:track:3DXncPQOG4VBw3QHh3S817          DJ Khaled  \n",
       "spotify:track:27GmP9AWRs744SzKcpJsTZ              Drake  \n",
       "spotify:track:6gBFPUFcJLzWGx4lenP6h2       Travis Scott  \n",
       "spotify:track:343YBumqHu19cGoGARUTsd              Drake  \n",
       "spotify:track:5CtI0qwDJkDQGwXD1H1cLb         Luis Fonsi  "
      ]
     },
     "execution_count": 39,
     "metadata": {},
     "output_type": "execute_result"
    }
   ],
   "source": [
    "top_20_tracks_info "
   ]
  },
  {
   "cell_type": "code",
   "execution_count": 41,
   "id": "cf33d330-a595-4f32-8e6e-e079cec06212",
   "metadata": {},
   "outputs": [],
   "source": [
    "top_20_tracks_info['count'] = track_occur.head(20).values"
   ]
  },
  {
   "cell_type": "code",
   "execution_count": 42,
   "id": "b0828a34-49f3-4ea7-99a0-52724399730a",
   "metadata": {},
   "outputs": [
    {
     "data": {
      "image/png": "[encoded data removed]",
      "text/plain": [
       "<Figure size 1000x600 with 1 Axes>"
      ]
     },
     "metadata": {},
     "output_type": "display_data"
    }
   ],
   "source": [
    "# Step 4: Create the visualization\n",
    "plt.figure(figsize=(10, 6))\n",
    "sns.barplot(x=top_20_tracks_info['count'], y=top_20_tracks_info['track_name'],color='green')\n",
    "plt.title('Top 20 Most Popular Songs')\n",
    "plt.xlabel('Number of Appearances')\n",
    "plt.ylabel('Song Name')\n",
    "plt.show()"
   ]
  },
  {
   "cell_type": "markdown",
   "id": "52c8fcee-587d-43ea-8b72-c09e052e5c80",
   "metadata": {
    "jp-MarkdownHeadingCollapsed": true
   },
   "source": [
    "### Top 10 Drake's  and Jay Z's songs"
   ]
  },
  {
   "cell_type": "markdown",
   "id": "f4656f87-66d5-48fd-b750-55c727aa1f6e",
   "metadata": {},
   "source": [
    "First, we need to get all of Drake's song. Then, sort it and get the top 10 songs which has the most occuerences. "
   ]
  },
  {
   "cell_type": "code",
   "execution_count": 43,
   "id": "06261d61-9b77-40df-9c2f-871eb6ecfe7a",
   "metadata": {},
   "outputs": [],
   "source": [
    "drake_tracks_df = tracks_df[tracks_df['artist_name'] == 'Drake']"
   ]
  },
  {
   "cell_type": "code",
   "execution_count": 44,
   "id": "e44e8a9e-f095-4ee7-aeb8-8793dd08d259",
   "metadata": {},
   "outputs": [
    {
     "data": {
      "text/plain": [
       "track_name\n",
       "One Dance        43447\n",
       "Jumpman          31119\n",
       "Fake Love        30678\n",
       "Hotline Bling    25867\n",
       "Too Good         24040\n",
       "Passionfruit     23295\n",
       "Controlla        20738\n",
       "Pop Style        19170\n",
       "Back To Back     18033\n",
       "Portland         17851\n",
       "Name: count, dtype: int64"
      ]
     },
     "execution_count": 44,
     "metadata": {},
     "output_type": "execute_result"
    }
   ],
   "source": [
    "top10_drake_songs = drake_tracks_df['track_name'].value_counts().head(10)\n",
    "top10_drake_songs"
   ]
  },
  {
   "cell_type": "code",
   "execution_count": 45,
   "id": "93c6dc2c-5352-4b43-b13b-b9b27f1baacb",
   "metadata": {},
   "outputs": [
    {
     "data": {
      "text/plain": [
       "Text(0, 0.5, \"Song's Name\")"
      ]
     },
     "execution_count": 45,
     "metadata": {},
     "output_type": "execute_result"
    },
    {
     "data": {
      "image/png": "[encoded data removed]",
      "text/plain": [
       "<Figure size 1000x600 with 1 Axes>"
      ]
     },
     "metadata": {},
     "output_type": "display_data"
    }
   ],
   "source": [
    "plt.figure(figsize=(10,6))\n",
    "top10_drake_songs.plot(kind='barh',color='green')\n",
    "plt.title(\"Top 10 Drake's Songs\")\n",
    "plt.xlabel('Number of Appearances')\n",
    "plt.ylabel(\"Song's Name\")\n"
   ]
  },
  {
   "cell_type": "markdown",
   "id": "b67cb32b-1442-4fc6-98f1-d9b8e70caa10",
   "metadata": {
    "jp-MarkdownHeadingCollapsed": true
   },
   "source": [
    "### Top Most Frequence Songs"
   ]
  },
  {
   "cell_type": "code",
   "execution_count": 36,
   "id": "04dc1da9-a6de-4547-a9a2-61f4cc462fbc",
   "metadata": {},
   "outputs": [],
   "source": [
    "song_occurrences = Counter(tracks_df['track_uri'])"
   ]
  },
  {
   "cell_type": "code",
   "execution_count": 30,
   "id": "2e7da6b9-6122-4870-8183-5d26910c2bad",
   "metadata": {},
   "outputs": [],
   "source": [
    "# Keep The Song Which Appear > 10 playlists\n",
    "filtered_songs = {track: count for track, count in song_occurrences.items() if count > 1}"
   ]
  },
  {
   "cell_type": "code",
   "execution_count": 56,
   "id": "bb38ddbe-4267-4dc9-8c47-721b02b44d57",
   "metadata": {
    "scrolled": true
   },
   "outputs": [],
   "source": [
    "filtered_tracks = tracks_df[tracks_df['track_uri'].isin(filtered_songs)]"
   ]
  },
  {
   "cell_type": "code",
   "execution_count": null,
   "id": "eb6d0ae7-f340-4cf4-ad3d-3892f042bdc3",
   "metadata": {},
   "outputs": [],
   "source": []
  },
  {
   "cell_type": "code",
   "execution_count": 58,
   "id": "6927faf6-daf0-41d7-bcf1-476ad7f2431c",
   "metadata": {
    "scrolled": true
   },
   "outputs": [
    {
     "data": {
      "text/plain": [
       "(65273009, 10)"
      ]
     },
     "execution_count": 58,
     "metadata": {},
     "output_type": "execute_result"
    }
   ],
   "source": [
    "filtered_tracks.shape"
   ]
  },
  {
   "cell_type": "code",
   "execution_count": 40,
   "id": "e341f2cb-f53d-4a3a-b6e4-12a621aef5b2",
   "metadata": {},
   "outputs": [
    {
     "data": {
      "text/html": [
       "<div>\n",
       "<style scoped>\n",
       "    .dataframe tbody tr th:only-of-type {\n",
       "        vertical-align: middle;\n",
       "    }\n",
       "\n",
       "    .dataframe tbody tr th {\n",
       "        vertical-align: top;\n",
       "    }\n",
       "\n",
       "    .dataframe thead th {\n",
       "        text-align: right;\n",
       "    }\n",
       "</style>\n",
       "<table border=\"1\" class=\"dataframe\">\n",
       "  <thead>\n",
       "    <tr style=\"text-align: right;\">\n",
       "      <th></th>\n",
       "      <th>track_uri</th>\n",
       "      <th>artist_uri</th>\n",
       "      <th>artist_name</th>\n",
       "      <th>track_name</th>\n",
       "    </tr>\n",
       "  </thead>\n",
       "  <tbody>\n",
       "    <tr>\n",
       "      <th>0</th>\n",
       "      <td>TRMMMYQ128F932D901</td>\n",
       "      <td>SOQMMHC12AB0180CB8</td>\n",
       "      <td>Faster Pussy cat</td>\n",
       "      <td>Silent Night</td>\n",
       "    </tr>\n",
       "    <tr>\n",
       "      <th>1</th>\n",
       "      <td>TRMMMKD128F425225D</td>\n",
       "      <td>SOVFVAK12A8C1350D9</td>\n",
       "      <td>Karkkiautomaatti</td>\n",
       "      <td>Tanssi vaan</td>\n",
       "    </tr>\n",
       "    <tr>\n",
       "      <th>2</th>\n",
       "      <td>TRMMMRX128F93187D9</td>\n",
       "      <td>SOGTUKN12AB017F4F1</td>\n",
       "      <td>Hudson Mohawke</td>\n",
       "      <td>No One Could Ever</td>\n",
       "    </tr>\n",
       "    <tr>\n",
       "      <th>3</th>\n",
       "      <td>TRMMMCH128F425532C</td>\n",
       "      <td>SOBNYVR12A8C13558C</td>\n",
       "      <td>Yerba Brava</td>\n",
       "      <td>Si Vos Querés</td>\n",
       "    </tr>\n",
       "    <tr>\n",
       "      <th>4</th>\n",
       "      <td>TRMMMWA128F426B589</td>\n",
       "      <td>SOHSBXH12A8C13B0DF</td>\n",
       "      <td>Der Mystic</td>\n",
       "      <td>Tangle Of Aspens</td>\n",
       "    </tr>\n",
       "  </tbody>\n",
       "</table>\n",
       "</div>"
      ],
      "text/plain": [
       "            track_uri          artist_uri       artist_name         track_name\n",
       "0  TRMMMYQ128F932D901  SOQMMHC12AB0180CB8  Faster Pussy cat       Silent Night\n",
       "1  TRMMMKD128F425225D  SOVFVAK12A8C1350D9  Karkkiautomaatti        Tanssi vaan\n",
       "2  TRMMMRX128F93187D9  SOGTUKN12AB017F4F1    Hudson Mohawke  No One Could Ever\n",
       "3  TRMMMCH128F425532C  SOBNYVR12A8C13558C       Yerba Brava      Si Vos Querés\n",
       "4  TRMMMWA128F426B589  SOHSBXH12A8C13B0DF        Der Mystic   Tangle Of Aspens"
      ]
     },
     "execution_count": 40,
     "metadata": {},
     "output_type": "execute_result"
    }
   ],
   "source": [
    "spotifymilsongs.head()"
   ]
  },
  {
   "cell_type": "code",
   "execution_count": 46,
   "id": "f67fbad9-fe48-4996-9abb-905e90f023e0",
   "metadata": {},
   "outputs": [
    {
     "data": {
      "text/html": [
       "<div>\n",
       "<style scoped>\n",
       "    .dataframe tbody tr th:only-of-type {\n",
       "        vertical-align: middle;\n",
       "    }\n",
       "\n",
       "    .dataframe tbody tr th {\n",
       "        vertical-align: top;\n",
       "    }\n",
       "\n",
       "    .dataframe thead th {\n",
       "        text-align: right;\n",
       "    }\n",
       "</style>\n",
       "<table border=\"1\" class=\"dataframe\">\n",
       "  <thead>\n",
       "    <tr style=\"text-align: right;\">\n",
       "      <th></th>\n",
       "      <th>pos</th>\n",
       "      <th>artist_name</th>\n",
       "      <th>track_uri</th>\n",
       "      <th>artist_uri</th>\n",
       "      <th>track_name</th>\n",
       "      <th>album_uri</th>\n",
       "      <th>duration_ms</th>\n",
       "      <th>album_name</th>\n",
       "      <th>playlist_name</th>\n",
       "      <th>playlist_pid</th>\n",
       "    </tr>\n",
       "  </thead>\n",
       "  <tbody>\n",
       "    <tr>\n",
       "      <th>0</th>\n",
       "      <td>0</td>\n",
       "      <td>Nicki Minaj</td>\n",
       "      <td>spotify:track:7gKIt3rDGIMJDFVSPBnGmj</td>\n",
       "      <td>spotify:artist:0hCNtLu0JehylgoiP8L4Gh</td>\n",
       "      <td>Super Bass</td>\n",
       "      <td>spotify:album:2RfF6dGpYIN5u1mNkfG8Pb</td>\n",
       "      <td>200013</td>\n",
       "      <td>Pink Friday</td>\n",
       "      <td>life</td>\n",
       "      <td>981000</td>\n",
       "    </tr>\n",
       "    <tr>\n",
       "      <th>1</th>\n",
       "      <td>1</td>\n",
       "      <td>Dua Lipa</td>\n",
       "      <td>spotify:track:2eAAEa8pxKF7My0EO4rFgR</td>\n",
       "      <td>spotify:artist:6M2wZ9GZgrQXHCFfjv46we</td>\n",
       "      <td>Blow Your Mind (Mwah)</td>\n",
       "      <td>spotify:album:01sfgrNbnnPUEyz6GZYlt9</td>\n",
       "      <td>178583</td>\n",
       "      <td>Dua Lipa</td>\n",
       "      <td>life</td>\n",
       "      <td>981000</td>\n",
       "    </tr>\n",
       "    <tr>\n",
       "      <th>2</th>\n",
       "      <td>2</td>\n",
       "      <td>ILoveMakonnen</td>\n",
       "      <td>spotify:track:5rnFOEEIBIWZ6dhHrY6zHh</td>\n",
       "      <td>spotify:artist:3aGFCoR8xGN6DKwvdzeSja</td>\n",
       "      <td>Love (feat. Rae Sremmurd)</td>\n",
       "      <td>spotify:album:44sGCAuUKSGPbF6fSXO2vZ</td>\n",
       "      <td>283193</td>\n",
       "      <td>Love (feat. Rae Sremmurd)</td>\n",
       "      <td>life</td>\n",
       "      <td>981000</td>\n",
       "    </tr>\n",
       "    <tr>\n",
       "      <th>3</th>\n",
       "      <td>3</td>\n",
       "      <td>J Balvin</td>\n",
       "      <td>spotify:track:7fwXWKdDNI5IutOMc5OKYw</td>\n",
       "      <td>spotify:artist:1vyhD5VmyZ7KMfW5gqLgo5</td>\n",
       "      <td>Mi Gente (feat. Beyoncé)</td>\n",
       "      <td>spotify:album:0ARVq1kA5eRP4F5VsZsr3m</td>\n",
       "      <td>209733</td>\n",
       "      <td>Mi Gente (feat. Beyoncé)</td>\n",
       "      <td>life</td>\n",
       "      <td>981000</td>\n",
       "    </tr>\n",
       "    <tr>\n",
       "      <th>4</th>\n",
       "      <td>4</td>\n",
       "      <td>Era Istrefi</td>\n",
       "      <td>spotify:track:19yIQRLAYMNxmEfdnnQDsS</td>\n",
       "      <td>spotify:artist:4poL7YCSkG7kMnWjAdDU91</td>\n",
       "      <td>No I Love Yous</td>\n",
       "      <td>spotify:album:6z4lsw2W6YwkA3CNDhGP42</td>\n",
       "      <td>180012</td>\n",
       "      <td>No I Love Yous</td>\n",
       "      <td>life</td>\n",
       "      <td>981000</td>\n",
       "    </tr>\n",
       "    <tr>\n",
       "      <th>...</th>\n",
       "      <td>...</td>\n",
       "      <td>...</td>\n",
       "      <td>...</td>\n",
       "      <td>...</td>\n",
       "      <td>...</td>\n",
       "      <td>...</td>\n",
       "      <td>...</td>\n",
       "      <td>...</td>\n",
       "      <td>...</td>\n",
       "      <td>...</td>\n",
       "    </tr>\n",
       "    <tr>\n",
       "      <th>66346422</th>\n",
       "      <td>3</td>\n",
       "      <td>PLVTINUM</td>\n",
       "      <td>spotify:track:296mmTJOJ904FwHQsSBdDr</td>\n",
       "      <td>spotify:artist:4V2pR2iSd1g0RZCglrP3jn</td>\n",
       "      <td>Champagne &amp; Sunshine</td>\n",
       "      <td>spotify:album:5POt9d7SSnolPIWD34uizU</td>\n",
       "      <td>196363</td>\n",
       "      <td>Champagne &amp; Sunshine</td>\n",
       "      <td>Yeah</td>\n",
       "      <td>930999</td>\n",
       "    </tr>\n",
       "    <tr>\n",
       "      <th>66346423</th>\n",
       "      <td>4</td>\n",
       "      <td>Justin Timberlake</td>\n",
       "      <td>spotify:track:0O45fw2L5vsWpdsOdXwNAR</td>\n",
       "      <td>spotify:artist:31TPClRtHm23RisEBtV3X7</td>\n",
       "      <td>SexyBack</td>\n",
       "      <td>spotify:album:2scB1uhcCI1TSf6b9TCZK3</td>\n",
       "      <td>242733</td>\n",
       "      <td>FutureSex/LoveSounds</td>\n",
       "      <td>Yeah</td>\n",
       "      <td>930999</td>\n",
       "    </tr>\n",
       "    <tr>\n",
       "      <th>66346424</th>\n",
       "      <td>5</td>\n",
       "      <td>Jeremih</td>\n",
       "      <td>spotify:track:08zJpaUQVi9FrKv2e32Bah</td>\n",
       "      <td>spotify:artist:3KV3p5EY4AvKxOlhGHORLg</td>\n",
       "      <td>Planez</td>\n",
       "      <td>spotify:album:7DMyQuDPe8xzjC0UDSDa96</td>\n",
       "      <td>240320</td>\n",
       "      <td>Late Nights: The Album</td>\n",
       "      <td>Yeah</td>\n",
       "      <td>930999</td>\n",
       "    </tr>\n",
       "    <tr>\n",
       "      <th>66346426</th>\n",
       "      <td>7</td>\n",
       "      <td>Chris Brown</td>\n",
       "      <td>spotify:track:3wu9ADop1FXdhToPCxwBL8</td>\n",
       "      <td>spotify:artist:7bXgB6jMjp9ATFy66eO08Z</td>\n",
       "      <td>Take You Down</td>\n",
       "      <td>spotify:album:1UtE4zAlSE2TlKmTFgrTg5</td>\n",
       "      <td>245933</td>\n",
       "      <td>Exclusive - The Forever Edition</td>\n",
       "      <td>Yeah</td>\n",
       "      <td>930999</td>\n",
       "    </tr>\n",
       "    <tr>\n",
       "      <th>66346427</th>\n",
       "      <td>8</td>\n",
       "      <td>Ginuwine</td>\n",
       "      <td>spotify:track:3pfXxHoydFRfD7IBGJTQAN</td>\n",
       "      <td>spotify:artist:7r8RF1tN2A4CiGEplkp1oP</td>\n",
       "      <td>Pony</td>\n",
       "      <td>spotify:album:3O2912EZv0FBJKZ0K5ruzK</td>\n",
       "      <td>251733</td>\n",
       "      <td>R&amp;B: From Doo-Wop To Hip-Hop</td>\n",
       "      <td>Yeah</td>\n",
       "      <td>930999</td>\n",
       "    </tr>\n",
       "  </tbody>\n",
       "</table>\n",
       "<p>65273009 rows × 10 columns</p>\n",
       "</div>"
      ],
      "text/plain": [
       "          pos        artist_name                             track_uri  \\\n",
       "0           0        Nicki Minaj  spotify:track:7gKIt3rDGIMJDFVSPBnGmj   \n",
       "1           1           Dua Lipa  spotify:track:2eAAEa8pxKF7My0EO4rFgR   \n",
       "2           2      ILoveMakonnen  spotify:track:5rnFOEEIBIWZ6dhHrY6zHh   \n",
       "3           3           J Balvin  spotify:track:7fwXWKdDNI5IutOMc5OKYw   \n",
       "4           4        Era Istrefi  spotify:track:19yIQRLAYMNxmEfdnnQDsS   \n",
       "...       ...                ...                                   ...   \n",
       "66346422    3           PLVTINUM  spotify:track:296mmTJOJ904FwHQsSBdDr   \n",
       "66346423    4  Justin Timberlake  spotify:track:0O45fw2L5vsWpdsOdXwNAR   \n",
       "66346424    5            Jeremih  spotify:track:08zJpaUQVi9FrKv2e32Bah   \n",
       "66346426    7        Chris Brown  spotify:track:3wu9ADop1FXdhToPCxwBL8   \n",
       "66346427    8           Ginuwine  spotify:track:3pfXxHoydFRfD7IBGJTQAN   \n",
       "\n",
       "                                     artist_uri                 track_name  \\\n",
       "0         spotify:artist:0hCNtLu0JehylgoiP8L4Gh                 Super Bass   \n",
       "1         spotify:artist:6M2wZ9GZgrQXHCFfjv46we      Blow Your Mind (Mwah)   \n",
       "2         spotify:artist:3aGFCoR8xGN6DKwvdzeSja  Love (feat. Rae Sremmurd)   \n",
       "3         spotify:artist:1vyhD5VmyZ7KMfW5gqLgo5   Mi Gente (feat. Beyoncé)   \n",
       "4         spotify:artist:4poL7YCSkG7kMnWjAdDU91             No I Love Yous   \n",
       "...                                         ...                        ...   \n",
       "66346422  spotify:artist:4V2pR2iSd1g0RZCglrP3jn       Champagne & Sunshine   \n",
       "66346423  spotify:artist:31TPClRtHm23RisEBtV3X7                   SexyBack   \n",
       "66346424  spotify:artist:3KV3p5EY4AvKxOlhGHORLg                     Planez   \n",
       "66346426  spotify:artist:7bXgB6jMjp9ATFy66eO08Z              Take You Down   \n",
       "66346427  spotify:artist:7r8RF1tN2A4CiGEplkp1oP                       Pony   \n",
       "\n",
       "                                     album_uri  duration_ms  \\\n",
       "0         spotify:album:2RfF6dGpYIN5u1mNkfG8Pb       200013   \n",
       "1         spotify:album:01sfgrNbnnPUEyz6GZYlt9       178583   \n",
       "2         spotify:album:44sGCAuUKSGPbF6fSXO2vZ       283193   \n",
       "3         spotify:album:0ARVq1kA5eRP4F5VsZsr3m       209733   \n",
       "4         spotify:album:6z4lsw2W6YwkA3CNDhGP42       180012   \n",
       "...                                        ...          ...   \n",
       "66346422  spotify:album:5POt9d7SSnolPIWD34uizU       196363   \n",
       "66346423  spotify:album:2scB1uhcCI1TSf6b9TCZK3       242733   \n",
       "66346424  spotify:album:7DMyQuDPe8xzjC0UDSDa96       240320   \n",
       "66346426  spotify:album:1UtE4zAlSE2TlKmTFgrTg5       245933   \n",
       "66346427  spotify:album:3O2912EZv0FBJKZ0K5ruzK       251733   \n",
       "\n",
       "                               album_name playlist_name  playlist_pid  \n",
       "0                             Pink Friday          life        981000  \n",
       "1                                Dua Lipa          life        981000  \n",
       "2               Love (feat. Rae Sremmurd)          life        981000  \n",
       "3                Mi Gente (feat. Beyoncé)          life        981000  \n",
       "4                          No I Love Yous          life        981000  \n",
       "...                                   ...           ...           ...  \n",
       "66346422             Champagne & Sunshine          Yeah        930999  \n",
       "66346423             FutureSex/LoveSounds          Yeah        930999  \n",
       "66346424           Late Nights: The Album          Yeah        930999  \n",
       "66346426  Exclusive - The Forever Edition          Yeah        930999  \n",
       "66346427     R&B: From Doo-Wop To Hip-Hop          Yeah        930999  \n",
       "\n",
       "[65273009 rows x 10 columns]"
      ]
     },
     "execution_count": 46,
     "metadata": {},
     "output_type": "execute_result"
    }
   ],
   "source": [
    "tracks_df1"
   ]
  },
  {
   "cell_type": "code",
   "execution_count": null,
   "id": "6269640a-a73c-4fdb-98bf-dee8f851c9d2",
   "metadata": {},
   "outputs": [],
   "source": [
    "# Step 2: Get the top 50% most common songs (based on the occurrence count)\n",
    "top_50_percent_songs = dict(song_occurrences.most_common(int(len(song_occurrences) * 0.5)))"
   ]
  },
  {
   "cell_type": "code",
   "execution_count": null,
   "id": "89902f76-b00b-4138-a386-21245896d2f4",
   "metadata": {},
   "outputs": [],
   "source": [
    "top_50_songs_df = tracks_df[tracks_df['track_uri'].isin(top_50_percent_songs.keys())]"
   ]
  },
  {
   "cell_type": "code",
   "execution_count": null,
   "id": "6bb7153f-e302-467e-b140-557710bab39a",
   "metadata": {},
   "outputs": [],
   "source": [
    "top_50_songs_playlists = top_50_songs_df.groupby('track_uri')['playlist_pid'].nunique()"
   ]
  },
  {
   "cell_type": "code",
   "execution_count": null,
   "id": "4c74e704-8579-4843-9673-0febf91b9625",
   "metadata": {
    "scrolled": true
   },
   "outputs": [],
   "source": [
    "top_50_songs_playlists.sort_values(ascending=False)"
   ]
  },
  {
   "cell_type": "code",
   "execution_count": 11,
   "id": "0689247b-1eb1-45a3-a84a-b6418dc94e40",
   "metadata": {},
   "outputs": [
    {
     "data": {
      "image/png": "[encoded data removed]",
      "text/plain": [
       "<Figure size 1000x600 with 1 Axes>"
      ]
     },
     "metadata": {},
     "output_type": "display_data"
    }
   ],
   "source": [
    "plt.figure(figsize=(10, 6))\n",
    "plt.hist(top_50_songs_playlists, bins=100, edgecolor='black', color='green')\n",
    "plt.title('Distribution of Playlist Appearances for Top 50% Most Common Songs', fontsize=14)\n",
    "plt.xlabel('Number of Playlists a Song Appears In', fontsize=12)\n",
    "plt.ylabel('Number of Songs', fontsize=12)\n",
    "plt.yscale('log')  # Use log scale to better visualize the distribution (long tail)\n",
    "plt.show()"
   ]
  },
  {
   "cell_type": "markdown",
   "id": "442db7fd-8df0-4419-bc4c-84ffe19d9935",
   "metadata": {
    "jp-MarkdownHeadingCollapsed": true
   },
   "source": [
    "# My Playlist From Spotify."
   ]
  },
  {
   "cell_type": "code",
   "execution_count": 8,
   "id": "51e5b929-a07f-4196-8b6a-1d48878b9e95",
   "metadata": {},
   "outputs": [],
   "source": [
    "myplaylist = pd.read_csv('TramNgoPlaylist.csv')\n",
    "column_names = [\"track_id\", \"track_name\", \"artist_name\", \"spotify_link\", \"track_uri\"]\n",
    "myplaylist = pd.read_csv(\"TramNgoPlaylist.csv\", names=column_names, header=None)\n",
    "myplaylist = myplaylist.drop(columns=['spotify_link'])"
   ]
  },
  {
   "cell_type": "code",
   "execution_count": 9,
   "id": "6d5c0af1-a603-44f0-ab17-fd5cb0b04597",
   "metadata": {},
   "outputs": [
    {
     "data": {
      "text/html": [
       "<div>\n",
       "<style scoped>\n",
       "    .dataframe tbody tr th:only-of-type {\n",
       "        vertical-align: middle;\n",
       "    }\n",
       "\n",
       "    .dataframe tbody tr th {\n",
       "        vertical-align: top;\n",
       "    }\n",
       "\n",
       "    .dataframe thead th {\n",
       "        text-align: right;\n",
       "    }\n",
       "</style>\n",
       "<table border=\"1\" class=\"dataframe\">\n",
       "  <thead>\n",
       "    <tr style=\"text-align: right;\">\n",
       "      <th></th>\n",
       "      <th>track_id</th>\n",
       "      <th>track_name</th>\n",
       "      <th>artist_name</th>\n",
       "      <th>track_uri</th>\n",
       "    </tr>\n",
       "  </thead>\n",
       "  <tbody>\n",
       "    <tr>\n",
       "      <th>0</th>\n",
       "      <td>1rJUbH0v2E8t1GY4OAUTeC</td>\n",
       "      <td>City Girls</td>\n",
       "      <td>Chris Brown,Young Thug</td>\n",
       "      <td>spotify:track:1rJUbH0v2E8t1GY4OAUTeC</td>\n",
       "    </tr>\n",
       "    <tr>\n",
       "      <th>1</th>\n",
       "      <td>2QpMK4mvdyFW5N0JYohVdW</td>\n",
       "      <td>Em Là Châu Báu</td>\n",
       "      <td>tlinh,RPT MCK</td>\n",
       "      <td>spotify:track:2QpMK4mvdyFW5N0JYohVdW</td>\n",
       "    </tr>\n",
       "    <tr>\n",
       "      <th>2</th>\n",
       "      <td>7ewfvLrlI0VNht4vEnoTMh</td>\n",
       "      <td>No Love</td>\n",
       "      <td>August Alsina,Nicki Minaj</td>\n",
       "      <td>spotify:track:7ewfvLrlI0VNht4vEnoTMh</td>\n",
       "    </tr>\n",
       "    <tr>\n",
       "      <th>3</th>\n",
       "      <td>4SJHHpKhcuXwDsCsPqshXj</td>\n",
       "      <td>El Efecto</td>\n",
       "      <td>Rauw Alejandro,Chencho Corleone</td>\n",
       "      <td>spotify:track:4SJHHpKhcuXwDsCsPqshXj</td>\n",
       "    </tr>\n",
       "    <tr>\n",
       "      <th>4</th>\n",
       "      <td>0AFGP6yJiakwce0evtrbxd</td>\n",
       "      <td>Hoàng Hôn</td>\n",
       "      <td>Cheung</td>\n",
       "      <td>spotify:track:0AFGP6yJiakwce0evtrbxd</td>\n",
       "    </tr>\n",
       "  </tbody>\n",
       "</table>\n",
       "</div>"
      ],
      "text/plain": [
       "                 track_id      track_name                      artist_name  \\\n",
       "0  1rJUbH0v2E8t1GY4OAUTeC      City Girls           Chris Brown,Young Thug   \n",
       "1  2QpMK4mvdyFW5N0JYohVdW  Em Là Châu Báu                    tlinh,RPT MCK   \n",
       "2  7ewfvLrlI0VNht4vEnoTMh         No Love        August Alsina,Nicki Minaj   \n",
       "3  4SJHHpKhcuXwDsCsPqshXj       El Efecto  Rauw Alejandro,Chencho Corleone   \n",
       "4  0AFGP6yJiakwce0evtrbxd       Hoàng Hôn                           Cheung   \n",
       "\n",
       "                              track_uri  \n",
       "0  spotify:track:1rJUbH0v2E8t1GY4OAUTeC  \n",
       "1  spotify:track:2QpMK4mvdyFW5N0JYohVdW  \n",
       "2  spotify:track:7ewfvLrlI0VNht4vEnoTMh  \n",
       "3  spotify:track:4SJHHpKhcuXwDsCsPqshXj  \n",
       "4  spotify:track:0AFGP6yJiakwce0evtrbxd  "
      ]
     },
     "execution_count": 9,
     "metadata": {},
     "output_type": "execute_result"
    }
   ],
   "source": [
    "myplaylist.head()"
   ]
  },
  {
   "cell_type": "code",
   "execution_count": null,
   "id": "92b5a194-648e-4415-ae6a-0025128a2526",
   "metadata": {},
   "outputs": [],
   "source": []
  }
 ],
 "metadata": {
  "kernelspec": {
   "display_name": "Python 3 (ipykernel)",
   "language": "python",
   "name": "python3"
  },
  "language_info": {
   "codemirror_mode": {
    "name": "ipython",
    "version": 3
   },
   "file_extension": ".py",
   "mimetype": "text/x-python",
   "name": "python",
   "nbconvert_exporter": "python",
   "pygments_lexer": "ipython3",
   "version": "3.10.12"
  }
 },
 "nbformat": 4,
 "nbformat_minor": 5
}
