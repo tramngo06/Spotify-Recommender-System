{
 "cells": [
  {
   "cell_type": "markdown",
   "id": "247632ad-f94a-45d0-8977-5e662b56ecf3",
   "metadata": {},
   "source": [
    "# CONTENT-BASED FILTERING"
   ]
  },
  {
   "cell_type": "markdown",
   "id": "efacced0-d862-423c-8221-baf78cf585f1",
   "metadata": {},
   "source": [
    "# 1. Data Preprocessing: Load, Clean, and Exact Data"
   ]
  },
  {
   "cell_type": "code",
   "execution_count": 1,
   "id": "7f992cb0-8e26-49d9-8811-f8755f5ca9f2",
   "metadata": {},
   "outputs": [],
   "source": [
    "import pandas as pd\n",
    "import numpy as np\n",
    "import matplotlib.pyplot as plt\n",
    "from sklearn.feature_extraction.text import TfidfVectorizer\n",
    "from sklearn.metrics.pairwise import cosine_similarity\n",
    "from sklearn.metrics import ndcg_score\n",
    "from sklearn.preprocessing import MultiLabelBinarizer\n",
    "from collections import Counter"
   ]
  },
  {
   "cell_type": "code",
   "execution_count": 2,
   "id": "d2cf2c38-19df-44a0-a530-632561d33fd2",
   "metadata": {},
   "outputs": [],
   "source": [
    "from sklearn.metrics.pairwise import cosine_similarity"
   ]
  },
  {
   "cell_type": "markdown",
   "id": "125e57ce-8d13-4da4-aac3-2c88d598f7e0",
   "metadata": {},
   "source": [
    "## LOAD ALL THE NEEDED VARIABLES HERE. "
   ]
  },
  {
   "cell_type": "code",
   "execution_count": 3,
   "id": "f1d46250-8dd7-4ddc-9c7a-78bfb7b0233e",
   "metadata": {},
   "outputs": [],
   "source": [
    "unique_artists_df = pd.read_pickle('unique_artists_df.pkl')\n",
    "playlists_genres_df = pd.read_pickle('playlists_genres_df.pkl')\n",
    "playlist_genres_dup= pd.read_pickle('playlist_genres_dup.pkl')\n",
    "tracks_df = pd.read_csv('tracks_df.csv')\n",
    "common_genres = np.load(\"common_genres.npy\", allow_pickle=True)\n",
    "common_genres = common_genres.tolist()\n",
    "artist_vectors = np.load(\"artist_vectors.npy\", allow_pickle=True)"
   ]
  },
  {
   "cell_type": "code",
   "execution_count": null,
   "id": "8ec48ea8-c65d-47f1-8df5-40c721e810f9",
   "metadata": {},
   "outputs": [],
   "source": [
    "# Load Matrices after Training\n",
    "playlists_genre_matrix = np.load('playlists_genre_matrix.npy')\n",
    "artists_genre_matrix = np.load('artists_genre_matrix.npy')"
   ]
  },
  {
   "cell_type": "code",
   "execution_count": null,
   "id": "699a5835-d75c-4fee-8593-9af901bbbbab",
   "metadata": {},
   "outputs": [],
   "source": [
    "merged_df = pd.read_csv('merged_df')"
   ]
  },
  {
   "cell_type": "code",
   "execution_count": null,
   "id": "3efc3b9e-68f5-47dc-8790-e16030bc9fc3",
   "metadata": {},
   "outputs": [],
   "source": [
    "merged_df.head()"
   ]
  },
  {
   "cell_type": "code",
   "execution_count": 11,
   "id": "243dbc22-aebc-4ae1-a083-b287885be9e4",
   "metadata": {},
   "outputs": [
    {
     "name": "stdout",
     "output_type": "stream",
     "text": [
      "Number Of Unique Artists: 295860\n"
     ]
    }
   ],
   "source": [
    "print('Number Of Unique Artists:' , len(merged_df['artist_uri'].unique()))"
   ]
  },
  {
   "cell_type": "code",
   "execution_count": 13,
   "id": "1c159044-2972-4aa1-bbc1-23162b82e431",
   "metadata": {},
   "outputs": [
    {
     "name": "stdout",
     "output_type": "stream",
     "text": [
      "Number Of Unique Tracks: 2262292\n"
     ]
    }
   ],
   "source": [
    "print('Number Of Unique Tracks:', len(merged_df['track_uri'].unique()))"
   ]
  },
  {
   "cell_type": "code",
   "execution_count": null,
   "id": "9f047a5c-875e-4dd4-bc02-a348112130aa",
   "metadata": {},
   "outputs": [],
   "source": [
    "merged_df.to_csv('merged_df', index= False)"
   ]
  },
  {
   "cell_type": "code",
   "execution_count": 25,
   "id": "f3e28001-245b-4f73-9132-7363c03d468b",
   "metadata": {},
   "outputs": [],
   "source": [
    "playlist_genres_dup.to_pickle('playlist_genres_dup.pkl')"
   ]
  },
  {
   "cell_type": "markdown",
   "id": "394c5dda-ad01-4d53-9db3-437b0a65f20b",
   "metadata": {},
   "source": [
    "## 1.1: Analyze Genres Of The Songs"
   ]
  },
  {
   "cell_type": "markdown",
   "id": "6ee4eaaa-c0ff-4c75-aac4-755097a7ff84",
   "metadata": {
    "jp-MarkdownHeadingCollapsed": true
   },
   "source": [
    "### Step 1: Create Unique Artists_Genres Dataframe"
   ]
  },
  {
   "cell_type": "markdown",
   "id": "62a05b62-8269-434f-8661-6983c421d9ef",
   "metadata": {},
   "source": [
    "#### **Goal:** Create a list of genres based on artist. For each artist in the dataframe merged_df, we have a list of genres belong to corresponding artists."
   ]
  },
  {
   "cell_type": "markdown",
   "id": "1201e272-b0b2-4768-a219-78c486bd392e",
   "metadata": {},
   "source": [
    "First, we need to drop alll the rows that is empty (NaN)"
   ]
  },
  {
   "cell_type": "code",
   "execution_count": null,
   "id": "aa01f90d-58fb-4114-8dd2-695d4f4e2ff9",
   "metadata": {},
   "outputs": [],
   "source": [
    "merged_df = merged_df[merged_df['tags'].notna() & (merged_df['tags'] != {})]\n",
    "merged_df = merged_df[merged_df['tags'].apply(lambda x: not isinstance(x, list) or len(x) > 0)]"
   ]
  },
  {
   "cell_type": "code",
   "execution_count": 15,
   "id": "b52294f8-5396-41c0-9096-f62865d8b889",
   "metadata": {},
   "outputs": [],
   "source": [
    "merged_df = merged_df[merged_df['tags'] != '[]']"
   ]
  },
  {
   "cell_type": "code",
   "execution_count": 4,
   "id": "e250c928-71d7-4d90-a762-c170c77c5511",
   "metadata": {},
   "outputs": [
    {
     "data": {
      "text/plain": [
       "Index(['track_uri', 'track_name', 'artist_name', 'artist_uri', 'album_uri',\n",
       "       'album_name', 'type-id', 'tags'],\n",
       "      dtype='object')"
      ]
     },
     "execution_count": 4,
     "metadata": {},
     "output_type": "execute_result"
    }
   ],
   "source": [
    "merged_df.columns"
   ]
  },
  {
   "cell_type": "code",
   "execution_count": 5,
   "id": "3edbcf3b-416e-4403-ab8c-d6be9d118fa0",
   "metadata": {},
   "outputs": [
    {
     "name": "stdout",
     "output_type": "stream",
     "text": [
      "Number Of Unique Artists: 50647\n"
     ]
    }
   ],
   "source": [
    "print('Number Of Unique Artists:' , len(merged_df['artist_uri'].unique()))"
   ]
  },
  {
   "cell_type": "code",
   "execution_count": 6,
   "id": "931889b0-8347-4521-a4a9-15f16cb55f34",
   "metadata": {},
   "outputs": [
    {
     "name": "stdout",
     "output_type": "stream",
     "text": [
      "Number Of Unique Tracks: 1059584\n"
     ]
    }
   ],
   "source": [
    "print('Number Of Unique Tracks:', len(merged_df['track_uri'].unique()))"
   ]
  },
  {
   "cell_type": "code",
   "execution_count": 7,
   "id": "8996ebe1-cb92-4df7-bb44-fcd712768292",
   "metadata": {},
   "outputs": [
    {
     "data": {
      "text/plain": [
       "\"[{'name': 'alternative pop', 'count': 1}, {'name': 'contemporary r&b', 'count': 5}, {'count': 8, 'name': 'dance-pop'}, {'name': 'electropop', 'count': 5}, {'count': 1, 'name': 'europop'}, {'name': 'girlpower', 'count': 1}, {'name': 'house', 'count': 1}, {'name': 'nu disco', 'count': 2}, {'count': 1, 'name': 'nuno'}, {'count': 7, 'name': 'pop'}, {'name': 'synth-pop', 'count': 3}, {'count': 1, 'name': 'synthpop'}]\""
      ]
     },
     "execution_count": 7,
     "metadata": {},
     "output_type": "execute_result"
    }
   ],
   "source": [
    "merged_df.iloc[1][ 'tags']"
   ]
  },
  {
   "cell_type": "markdown",
   "id": "12569e74-ea2f-4271-b40c-40b4b1d1579d",
   "metadata": {},
   "source": [
    "#### Now, we need a dataframe where it contain only unqiue artists."
   ]
  },
  {
   "cell_type": "code",
   "execution_count": 30,
   "id": "c8cc1053-cffd-451a-bf99-0bdf36b920dd",
   "metadata": {},
   "outputs": [],
   "source": [
    "unique_artists_df = merged_df.drop_duplicates(subset='artist_uri', keep='first')"
   ]
  },
  {
   "cell_type": "code",
   "execution_count": 31,
   "id": "d358c3b8-2e1a-4f8b-aae4-92d359e572b5",
   "metadata": {},
   "outputs": [],
   "source": [
    "unique_artists_df.to_csv('unique_artists_df', index= False)"
   ]
  },
  {
   "cell_type": "code",
   "execution_count": 6,
   "id": "4a7a5e7c-ad85-4508-8143-0f954b856daf",
   "metadata": {},
   "outputs": [
    {
     "data": {
      "text/html": [
       "<div>\n",
       "<style scoped>\n",
       "    .dataframe tbody tr th:only-of-type {\n",
       "        vertical-align: middle;\n",
       "    }\n",
       "\n",
       "    .dataframe tbody tr th {\n",
       "        vertical-align: top;\n",
       "    }\n",
       "\n",
       "    .dataframe thead th {\n",
       "        text-align: right;\n",
       "    }\n",
       "</style>\n",
       "<table border=\"1\" class=\"dataframe\">\n",
       "  <thead>\n",
       "    <tr style=\"text-align: right;\">\n",
       "      <th></th>\n",
       "      <th>track_uri</th>\n",
       "      <th>track_name</th>\n",
       "      <th>artist_name</th>\n",
       "      <th>artist_uri</th>\n",
       "      <th>album_uri</th>\n",
       "      <th>album_name</th>\n",
       "      <th>type-id</th>\n",
       "      <th>tags</th>\n",
       "      <th>genres</th>\n",
       "    </tr>\n",
       "  </thead>\n",
       "  <tbody>\n",
       "    <tr>\n",
       "      <th>0</th>\n",
       "      <td>spotify:track:7gKIt3rDGIMJDFVSPBnGmj</td>\n",
       "      <td>Super Bass</td>\n",
       "      <td>Nicki Minaj</td>\n",
       "      <td>spotify:artist:0hCNtLu0JehylgoiP8L4Gh</td>\n",
       "      <td>spotify:album:2RfF6dGpYIN5u1mNkfG8Pb</td>\n",
       "      <td>Pink Friday</td>\n",
       "      <td>b6e035f4-3ce9-331c-97df-83397230b0df</td>\n",
       "      <td>[{'count': 1, 'name': '2010s'}, {'name': 'east...</td>\n",
       "      <td>[['2010s', 'east coast hip hop', 'electronic',...</td>\n",
       "    </tr>\n",
       "    <tr>\n",
       "      <th>1</th>\n",
       "      <td>spotify:track:2eAAEa8pxKF7My0EO4rFgR</td>\n",
       "      <td>Blow Your Mind (Mwah)</td>\n",
       "      <td>Dua Lipa</td>\n",
       "      <td>spotify:artist:6M2wZ9GZgrQXHCFfjv46we</td>\n",
       "      <td>spotify:album:01sfgrNbnnPUEyz6GZYlt9</td>\n",
       "      <td>Dua Lipa</td>\n",
       "      <td>b6e035f4-3ce9-331c-97df-83397230b0df</td>\n",
       "      <td>[{'name': 'alternative pop', 'count': 1}, {'na...</td>\n",
       "      <td>[['alternative pop', 'contemporary r&amp;b', 'danc...</td>\n",
       "    </tr>\n",
       "    <tr>\n",
       "      <th>2</th>\n",
       "      <td>spotify:track:7fwXWKdDNI5IutOMc5OKYw</td>\n",
       "      <td>Mi Gente (feat. Beyoncé)</td>\n",
       "      <td>J Balvin</td>\n",
       "      <td>spotify:artist:1vyhD5VmyZ7KMfW5gqLgo5</td>\n",
       "      <td>spotify:album:0ARVq1kA5eRP4F5VsZsr3m</td>\n",
       "      <td>Mi Gente (feat. Beyoncé)</td>\n",
       "      <td>b6e035f4-3ce9-331c-97df-83397230b0df</td>\n",
       "      <td>[{'count': 6, 'name': 'hip hop'}, {'count': 5,...</td>\n",
       "      <td>[['hip hop', 'latin', 'latin pop', 'pop', 'reg...</td>\n",
       "    </tr>\n",
       "    <tr>\n",
       "      <th>3</th>\n",
       "      <td>spotify:track:4Z22Uz5JhtWbkmzojNcdPr</td>\n",
       "      <td>Damage</td>\n",
       "      <td>PARTYNEXTDOOR</td>\n",
       "      <td>spotify:artist:2HPaUgqeutzr3jx5a9WyDV</td>\n",
       "      <td>spotify:album:2epjwjOMvx6HE9EciJqDue</td>\n",
       "      <td>Seven Days</td>\n",
       "      <td>b6e035f4-3ce9-331c-97df-83397230b0df</td>\n",
       "      <td>[{'count': 1, 'name': 'alternative r&amp;b'}, {'co...</td>\n",
       "      <td>[['alternative r&amp;b', 'canadian', 'partynextdoo...</td>\n",
       "    </tr>\n",
       "    <tr>\n",
       "      <th>4</th>\n",
       "      <td>spotify:track:1nMYtxDrONcoGnKRvxTwPv</td>\n",
       "      <td>i miss the old u</td>\n",
       "      <td>blackbear</td>\n",
       "      <td>spotify:artist:2cFrymmkijnjDg9SS92EPM</td>\n",
       "      <td>spotify:album:30QoUTsSdpQuZunPNFsLnm</td>\n",
       "      <td>digital druglord</td>\n",
       "      <td>b6e035f4-3ce9-331c-97df-83397230b0df</td>\n",
       "      <td>[{'name': 'alternative r&amp;b', 'count': 1}, {'co...</td>\n",
       "      <td>[['alternative r&amp;b', 'english', 'hip hop', 'po...</td>\n",
       "    </tr>\n",
       "  </tbody>\n",
       "</table>\n",
       "</div>"
      ],
      "text/plain": [
       "                              track_uri                track_name  \\\n",
       "0  spotify:track:7gKIt3rDGIMJDFVSPBnGmj                Super Bass   \n",
       "1  spotify:track:2eAAEa8pxKF7My0EO4rFgR     Blow Your Mind (Mwah)   \n",
       "2  spotify:track:7fwXWKdDNI5IutOMc5OKYw  Mi Gente (feat. Beyoncé)   \n",
       "3  spotify:track:4Z22Uz5JhtWbkmzojNcdPr                    Damage   \n",
       "4  spotify:track:1nMYtxDrONcoGnKRvxTwPv          i miss the old u   \n",
       "\n",
       "     artist_name                             artist_uri  \\\n",
       "0    Nicki Minaj  spotify:artist:0hCNtLu0JehylgoiP8L4Gh   \n",
       "1       Dua Lipa  spotify:artist:6M2wZ9GZgrQXHCFfjv46we   \n",
       "2       J Balvin  spotify:artist:1vyhD5VmyZ7KMfW5gqLgo5   \n",
       "3  PARTYNEXTDOOR  spotify:artist:2HPaUgqeutzr3jx5a9WyDV   \n",
       "4      blackbear  spotify:artist:2cFrymmkijnjDg9SS92EPM   \n",
       "\n",
       "                              album_uri                album_name  \\\n",
       "0  spotify:album:2RfF6dGpYIN5u1mNkfG8Pb               Pink Friday   \n",
       "1  spotify:album:01sfgrNbnnPUEyz6GZYlt9                  Dua Lipa   \n",
       "2  spotify:album:0ARVq1kA5eRP4F5VsZsr3m  Mi Gente (feat. Beyoncé)   \n",
       "3  spotify:album:2epjwjOMvx6HE9EciJqDue                Seven Days   \n",
       "4  spotify:album:30QoUTsSdpQuZunPNFsLnm          digital druglord   \n",
       "\n",
       "                                type-id  \\\n",
       "0  b6e035f4-3ce9-331c-97df-83397230b0df   \n",
       "1  b6e035f4-3ce9-331c-97df-83397230b0df   \n",
       "2  b6e035f4-3ce9-331c-97df-83397230b0df   \n",
       "3  b6e035f4-3ce9-331c-97df-83397230b0df   \n",
       "4  b6e035f4-3ce9-331c-97df-83397230b0df   \n",
       "\n",
       "                                                tags  \\\n",
       "0  [{'count': 1, 'name': '2010s'}, {'name': 'east...   \n",
       "1  [{'name': 'alternative pop', 'count': 1}, {'na...   \n",
       "2  [{'count': 6, 'name': 'hip hop'}, {'count': 5,...   \n",
       "3  [{'count': 1, 'name': 'alternative r&b'}, {'co...   \n",
       "4  [{'name': 'alternative r&b', 'count': 1}, {'co...   \n",
       "\n",
       "                                              genres  \n",
       "0  [['2010s', 'east coast hip hop', 'electronic',...  \n",
       "1  [['alternative pop', 'contemporary r&b', 'danc...  \n",
       "2  [['hip hop', 'latin', 'latin pop', 'pop', 'reg...  \n",
       "3  [['alternative r&b', 'canadian', 'partynextdoo...  \n",
       "4  [['alternative r&b', 'english', 'hip hop', 'po...  "
      ]
     },
     "execution_count": 6,
     "metadata": {},
     "output_type": "execute_result"
    }
   ],
   "source": [
    "unique_artists_df.head()"
   ]
  },
  {
   "cell_type": "code",
   "execution_count": 15,
   "id": "d1d35c3a-6fb6-42e8-906f-7f84d05fe1a3",
   "metadata": {},
   "outputs": [
    {
     "data": {
      "text/plain": [
       "(50647, 9)"
      ]
     },
     "execution_count": 15,
     "metadata": {},
     "output_type": "execute_result"
    }
   ],
   "source": [
    "unique_artists_df.shape"
   ]
  },
  {
   "cell_type": "code",
   "execution_count": 37,
   "id": "bcade256-0afc-49d7-b469-9aa6aacccbae",
   "metadata": {},
   "outputs": [],
   "source": [
    "import ast"
   ]
  },
  {
   "cell_type": "code",
   "execution_count": 38,
   "id": "e93d48a4-ebf5-449a-accf-ac8e9a21e7a7",
   "metadata": {},
   "outputs": [],
   "source": [
    "unique_genres = set(genre for sublist in merged_df['genres'] for genre in sublist)"
   ]
  },
  {
   "cell_type": "code",
   "execution_count": 45,
   "id": "426c6ebb-9eea-48ba-ad41-7848c1f6a475",
   "metadata": {},
   "outputs": [],
   "source": [
    "#convert unique_artists_df['genre'] into list \n",
    "unique_artists_df['genres'] = unique_artists_df['genres'].apply(lambda x: x.split(', ') if isinstance(x, str) else [])"
   ]
  },
  {
   "cell_type": "code",
   "execution_count": 12,
   "id": "fd82e658-930f-4b99-b837-9fc261cf33a3",
   "metadata": {},
   "outputs": [
    {
     "data": {
      "text/html": [
       "<div>\n",
       "<style scoped>\n",
       "    .dataframe tbody tr th:only-of-type {\n",
       "        vertical-align: middle;\n",
       "    }\n",
       "\n",
       "    .dataframe tbody tr th {\n",
       "        vertical-align: top;\n",
       "    }\n",
       "\n",
       "    .dataframe thead th {\n",
       "        text-align: right;\n",
       "    }\n",
       "</style>\n",
       "<table border=\"1\" class=\"dataframe\">\n",
       "  <thead>\n",
       "    <tr style=\"text-align: right;\">\n",
       "      <th></th>\n",
       "      <th>track_uri</th>\n",
       "      <th>track_name</th>\n",
       "      <th>artist_name</th>\n",
       "      <th>artist_uri</th>\n",
       "      <th>album_uri</th>\n",
       "      <th>album_name</th>\n",
       "      <th>type-id</th>\n",
       "      <th>tags</th>\n",
       "      <th>genres</th>\n",
       "    </tr>\n",
       "  </thead>\n",
       "  <tbody>\n",
       "    <tr>\n",
       "      <th>0</th>\n",
       "      <td>spotify:track:7gKIt3rDGIMJDFVSPBnGmj</td>\n",
       "      <td>Super Bass</td>\n",
       "      <td>Nicki Minaj</td>\n",
       "      <td>spotify:artist:0hCNtLu0JehylgoiP8L4Gh</td>\n",
       "      <td>spotify:album:2RfF6dGpYIN5u1mNkfG8Pb</td>\n",
       "      <td>Pink Friday</td>\n",
       "      <td>b6e035f4-3ce9-331c-97df-83397230b0df</td>\n",
       "      <td>[{'count': 1, 'name': '2010s'}, {'name': 'east...</td>\n",
       "      <td>[2010s, east coast hip hop, electronic, hip ho...</td>\n",
       "    </tr>\n",
       "    <tr>\n",
       "      <th>1</th>\n",
       "      <td>spotify:track:2eAAEa8pxKF7My0EO4rFgR</td>\n",
       "      <td>Blow Your Mind (Mwah)</td>\n",
       "      <td>Dua Lipa</td>\n",
       "      <td>spotify:artist:6M2wZ9GZgrQXHCFfjv46we</td>\n",
       "      <td>spotify:album:01sfgrNbnnPUEyz6GZYlt9</td>\n",
       "      <td>Dua Lipa</td>\n",
       "      <td>b6e035f4-3ce9-331c-97df-83397230b0df</td>\n",
       "      <td>[{'name': 'alternative pop', 'count': 1}, {'na...</td>\n",
       "      <td>[alternative pop, contemporary r&amp;b, dance-pop,...</td>\n",
       "    </tr>\n",
       "    <tr>\n",
       "      <th>2</th>\n",
       "      <td>spotify:track:7fwXWKdDNI5IutOMc5OKYw</td>\n",
       "      <td>Mi Gente (feat. Beyoncé)</td>\n",
       "      <td>J Balvin</td>\n",
       "      <td>spotify:artist:1vyhD5VmyZ7KMfW5gqLgo5</td>\n",
       "      <td>spotify:album:0ARVq1kA5eRP4F5VsZsr3m</td>\n",
       "      <td>Mi Gente (feat. Beyoncé)</td>\n",
       "      <td>b6e035f4-3ce9-331c-97df-83397230b0df</td>\n",
       "      <td>[{'count': 6, 'name': 'hip hop'}, {'count': 5,...</td>\n",
       "      <td>[hip hop, latin, latin pop, pop, reggaeton]</td>\n",
       "    </tr>\n",
       "    <tr>\n",
       "      <th>3</th>\n",
       "      <td>spotify:track:4Z22Uz5JhtWbkmzojNcdPr</td>\n",
       "      <td>Damage</td>\n",
       "      <td>PARTYNEXTDOOR</td>\n",
       "      <td>spotify:artist:2HPaUgqeutzr3jx5a9WyDV</td>\n",
       "      <td>spotify:album:2epjwjOMvx6HE9EciJqDue</td>\n",
       "      <td>Seven Days</td>\n",
       "      <td>b6e035f4-3ce9-331c-97df-83397230b0df</td>\n",
       "      <td>[{'count': 1, 'name': 'alternative r&amp;b'}, {'co...</td>\n",
       "      <td>[alternative r&amp;b, canadian, partynextdoor, r&amp;b...</td>\n",
       "    </tr>\n",
       "    <tr>\n",
       "      <th>4</th>\n",
       "      <td>spotify:track:1nMYtxDrONcoGnKRvxTwPv</td>\n",
       "      <td>i miss the old u</td>\n",
       "      <td>blackbear</td>\n",
       "      <td>spotify:artist:2cFrymmkijnjDg9SS92EPM</td>\n",
       "      <td>spotify:album:30QoUTsSdpQuZunPNFsLnm</td>\n",
       "      <td>digital druglord</td>\n",
       "      <td>b6e035f4-3ce9-331c-97df-83397230b0df</td>\n",
       "      <td>[{'name': 'alternative r&amp;b', 'count': 1}, {'co...</td>\n",
       "      <td>[alternative r&amp;b, english, hip hop, pop rap, rap]</td>\n",
       "    </tr>\n",
       "  </tbody>\n",
       "</table>\n",
       "</div>"
      ],
      "text/plain": [
       "                              track_uri                track_name  \\\n",
       "0  spotify:track:7gKIt3rDGIMJDFVSPBnGmj                Super Bass   \n",
       "1  spotify:track:2eAAEa8pxKF7My0EO4rFgR     Blow Your Mind (Mwah)   \n",
       "2  spotify:track:7fwXWKdDNI5IutOMc5OKYw  Mi Gente (feat. Beyoncé)   \n",
       "3  spotify:track:4Z22Uz5JhtWbkmzojNcdPr                    Damage   \n",
       "4  spotify:track:1nMYtxDrONcoGnKRvxTwPv          i miss the old u   \n",
       "\n",
       "     artist_name                             artist_uri  \\\n",
       "0    Nicki Minaj  spotify:artist:0hCNtLu0JehylgoiP8L4Gh   \n",
       "1       Dua Lipa  spotify:artist:6M2wZ9GZgrQXHCFfjv46we   \n",
       "2       J Balvin  spotify:artist:1vyhD5VmyZ7KMfW5gqLgo5   \n",
       "3  PARTYNEXTDOOR  spotify:artist:2HPaUgqeutzr3jx5a9WyDV   \n",
       "4      blackbear  spotify:artist:2cFrymmkijnjDg9SS92EPM   \n",
       "\n",
       "                              album_uri                album_name  \\\n",
       "0  spotify:album:2RfF6dGpYIN5u1mNkfG8Pb               Pink Friday   \n",
       "1  spotify:album:01sfgrNbnnPUEyz6GZYlt9                  Dua Lipa   \n",
       "2  spotify:album:0ARVq1kA5eRP4F5VsZsr3m  Mi Gente (feat. Beyoncé)   \n",
       "3  spotify:album:2epjwjOMvx6HE9EciJqDue                Seven Days   \n",
       "4  spotify:album:30QoUTsSdpQuZunPNFsLnm          digital druglord   \n",
       "\n",
       "                                type-id  \\\n",
       "0  b6e035f4-3ce9-331c-97df-83397230b0df   \n",
       "1  b6e035f4-3ce9-331c-97df-83397230b0df   \n",
       "2  b6e035f4-3ce9-331c-97df-83397230b0df   \n",
       "3  b6e035f4-3ce9-331c-97df-83397230b0df   \n",
       "4  b6e035f4-3ce9-331c-97df-83397230b0df   \n",
       "\n",
       "                                                tags  \\\n",
       "0  [{'count': 1, 'name': '2010s'}, {'name': 'east...   \n",
       "1  [{'name': 'alternative pop', 'count': 1}, {'na...   \n",
       "2  [{'count': 6, 'name': 'hip hop'}, {'count': 5,...   \n",
       "3  [{'count': 1, 'name': 'alternative r&b'}, {'co...   \n",
       "4  [{'name': 'alternative r&b', 'count': 1}, {'co...   \n",
       "\n",
       "                                              genres  \n",
       "0  [2010s, east coast hip hop, electronic, hip ho...  \n",
       "1  [alternative pop, contemporary r&b, dance-pop,...  \n",
       "2        [hip hop, latin, latin pop, pop, reggaeton]  \n",
       "3  [alternative r&b, canadian, partynextdoor, r&b...  \n",
       "4  [alternative r&b, english, hip hop, pop rap, rap]  "
      ]
     },
     "execution_count": 12,
     "metadata": {},
     "output_type": "execute_result"
    }
   ],
   "source": [
    "unique_artists_df.head()"
   ]
  },
  {
   "cell_type": "markdown",
   "id": "899a2277-0b09-4f33-8507-4ad11ef3aba9",
   "metadata": {
    "jp-MarkdownHeadingCollapsed": true
   },
   "source": [
    "### Step 2: Create Unique Playlists_Genres Dataframe\n",
    "This dataframe contain each unique playlist and their genres. The genres are collected from all the artists in each playlist."
   ]
  },
  {
   "cell_type": "code",
   "execution_count": 33,
   "id": "1984f493-0a0a-47ed-95d4-ed24d7718532",
   "metadata": {},
   "outputs": [],
   "source": [
    "tracks_df = pd.read_csv('/home/jovyan/Spotify/tracks_df.csv')"
   ]
  },
  {
   "cell_type": "code",
   "execution_count": 35,
   "id": "873bef28-3598-4d75-acd2-3dbf74bb2bf4",
   "metadata": {},
   "outputs": [],
   "source": [
    "merged_playlists = pd.merge(tracks_df, unique_artists_df[['genres','artist_uri']], on='artist_uri', how='inner')"
   ]
  },
  {
   "cell_type": "code",
   "execution_count": 12,
   "id": "d4bee3a1-43af-4a70-b1b6-d7cd8cbc6cee",
   "metadata": {},
   "outputs": [
    {
     "data": {
      "text/plain": [
       "997079"
      ]
     },
     "execution_count": 12,
     "metadata": {},
     "output_type": "execute_result"
    }
   ],
   "source": [
    "merged_playlists['playlist_pid'].nunique()"
   ]
  },
  {
   "cell_type": "code",
   "execution_count": null,
   "id": "ea6674d4-5dae-4fef-bcd4-6ae624c51e5b",
   "metadata": {},
   "outputs": [],
   "source": [
    "merged_playlists= pd.read_csv('/home/jovyan/Spotify/merged_playlists.csv')"
   ]
  },
  {
   "cell_type": "markdown",
   "id": "58645337-5318-4a0c-9f6c-f5f8d6a63fdd",
   "metadata": {},
   "source": [
    "**Explain**: Since we merged the dataframe of tracks and unique artists, the new dataframe only contain unique artists in each playlist.\n",
    "* Now, let's check the total gernes in the first playlist (pid=0)."
   ]
  },
  {
   "cell_type": "code",
   "execution_count": 64,
   "id": "c8f3af55-cb98-4060-8bd0-bed5c1a22d5a",
   "metadata": {
    "collapsed": true,
    "jupyter": {
     "outputs_hidden": true
    }
   },
   "outputs": [
    {
     "data": {
      "text/plain": [
       "16579265    [['contemporary r&b', 'hip hop', 'hip house', ...\n",
       "16579266    [['2000s', 'american', 'dance-pop', 'electro h...\n",
       "16579267    [['2000s', '2010s', '2020s', 'actress', 'adult...\n",
       "16579268    [['2000s', 'boogie', 'contemporary r&b', 'danc...\n",
       "16579269    [['dance-pop', 'dancehall', 'english', 'pop re...\n",
       "16579270            [['contemporary r&b', 'pop rap', 'soul']]\n",
       "16579271            [['contemporary r&b', 'pop rap', 'soul']]\n",
       "16579272    [['2008 universal fire victim', 'contemporary ...\n",
       "16579273    [['atlanta hip hop', 'conscious hip hop', 'con...\n",
       "16579274    [['alternative rock', 'canadian', 'eurodance',...\n",
       "16579275                    [['american', 'pop', 'teen pop']]\n",
       "16579276                    [['american', 'pop', 'teen pop']]\n",
       "16579277                    [['american', 'pop', 'teen pop']]\n",
       "16579278                     [['hip hop rnb and dance hall']]\n",
       "16579279    [['contemporary r&b', 'hip hop', 'r&b', 'soul'...\n",
       "16579280    [['acoustic rock', 'adult contemporary', 'alte...\n",
       "16579281    [['2000s', '2010s', 'abuser', 'contemporary r&...\n",
       "16579282    [['2000s', '2010s', '2020s', 'actress', 'adult...\n",
       "16579283    [['2008 universal fire victim', 'aln-sh', 'alt...\n",
       "16579284    [['2000s', '2010s', 'abuser', 'contemporary r&...\n",
       "16579285                           [['pop rock', 'teen pop']]\n",
       "16579286    [['east coast hip hop', 'hip hop rnb and dance...\n",
       "16579287    [['bubblegum dance', 'dance-pop', 'edm', 'elec...\n",
       "16579288    [['2010s', 'contemporary r&b', 'dance', 'dance...\n",
       "16579289    [['2010s', 'contemporary r&b', 'dance-pop', 'e...\n",
       "16579290    [['alternative rock', 'country rock', 'emo pop...\n",
       "16579291    [['contemporary r&b', 'hiphop', 'reggae', 'reg...\n",
       "16579292    [['2000s', '2010s', 'abuser', 'contemporary r&...\n",
       "16579293    [['crunkcore', 'dance-pop', 'electronic', 'eur...\n",
       "16579294              [['2010s', '2020s', 'pop', 'teen pop']]\n",
       "16579295    [['alternative hip hop', 'avant-pop', 'dance',...\n",
       "16579296    [['alternative rock', 'big music', 'christmas ...\n",
       "16579297    [['2008 universal fire victim', 'contemporary ...\n",
       "16579298              [['2010s', '2020s', 'pop', 'teen pop']]\n",
       "16579299              [['2010s', '2020s', 'pop', 'teen pop']]\n",
       "16579300    [['american', 'piano pop', 'pop', 'pop rock', ...\n",
       "16579301    [['2010s', 'contemporary r&b', 'dance-pop', 'e...\n",
       "16579302                    [['american', 'pop', 'teen pop']]\n",
       "16579303    [['alien lives matter', 'dance-pop', 'electrop...\n",
       "16579304    [['acoustic rock', 'adult contemporary', 'alte...\n",
       "16579305    [['alternative rock', 'country rock', 'emo pop...\n",
       "Name: genres, dtype: object"
      ]
     },
     "execution_count": 64,
     "metadata": {},
     "output_type": "execute_result"
    }
   ],
   "source": [
    "merged_playlists[merged_playlists['playlist_pid']==0]['genres']"
   ]
  },
  {
   "cell_type": "markdown",
   "id": "929015ce-3602-47a1-acca-c2c336b189a7",
   "metadata": {},
   "source": [
    "Now, let's explode the Genres columns and group the playlist today to create a list of genres for each playlist.\n",
    "* Exact all genres of of artists and store them as lists.\n",
    "* Then, create new dataframe called playlists_genres_df which store unique genres of each playlists.\n",
    "* Genres will be unique."
   ]
  },
  {
   "cell_type": "code",
   "execution_count": 61,
   "id": "e2d0a376-7b14-4b86-b904-881d8538b11c",
   "metadata": {},
   "outputs": [],
   "source": [
    "df_exploded = merged_playlists.explode('genres')"
   ]
  },
  {
   "cell_type": "code",
   "execution_count": 80,
   "id": "6005cd54-7331-48aa-8d3b-63983e252210",
   "metadata": {},
   "outputs": [],
   "source": [
    "playlist_genres_dup = merged_playlists.groupby(['playlist_pid', 'playlist_name'])['genres'].sum().reset_index()"
   ]
  },
  {
   "cell_type": "code",
   "execution_count": 90,
   "id": "92e4b76a-959a-4ce5-b099-7eaed3da6b3f",
   "metadata": {},
   "outputs": [],
   "source": [
    "playlist_genres_dup.to_pickle('playlist_genres_dup.pkl')"
   ]
  },
  {
   "cell_type": "code",
   "execution_count": 24,
   "id": "e4ca8ea3-e445-4df7-acc1-fadef520a97a",
   "metadata": {},
   "outputs": [],
   "source": [
    "# Group but keep the duplicates.\n",
    "playlists_genres_df = df_exploded.groupby(['playlist_pid', 'playlist_name'])['genres'].apply(lambda x: list(set(x))).reset_index()"
   ]
  },
  {
   "cell_type": "markdown",
   "id": "4fd5e5d6-e909-4d56-a922-ff173f424376",
   "metadata": {},
   "source": [
    "Right now 'genres' looks very messy (duplicate, double quotation, and nested list. The function below helps to remove all the reduncdants."
   ]
  },
  {
   "cell_type": "code",
   "execution_count": 8,
   "id": "73db4247-6427-4df4-914f-2509ab5fd116",
   "metadata": {},
   "outputs": [],
   "source": [
    "import re\n",
    "def clean_genres(genre_list):\n",
    "    cleaned_genres = []\n",
    "    for item in genre_list:\n",
    "        # Remove brackets and single quotes\n",
    "        item = re.sub(r\"[\\[\\]']\", '', item).strip()\n",
    "        \n",
    "        # Split the genres by comma\n",
    "        genres = item.split(',')\n",
    "        \n",
    "        # Add cleaned genres to the list\n",
    "        for genre in genres:\n",
    "            cleaned_genres.append(genre.strip())\n",
    "    \n",
    "    return cleaned_genres"
   ]
  },
  {
   "cell_type": "code",
   "execution_count": 9,
   "id": "f1e3feaf-47ea-4324-8b05-80a317cec9a4",
   "metadata": {},
   "outputs": [],
   "source": [
    "playlist_genres_dup['genres'] = playlist_genres_dup['genres'].apply(clean_genres)"
   ]
  },
  {
   "cell_type": "code",
   "execution_count": 10,
   "id": "f3d41979-bca8-4fd3-9b3a-92129d42c3eb",
   "metadata": {},
   "outputs": [],
   "source": [
    "unique_artists_df['genres'] = unique_artists_df['genres'].apply(clean_genres)"
   ]
  },
  {
   "cell_type": "code",
   "execution_count": 13,
   "id": "ddad7d55-714a-403f-8a16-f800a56179fc",
   "metadata": {},
   "outputs": [],
   "source": [
    "# SAVE THE DATFRAME OF UNIQUE ARTIST\n",
    "unique_artists_df.to_pickle('unique_artists_df.pkl')"
   ]
  },
  {
   "cell_type": "code",
   "execution_count": 14,
   "id": "182dffa5-0e03-4a9a-a0dc-f601002c84fa",
   "metadata": {
    "scrolled": true
   },
   "outputs": [
    {
     "data": {
      "text/plain": [
       "0        [2010s, east coast hip hop, electronic, hip ho...\n",
       "1        [alternative pop, contemporary r&b, dance-pop,...\n",
       "2              [hip hop, latin, latin pop, pop, reggaeton]\n",
       "3        [alternative r&b, canadian, partynextdoor, r&b...\n",
       "4        [alternative r&b, english, hip hop, pop rap, rap]\n",
       "                               ...                        \n",
       "50642    [2018-02-27 cleanup aliases, alternative rock,...\n",
       "50643                                             [doujin]\n",
       "50644                                             [reggae]\n",
       "50645                                        [psychobilly]\n",
       "50646    [alternative metal, alternative rock, christia...\n",
       "Name: genres, Length: 50647, dtype: object"
      ]
     },
     "execution_count": 14,
     "metadata": {},
     "output_type": "execute_result"
    }
   ],
   "source": [
    "unique_artists_df['genres']"
   ]
  },
  {
   "cell_type": "code",
   "execution_count": 15,
   "id": "a28eb3ff-402d-4962-ab89-1c8760b02e22",
   "metadata": {
    "scrolled": true
   },
   "outputs": [
    {
     "data": {
      "text/plain": [
       "997068"
      ]
     },
     "execution_count": 15,
     "metadata": {},
     "output_type": "execute_result"
    }
   ],
   "source": [
    "playlist_genres_dup.shape[0]"
   ]
  },
  {
   "cell_type": "code",
   "execution_count": 24,
   "id": "90a79790-2566-4094-9383-a60d6758b536",
   "metadata": {
    "collapsed": true,
    "jupyter": {
     "outputs_hidden": true
    },
    "scrolled": true
   },
   "outputs": [
    {
     "data": {
      "text/plain": [
       "[\"['2010s'\",\n",
       " \"'east coast hip hop'\",\n",
       " \"'electronic'\",\n",
       " \"'hip hop'\",\n",
       " \"'late 2000s'\",\n",
       " \"'pop'\",\n",
       " \"'pop rap'\",\n",
       " \"'queen of rap'\",\n",
       " \"'r&b'\",\n",
       " \"'rap']\"]"
      ]
     },
     "execution_count": 24,
     "metadata": {},
     "output_type": "execute_result"
    }
   ],
   "source": [
    "unique_artists_df['genres'][0]"
   ]
  },
  {
   "cell_type": "code",
   "execution_count": 25,
   "id": "34e14eb4-8950-459f-a3b2-3da01cffd0c3",
   "metadata": {
    "collapsed": true,
    "jupyter": {
     "outputs_hidden": true
    },
    "scrolled": true
   },
   "outputs": [
    {
     "data": {
      "text/plain": [
       "['punk',\n",
       " 'east coast hip hop',\n",
       " 'aln-sh',\n",
       " 'american',\n",
       " 'bubblegum dance',\n",
       " 'hip house',\n",
       " 'europop',\n",
       " 'emo pop',\n",
       " 'director',\n",
       " 'vocalist',\n",
       " 'wifebeater',\n",
       " 'pianist',\n",
       " 'actress',\n",
       " 'philanthropist',\n",
       " 'rnb',\n",
       " 'pop rap',\n",
       " 'singer-songwriter',\n",
       " 'pop',\n",
       " 'avant-pop',\n",
       " 'conscious hip hop',\n",
       " 'r&b',\n",
       " 'reggae-pop',\n",
       " 'new wave',\n",
       " '2020s',\n",
       " 'funk',\n",
       " 'house',\n",
       " 'canadian',\n",
       " 'hip hop',\n",
       " 'americana',\n",
       " 'teen pop',\n",
       " 'grammy winner',\n",
       " 'soul',\n",
       " 'dance',\n",
       " 'experimental pop',\n",
       " 'neon pop punk',\n",
       " 'contemporary r&b',\n",
       " 'big music',\n",
       " '2008 universal fire victim',\n",
       " 'queer',\n",
       " 'neo soul',\n",
       " 'electropop',\n",
       " 'y2k',\n",
       " 'piano pop',\n",
       " '2000s',\n",
       " 'post-grunge',\n",
       " 'alternative rock',\n",
       " 'businesswoman',\n",
       " 'abuser',\n",
       " 'teen punk',\n",
       " 'electronic',\n",
       " 'crunkcore',\n",
       " 'disco',\n",
       " 'rap',\n",
       " 'folk',\n",
       " 'indie pop',\n",
       " 'euro house',\n",
       " 'edm',\n",
       " 'indie rock',\n",
       " 'eurodance',\n",
       " 'country rock',\n",
       " 'world music',\n",
       " 'dance-pop',\n",
       " 'cultural icon',\n",
       " 'pop reggae',\n",
       " 'power pop',\n",
       " 'dancer',\n",
       " 'pop punk',\n",
       " 'reggae',\n",
       " 'christmas music',\n",
       " 'schlager',\n",
       " 'atlanta hip hop',\n",
       " 'vocal dance',\n",
       " 'acoustic rock',\n",
       " 'hip hop rnb and dance hall',\n",
       " 'english',\n",
       " 'hiphop',\n",
       " '2010s',\n",
       " 'german pop',\n",
       " 'adult contemporary',\n",
       " 'neo-soul',\n",
       " 'rock',\n",
       " 'pop soul',\n",
       " 'heartland rock',\n",
       " 'mall punk',\n",
       " 'post-punk revival',\n",
       " 'electro house',\n",
       " 'dancehall',\n",
       " 'boogie',\n",
       " 'progressive house',\n",
       " 'ragga',\n",
       " 'soft rock',\n",
       " 'germany',\n",
       " 'synth funk',\n",
       " 'dirty south',\n",
       " 'euro-trance',\n",
       " 'soul and reggae',\n",
       " 'alien lives matter',\n",
       " 'southern hip hop',\n",
       " 'trap',\n",
       " 'icon',\n",
       " 'pop rock',\n",
       " 'alternative hip hop']"
      ]
     },
     "execution_count": 25,
     "metadata": {},
     "output_type": "execute_result"
    }
   ],
   "source": [
    "playlists_genres_df['genres'][0]"
   ]
  },
  {
   "cell_type": "markdown",
   "id": "e20b0b08-4b84-41b5-918c-ec926547512f",
   "metadata": {
    "jp-MarkdownHeadingCollapsed": true
   },
   "source": [
    "### Step 3: Count and Exact Top 50 popular genres among playlist and artists."
   ]
  },
  {
   "cell_type": "code",
   "execution_count": 27,
   "id": "25c6c523-b856-49a2-ae31-36076885d290",
   "metadata": {},
   "outputs": [],
   "source": [
    "all_genres = [genre for sublist in playlist_genres_dup['genres'] for genre in sublist]\n",
    "genre_counts = Counter(all_genres)\n",
    "# Get the top 200 genres\n",
    "top_100_genres = genre_counts.most_common(100)"
   ]
  },
  {
   "cell_type": "code",
   "execution_count": 6,
   "id": "2c79c9d2-7c13-48bd-b143-ce8a39bb500b",
   "metadata": {
    "collapsed": true,
    "jupyter": {
     "outputs_hidden": true
    },
    "scrolled": true
   },
   "outputs": [
    {
     "data": {
      "text/plain": [
       "[('pop', 14443779),\n",
       " ('hip hop', 13189842),\n",
       " ('rock', 9565708),\n",
       " ('pop rock', 9038802),\n",
       " ('contemporary r&b', 7518357),\n",
       " ('pop rap', 6749481),\n",
       " ('dance-pop', 6451605),\n",
       " ('r&b', 6310632),\n",
       " ('alternative rock', 6103986),\n",
       " ('trap', 6065383),\n",
       " ('2010s', 6045335),\n",
       " ('electropop', 5571385),\n",
       " ('electronic', 4664508),\n",
       " ('soul', 4067320),\n",
       " ('country', 3790029),\n",
       " ('american', 3551005),\n",
       " ('indie rock', 3365273),\n",
       " ('indie pop', 3342293),\n",
       " ('singer-songwriter', 2987869),\n",
       " ('english', 2977753),\n",
       " ('alternative r&b', 2920664),\n",
       " ('electro house', 2829032),\n",
       " ('2020s', 2750679),\n",
       " ('hard rock', 2703696),\n",
       " ('rap', 2647087),\n",
       " ('southern hip hop', 2571360),\n",
       " ('pop soul', 2543341),\n",
       " ('2008 universal fire victim', 2438746),\n",
       " ('synth-pop', 2318012),\n",
       " ('dance', 2303972),\n",
       " ('country pop', 2199061),\n",
       " ('contemporary country', 2176873),\n",
       " ('edm', 2167634),\n",
       " ('folk rock', 2164437),\n",
       " ('british', 2110169),\n",
       " ('folk', 1949851),\n",
       " ('blues rock', 1850929),\n",
       " ('classic rock', 1787291),\n",
       " ('2000s', 1757811),\n",
       " ('trap rap', 1717323),\n",
       " ('soft rock', 1687527),\n",
       " ('hardcore hip hop', 1675442),\n",
       " ('gangsta rap', 1634733),\n",
       " ('folk pop', 1598209),\n",
       " ('east coast hip hop', 1542133),\n",
       " ('indie folk', 1511628),\n",
       " ('teen pop', 1502767),\n",
       " ('house', 1485858),\n",
       " ('relic inn', 1480877),\n",
       " ('adult contemporary', 1477540),\n",
       " ('art pop', 1469447),\n",
       " ('jazz', 1460147),\n",
       " ('uk', 1458026),\n",
       " ('alternative pop', 1454273),\n",
       " ('latin', 1418831),\n",
       " ('funk', 1388618),\n",
       " ('psychedelic rock', 1328844),\n",
       " ('singer/songwriter', 1316469),\n",
       " ('usa', 1271749),\n",
       " ('progressive house', 1214385),\n",
       " ('queer', 1211136),\n",
       " ('power pop', 1191592),\n",
       " ('country rock', 1168966),\n",
       " ('conscious hip hop', 1166123),\n",
       " ('new wave', 1161469),\n",
       " ('pop punk', 1129059),\n",
       " ('disco', 1128544),\n",
       " ('west coast hip hop', 1106371),\n",
       " ('blues', 1099137),\n",
       " ('synthpop', 1098642),\n",
       " ('reggae', 1075924),\n",
       " ('indie', 1052610),\n",
       " ('rapper', 1040424),\n",
       " ('alternative metal', 1032474),\n",
       " ('indietronica', 1020807),\n",
       " ('nuno', 990789),\n",
       " ('music for soccer moms', 976877),\n",
       " ('latin pop', 937237),\n",
       " ('canadian hip hop', 933398),\n",
       " ('post-grunge', 927476),\n",
       " ('punk', 917771),\n",
       " ('americana', 894284),\n",
       " ('luxury rap', 887189),\n",
       " ('metal', 867401),\n",
       " ('psychedelic pop', 850553),\n",
       " ('rock and indie', 847880),\n",
       " ('neo soul', 840841),\n",
       " ('rock and roll', 834230),\n",
       " ('alternative', 833880),\n",
       " ('punk rock', 823471),\n",
       " ('alternative hip hop', 820291),\n",
       " ('art rock', 815941),\n",
       " ('acoustic rock', 789001),\n",
       " ('90s', 786995),\n",
       " ('dream pop', 772447),\n",
       " ('southern rock', 770840),\n",
       " ('neo-psychedelia', 754710),\n",
       " ('aor', 747932),\n",
       " ('film soundtrack', 746436),\n",
       " ('late 2000s', 734751)]"
      ]
     },
     "execution_count": 6,
     "metadata": {},
     "output_type": "execute_result"
    }
   ],
   "source": [
    "top_100_genres"
   ]
  },
  {
   "cell_type": "code",
   "execution_count": 28,
   "id": "7955f037-2755-4eaf-b353-e2e05411ad2b",
   "metadata": {},
   "outputs": [],
   "source": [
    "all_genres_a = [genre for sublist in unique_artists_df['genres'] for genre in sublist]\n",
    "\n",
    "genre_counts_a = Counter(all_genres_a)\n",
    "\n",
    "# Get the top 50 genres\n",
    "top_100_genres_a = genre_counts_a.most_common(100)"
   ]
  },
  {
   "cell_type": "code",
   "execution_count": 8,
   "id": "f732506d-b474-4cdd-81ab-3cd52ca5b7bc",
   "metadata": {
    "scrolled": true
   },
   "outputs": [
    {
     "data": {
      "text/plain": [
       "[('rock', 4589),\n",
       " ('hip hop', 3850),\n",
       " ('jazz', 3595),\n",
       " ('pop', 3428),\n",
       " ('electronic', 3029),\n",
       " ('punk', 1919),\n",
       " ('folk', 1736),\n",
       " ('indie rock', 1681),\n",
       " ('alternative rock', 1616),\n",
       " ('soul', 1462),\n",
       " ('pop rock', 1359),\n",
       " ('singer-songwriter', 1284),\n",
       " ('composer', 1230),\n",
       " ('uk', 1200),\n",
       " ('metal', 1199),\n",
       " ('classical', 1184),\n",
       " ('hard rock', 1160),\n",
       " ('latin', 1150),\n",
       " ('british', 1033),\n",
       " ('indie pop', 932),\n",
       " ('american', 922),\n",
       " ('r&b', 907),\n",
       " ('psychedelic rock', 882),\n",
       " ('country', 864),\n",
       " ('drum and bass', 863),\n",
       " ('english', 824),\n",
       " ('progressive rock', 817),\n",
       " ('indie', 745),\n",
       " ('heavy metal', 745),\n",
       " ('house', 740),\n",
       " ('2008 universal fire victim', 719),\n",
       " ('classic pop and rock', 719),\n",
       " ('ambient', 709),\n",
       " ('death metal', 709),\n",
       " ('downtempo', 692),\n",
       " ('rock and indie', 691),\n",
       " ('usa', 677),\n",
       " ('reggae', 654),\n",
       " ('black metal', 638),\n",
       " ('blues', 611),\n",
       " ('edm', 575),\n",
       " ('contemporary r&b', 571),\n",
       " ('instrumental', 571),\n",
       " ('folk rock', 570),\n",
       " ('alternative', 553),\n",
       " ('rap', 532),\n",
       " ('funk', 532),\n",
       " ('dance', 532),\n",
       " ('synth-pop', 530),\n",
       " ('punk rock', 518),\n",
       " ('blues rock', 516),\n",
       " ('experimental', 514),\n",
       " ('trance', 502),\n",
       " ('post-punk', 496),\n",
       " ('garage rock', 496),\n",
       " ('german', 496),\n",
       " ('french', 494),\n",
       " ('lo-fi', 492),\n",
       " ('electronica', 487),\n",
       " ('new wave', 479),\n",
       " ('dubstep', 468),\n",
       " ('techno', 467),\n",
       " ('dance-pop', 450),\n",
       " ('reggaeton', 434),\n",
       " ('post-rock', 423),\n",
       " ('trap', 414),\n",
       " ('psychedelic', 413),\n",
       " ('electropop', 400),\n",
       " ('lo-fi hip hop', 398),\n",
       " ('pop punk', 387),\n",
       " ('instrumental hip hop', 385),\n",
       " ('thrash metal', 371),\n",
       " ('doom metal', 367),\n",
       " ('emo', 358),\n",
       " ('canadian', 357),\n",
       " ('boom bap', 354),\n",
       " ('chillwave', 347),\n",
       " ('progressive metal', 346),\n",
       " ('latin urban', 341),\n",
       " ('stoner rock', 332),\n",
       " ('england', 330),\n",
       " ('indie folk', 327),\n",
       " ('latin pop', 320),\n",
       " ('dream pop', 320),\n",
       " ('soundtrack', 320),\n",
       " ('pop rap', 317),\n",
       " ('disco', 316),\n",
       " ('hardcore punk', 313),\n",
       " ('power metal', 311),\n",
       " ('post-hardcore', 310),\n",
       " ('dance and electronica', 310),\n",
       " ('electro', 306),\n",
       " ('synthpop', 293),\n",
       " ('hip-hop', 281),\n",
       " ('art rock', 272),\n",
       " ('metalcore', 269),\n",
       " ('singer', 267),\n",
       " ('alternative metal', 263),\n",
       " ('shoegaze', 261),\n",
       " ('world', 258)]"
      ]
     },
     "execution_count": 8,
     "metadata": {},
     "output_type": "execute_result"
    }
   ],
   "source": [
    "top_100_genres_a"
   ]
  },
  {
   "cell_type": "code",
   "execution_count": 29,
   "id": "4859d651-7729-4c6a-94bd-94e653eeea54",
   "metadata": {},
   "outputs": [],
   "source": [
    "genres_list1 = set([genre for genre, count in top_100_genres ])\n",
    "genres_list2 = set([genre for genre, count in top_100_genres_a])"
   ]
  },
  {
   "cell_type": "code",
   "execution_count": 30,
   "id": "00981993-05c4-478a-a143-df210ce44235",
   "metadata": {
    "scrolled": true
   },
   "outputs": [
    {
     "data": {
      "text/plain": [
       "53"
      ]
     },
     "execution_count": 30,
     "metadata": {},
     "output_type": "execute_result"
    }
   ],
   "source": [
    "common_genres = list(genres_list1.intersection(genres_list2))\n",
    "len(common_genres)"
   ]
  },
  {
   "cell_type": "code",
   "execution_count": 12,
   "id": "4eec2187-56ac-458a-a330-5b07d0a22d31",
   "metadata": {},
   "outputs": [],
   "source": [
    "np.save(\"common_genres.npy\", common_genres)"
   ]
  },
  {
   "cell_type": "code",
   "execution_count": 4,
   "id": "d44976e0-a5ad-48fe-a3c8-eccb85490c96",
   "metadata": {
    "scrolled": true
   },
   "outputs": [
    {
     "data": {
      "text/plain": [
       "['alternative metal',\n",
       " 'disco',\n",
       " 'indie folk',\n",
       " 'punk',\n",
       " 'electronic',\n",
       " 'blues rock',\n",
       " 'british',\n",
       " 'indie pop',\n",
       " 'indie rock',\n",
       " 'house',\n",
       " 'synth-pop',\n",
       " 'jazz',\n",
       " 'rap',\n",
       " 'hip hop',\n",
       " 'edm',\n",
       " 'country',\n",
       " 'metal',\n",
       " 'reggae',\n",
       " 'latin pop',\n",
       " 'latin',\n",
       " 'usa',\n",
       " 'trap',\n",
       " 'blues',\n",
       " 'alternative',\n",
       " 'contemporary r&b',\n",
       " 'punk rock',\n",
       " 'hard rock',\n",
       " 'art rock',\n",
       " 'pop',\n",
       " 'folk rock',\n",
       " 'pop rap',\n",
       " 'funk',\n",
       " 'rock and indie',\n",
       " 'english',\n",
       " 'folk',\n",
       " 'dance',\n",
       " 'dream pop',\n",
       " 'soul',\n",
       " 'dance-pop',\n",
       " 'rock',\n",
       " 'singer-songwriter',\n",
       " 'electropop',\n",
       " 'r&b',\n",
       " 'american',\n",
       " 'indie',\n",
       " 'pop rock',\n",
       " 'alternative rock',\n",
       " 'synthpop',\n",
       " 'psychedelic rock',\n",
       " '2008 universal fire victim',\n",
       " 'uk',\n",
       " 'new wave',\n",
       " 'pop punk']"
      ]
     },
     "execution_count": 4,
     "metadata": {},
     "output_type": "execute_result"
    }
   ],
   "source": [
    "common_genres"
   ]
  },
  {
   "cell_type": "markdown",
   "id": "681031bc-2556-4e4b-9605-a39e1e64038b",
   "metadata": {},
   "source": [
    "### Step 4: Model MultiLabelBinarizer() Training."
   ]
  },
  {
   "cell_type": "code",
   "execution_count": 23,
   "id": "8505aeca-840f-45c0-9bb3-53eaf22b07e7",
   "metadata": {},
   "outputs": [],
   "source": [
    "import re\n",
    "def clean_genre(genre_list):\n",
    "    # Remove unwanted characters like extra quotes, semicolons, etc.\n",
    "    cleaned_genres = [genre.replace('\"', '').replace(';', '').strip() for genre in genre_list]\n",
    "\n",
    "    cleaned_genres = [genre for genre in cleaned_genres \n",
    "                      if genre and not genre.startswith(('#', '!', '@', '*', '+')) \n",
    "                      and not re.match(r'^\\d+$', genre)]\n",
    "    \n",
    "    return cleaned_genres\n",
    "\n",
    "playlist_genres_dup['genres'] = playlist_genres_dup['genres'].apply(clean_genre)"
   ]
  },
  {
   "cell_type": "code",
   "execution_count": 10,
   "id": "1e2c0aa4-9e1c-47dd-93e4-0799ca66f2c7",
   "metadata": {},
   "outputs": [],
   "source": [
    "mlb = MultiLabelBinarizer(classes=common_genres)"
   ]
  },
  {
   "cell_type": "code",
   "execution_count": 15,
   "id": "7cc57237-ed2b-4efc-99c5-d96a66606de3",
   "metadata": {
    "scrolled": true
   },
   "outputs": [
    {
     "data": {
      "text/plain": [
       "array([[0, 0, 0, ..., 0, 0, 0],\n",
       "       [0, 0, 1, ..., 0, 0, 0],\n",
       "       [0, 0, 0, ..., 0, 0, 0],\n",
       "       ...,\n",
       "       [0, 0, 0, ..., 0, 0, 0],\n",
       "       [0, 0, 0, ..., 0, 0, 0],\n",
       "       [0, 0, 0, ..., 0, 0, 0]], shape=(50647, 53))"
      ]
     },
     "execution_count": 15,
     "metadata": {},
     "output_type": "execute_result"
    }
   ],
   "source": [
    "artists_genre_matrix = mlb.fit_transform(unique_artists_df['genres'])\n",
    "artists_genre_matrix "
   ]
  },
  {
   "cell_type": "code",
   "execution_count": 13,
   "id": "63bafbcc-581c-44ba-af53-549d4c3b607c",
   "metadata": {},
   "outputs": [],
   "source": [
    "# Save those 2 matrcies\n",
    "np.save('playlists_genre_matrix.npy', playlists_genre_matrix)\n",
    "np.save('artists_genre_matrix.npy', artists_genre_matrix)"
   ]
  },
  {
   "cell_type": "markdown",
   "id": "842d995f-6f74-4be3-9335-fc3dab79aa91",
   "metadata": {},
   "source": [
    "### Step 5: Recommender System (Second Aprroach: Calcuate The Percentage Of Genres.)"
   ]
  },
  {
   "cell_type": "markdown",
   "id": "58c64356-6774-4498-9660-0b3ae0c20376",
   "metadata": {
    "jp-MarkdownHeadingCollapsed": true
   },
   "source": [
    "#### Calcuate The Percentage of Genres Of Each Artist "
   ]
  },
  {
   "cell_type": "code",
   "execution_count": null,
   "id": "4720b934-8141-4f7c-973f-d5214876f165",
   "metadata": {},
   "outputs": [],
   "source": [
    "artist_vectors = {}\n",
    "for _, row in unique_artists_df.iterrows():\n",
    "    artist = row[\"artist_name\"]\n",
    "    genres = set(row[\"genres\"])\n",
    "    total_genres = len(genres)\n",
    "    my_vector = []\n",
    "    for genre in common_genres:\n",
    "        count = 1 if genre in genres else 0  # Check if genre is present\n",
    "        percentage = (count / total_genres) * 100 if total_genres > 0 else 0\n",
    "        my_vector.append(percentage)\n",
    "    artist_vectors[artist] = np.array(my_vector)\n",
    "\n",
    "# Print results\n",
    "for artist, vector in artist_vectors.items():\n",
    "    print(f\"{artist}: {vector}\")"
   ]
  },
  {
   "cell_type": "code",
   "execution_count": 5,
   "id": "618c8372-dccd-478c-8b49-c63deed4f416",
   "metadata": {},
   "outputs": [],
   "source": [
    "def recommend_songs(playlist_pid):\n",
    "    # Retrieve genres of the given playlist\n",
    "    my_all_genres = playlist_genres_dup.loc[playlist_pid, 'genres']\n",
    "    \n",
    "    # Count occurrences of each genre\n",
    "    my_genre_counts = Counter(my_all_genres)\n",
    "    total_genres = len(my_all_genres)\n",
    "\n",
    "    # Compute playlist genre percentage vector\n",
    "    my_vector = []\n",
    "    total_genres = len(my_all_genres)\n",
    "    for genre in common_genres:\n",
    "        count = my_genre_counts.get(genre, 0) #retrieve the value of key (genres) in the dictionaery Counter\n",
    "        percentage = (count / total_genres ) * 100\n",
    "        my_vector.append(percentage)\n",
    "    my_vector = np.array(my_vector)\n",
    "\n",
    "    # Compute cosine similarity with each artist\n",
    "    similarities = {}\n",
    "    for idx, artist_vector in enumerate(artist_vectors):  \n",
    "        artist_name = unique_artists_df['artist_name'][idx] \n",
    "        similarity = cosine_similarity([my_vector], [artist_vector])\n",
    "        similarities[artist_name] = similarity[0][0]\n",
    "\n",
    "    # Select Top 5 Relevant Artists\n",
    "    sorted_artists = sorted(similarities.items(), key=lambda x: x[1], reverse=True)\n",
    "    top_artists = [artist for artist, _ in sorted_artists[:5]]\n",
    "\n",
    "    # Get tracks not already in the playlist\n",
    "    existing_tracks = set(tracks_df[tracks_df['playlist_pid'] == playlist_pid]['track_uri'])\n",
    "\n",
    "    recommended_songs = []\n",
    "    for artist in top_artists:\n",
    "        if len(recommended_songs) >= 5:\n",
    "            break\n",
    "\n",
    "        artist_songs = tracks_df[tracks_df['artist_name'] == artist]\n",
    "        artist_songs = artist_songs[~artist_songs['track_uri'].isin(existing_tracks)]\n",
    "\n",
    "        if not artist_songs.empty:\n",
    "            top_song = artist_songs.sample(n=1).iloc[0]\n",
    "            recommended_songs.append({\n",
    "                'track_name': top_song['track_name'],\n",
    "                'artist_name': top_song['artist_name'],\n",
    "                'album_name': top_song['album_name'],\n",
    "            })\n",
    "\n",
    "    recommended_songs_df = pd.DataFrame(recommended_songs)\n",
    "    print(recommended_songs_df.to_string(index=False))"
   ]
  },
  {
   "cell_type": "code",
   "execution_count": 6,
   "id": "a3fe45b0-2957-4dfd-b66b-4dced74e1ff9",
   "metadata": {},
   "outputs": [
    {
     "name": "stdin",
     "output_type": "stream",
     "text": [
      "What Is Your Playlist ID?:  110\n"
     ]
    },
    {
     "name": "stdout",
     "output_type": "stream",
     "text": [
      "                           track_name    artist_name                                         album_name\n",
      "                          A Media Luz Julio Iglesias                     Ma Vie: Mes Plus Grands Succès\n",
      "                 La Culpa Ha Sido Mía   Camilo Sesto 15 Grandes Exitos Vol. II - A Petición del Público\n",
      "De Nosso Amor Tão Sincero / Vitoriosa      Ivan Lins                                    América, Brasil\n",
      "Hasta Siempre, Comandante Che Guevara  Carlos Puebla                              Yo Sigo Siendo Cubano\n",
      "                    Tô Solto na Night  Gusttavo Lima                             Do Outro Lado da Moeda\n",
      "None\n"
     ]
    }
   ],
   "source": [
    "playlist_pid = input(\"What Is Your Playlist ID?: \")\n",
    "recommended_songs = recommend_songs(int(playlist_pid))\n",
    "print(recommended_songs)"
   ]
  },
  {
   "cell_type": "markdown",
   "id": "aa9ffd98-9220-4644-84f1-cac27dc7ae06",
   "metadata": {
    "jp-MarkdownHeadingCollapsed": true
   },
   "source": [
    "## Step 6: Recommender System (Third Approach: Calcuate The Percentage Of Genres and K-Nearest Neighbors)\n",
    "In this approach, we will use the same calculation method to calculate the percentage of playlists genres, and artist genres. \n",
    "Note: Instead Of Using consine similarity, we will use Top 5 K-nearest neighbors to find the closest artists vector to the given playlist vectors.\n"
   ]
  },
  {
   "cell_type": "code",
   "execution_count": 6,
   "id": "7ef4efff-415a-495d-96ab-0d776f267fbf",
   "metadata": {},
   "outputs": [],
   "source": [
    "from sklearn.neighbors import NearestNeighbors\n",
    "from sklearn.cluster import KMeans"
   ]
  },
  {
   "cell_type": "code",
   "execution_count": 8,
   "id": "d8ad4ad5-44f9-4df1-93b6-bdee6a91610c",
   "metadata": {
    "jupyter": {
     "source_hidden": true
    }
   },
   "outputs": [],
   "source": [
    "artist_vectors = []\n",
    "\n",
    "for idx, artist_genres in enumerate(unique_artists_df['genres']):\n",
    "    genre_counts = Counter(artist_genres)  \n",
    "    total_genres = len(artist_genres)  \n",
    "    artist_vector = []\n",
    "\n",
    "    for genre in common_genres:\n",
    "        count = genre_counts.get(genre, 0)  \n",
    "        percentage = (count / total_genres) * 100  \n",
    "        artist_vector.append(percentage)\n",
    "\n",
    "    artist_vectors.append(artist_vector)\n",
    "artist_vectors = np.array(artist_vectors) \n",
    "np.save(\"artist_vectors.npy\", artist_vectors)"
   ]
  },
  {
   "cell_type": "code",
   "execution_count": 7,
   "id": "f1ae200e-1200-427a-8c1e-343242b136da",
   "metadata": {},
   "outputs": [
    {
     "data": {
      "text/plain": [
       "Text(0.5, 1.0, 'Elbow Method for Optimal K')"
      ]
     },
     "execution_count": 7,
     "metadata": {},
     "output_type": "execute_result"
    },
    {
     "data": {
      "image/png": "[encoded data removed]",
      "text/plain": [
       "<Figure size 640x480 with 1 Axes>"
      ]
     },
     "metadata": {},
     "output_type": "display_data"
    }
   ],
   "source": [
    "inertia = []\n",
    "k_range = range(1, 60)  # Try 1 to 10 clusters, you can adjust the range as needed\n",
    "for k in k_range:\n",
    "    k_means = KMeans(n_clusters=k, random_state=42)\n",
    "    k_means.fit(artist_vectors)\n",
    "    inertia.append(k_means.inertia_)\n",
    "# Plot the Elbow Method graph\n",
    "plt.plot(k_range, inertia, marker='o')\n",
    "plt.xlabel('Number of Clusters')\n",
    "plt.ylabel('Inertia')\n",
    "plt.title('Elbow Method for Optimal K')"
   ]
  },
  {
   "cell_type": "markdown",
   "id": "a4cd6bd6-3083-4074-ae63-e98acc58f90a",
   "metadata": {
    "scrolled": true
   },
   "source": [
    "We should choose cluster = 4 because it's the elbow point."
   ]
  },
  {
   "cell_type": "code",
   "execution_count": 14,
   "id": "01e55c6d-23a8-4150-badd-45c1b6a0683b",
   "metadata": {},
   "outputs": [
    {
     "data": {
      "text/html": [
       "<style>#sk-container-id-2 {\n",
       "  /* Definition of color scheme common for light and dark mode */\n",
       "  --sklearn-color-text: #000;\n",
       "  --sklearn-color-text-muted: #666;\n",
       "  --sklearn-color-line: gray;\n",
       "  /* Definition of color scheme for unfitted estimators */\n",
       "  --sklearn-color-unfitted-level-0: #fff5e6;\n",
       "  --sklearn-color-unfitted-level-1: #f6e4d2;\n",
       "  --sklearn-color-unfitted-level-2: #ffe0b3;\n",
       "  --sklearn-color-unfitted-level-3: chocolate;\n",
       "  /* Definition of color scheme for fitted estimators */\n",
       "  --sklearn-color-fitted-level-0: #f0f8ff;\n",
       "  --sklearn-color-fitted-level-1: #d4ebff;\n",
       "  --sklearn-color-fitted-level-2: #b3dbfd;\n",
       "  --sklearn-color-fitted-level-3: cornflowerblue;\n",
       "\n",
       "  /* Specific color for light theme */\n",
       "  --sklearn-color-text-on-default-background: var(--sg-text-color, var(--theme-code-foreground, var(--jp-content-font-color1, black)));\n",
       "  --sklearn-color-background: var(--sg-background-color, var(--theme-background, var(--jp-layout-color0, white)));\n",
       "  --sklearn-color-border-box: var(--sg-text-color, var(--theme-code-foreground, var(--jp-content-font-color1, black)));\n",
       "  --sklearn-color-icon: #696969;\n",
       "\n",
       "  @media (prefers-color-scheme: dark) {\n",
       "    /* Redefinition of color scheme for dark theme */\n",
       "    --sklearn-color-text-on-default-background: var(--sg-text-color, var(--theme-code-foreground, var(--jp-content-font-color1, white)));\n",
       "    --sklearn-color-background: var(--sg-background-color, var(--theme-background, var(--jp-layout-color0, #111)));\n",
       "    --sklearn-color-border-box: var(--sg-text-color, var(--theme-code-foreground, var(--jp-content-font-color1, white)));\n",
       "    --sklearn-color-icon: #878787;\n",
       "  }\n",
       "}\n",
       "\n",
       "#sk-container-id-2 {\n",
       "  color: var(--sklearn-color-text);\n",
       "}\n",
       "\n",
       "#sk-container-id-2 pre {\n",
       "  padding: 0;\n",
       "}\n",
       "\n",
       "#sk-container-id-2 input.sk-hidden--visually {\n",
       "  border: 0;\n",
       "  clip: rect(1px 1px 1px 1px);\n",
       "  clip: rect(1px, 1px, 1px, 1px);\n",
       "  height: 1px;\n",
       "  margin: -1px;\n",
       "  overflow: hidden;\n",
       "  padding: 0;\n",
       "  position: absolute;\n",
       "  width: 1px;\n",
       "}\n",
       "\n",
       "#sk-container-id-2 div.sk-dashed-wrapped {\n",
       "  border: 1px dashed var(--sklearn-color-line);\n",
       "  margin: 0 0.4em 0.5em 0.4em;\n",
       "  box-sizing: border-box;\n",
       "  padding-bottom: 0.4em;\n",
       "  background-color: var(--sklearn-color-background);\n",
       "}\n",
       "\n",
       "#sk-container-id-2 div.sk-container {\n",
       "  /* jupyter's `normalize.less` sets `[hidden] { display: none; }`\n",
       "     but bootstrap.min.css set `[hidden] { display: none !important; }`\n",
       "     so we also need the `!important` here to be able to override the\n",
       "     default hidden behavior on the sphinx rendered scikit-learn.org.\n",
       "     See: https://github.com/scikit-learn/scikit-learn/issues/21755 */\n",
       "  display: inline-block !important;\n",
       "  position: relative;\n",
       "}\n",
       "\n",
       "#sk-container-id-2 div.sk-text-repr-fallback {\n",
       "  display: none;\n",
       "}\n",
       "\n",
       "div.sk-parallel-item,\n",
       "div.sk-serial,\n",
       "div.sk-item {\n",
       "  /* draw centered vertical line to link estimators */\n",
       "  background-image: linear-gradient(var(--sklearn-color-text-on-default-background), var(--sklearn-color-text-on-default-background));\n",
       "  background-size: 2px 100%;\n",
       "  background-repeat: no-repeat;\n",
       "  background-position: center center;\n",
       "}\n",
       "\n",
       "/* Parallel-specific style estimator block */\n",
       "\n",
       "#sk-container-id-2 div.sk-parallel-item::after {\n",
       "  content: \"\";\n",
       "  width: 100%;\n",
       "  border-bottom: 2px solid var(--sklearn-color-text-on-default-background);\n",
       "  flex-grow: 1;\n",
       "}\n",
       "\n",
       "#sk-container-id-2 div.sk-parallel {\n",
       "  display: flex;\n",
       "  align-items: stretch;\n",
       "  justify-content: center;\n",
       "  background-color: var(--sklearn-color-background);\n",
       "  position: relative;\n",
       "}\n",
       "\n",
       "#sk-container-id-2 div.sk-parallel-item {\n",
       "  display: flex;\n",
       "  flex-direction: column;\n",
       "}\n",
       "\n",
       "#sk-container-id-2 div.sk-parallel-item:first-child::after {\n",
       "  align-self: flex-end;\n",
       "  width: 50%;\n",
       "}\n",
       "\n",
       "#sk-container-id-2 div.sk-parallel-item:last-child::after {\n",
       "  align-self: flex-start;\n",
       "  width: 50%;\n",
       "}\n",
       "\n",
       "#sk-container-id-2 div.sk-parallel-item:only-child::after {\n",
       "  width: 0;\n",
       "}\n",
       "\n",
       "/* Serial-specific style estimator block */\n",
       "\n",
       "#sk-container-id-2 div.sk-serial {\n",
       "  display: flex;\n",
       "  flex-direction: column;\n",
       "  align-items: center;\n",
       "  background-color: var(--sklearn-color-background);\n",
       "  padding-right: 1em;\n",
       "  padding-left: 1em;\n",
       "}\n",
       "\n",
       "\n",
       "/* Toggleable style: style used for estimator/Pipeline/ColumnTransformer box that is\n",
       "clickable and can be expanded/collapsed.\n",
       "- Pipeline and ColumnTransformer use this feature and define the default style\n",
       "- Estimators will overwrite some part of the style using the `sk-estimator` class\n",
       "*/\n",
       "\n",
       "/* Pipeline and ColumnTransformer style (default) */\n",
       "\n",
       "#sk-container-id-2 div.sk-toggleable {\n",
       "  /* Default theme specific background. It is overwritten whether we have a\n",
       "  specific estimator or a Pipeline/ColumnTransformer */\n",
       "  background-color: var(--sklearn-color-background);\n",
       "}\n",
       "\n",
       "/* Toggleable label */\n",
       "#sk-container-id-2 label.sk-toggleable__label {\n",
       "  cursor: pointer;\n",
       "  display: flex;\n",
       "  width: 100%;\n",
       "  margin-bottom: 0;\n",
       "  padding: 0.5em;\n",
       "  box-sizing: border-box;\n",
       "  text-align: center;\n",
       "  align-items: start;\n",
       "  justify-content: space-between;\n",
       "  gap: 0.5em;\n",
       "}\n",
       "\n",
       "#sk-container-id-2 label.sk-toggleable__label .caption {\n",
       "  font-size: 0.6rem;\n",
       "  font-weight: lighter;\n",
       "  color: var(--sklearn-color-text-muted);\n",
       "}\n",
       "\n",
       "#sk-container-id-2 label.sk-toggleable__label-arrow:before {\n",
       "  /* Arrow on the left of the label */\n",
       "  content: \"▸\";\n",
       "  float: left;\n",
       "  margin-right: 0.25em;\n",
       "  color: var(--sklearn-color-icon);\n",
       "}\n",
       "\n",
       "#sk-container-id-2 label.sk-toggleable__label-arrow:hover:before {\n",
       "  color: var(--sklearn-color-text);\n",
       "}\n",
       "\n",
       "/* Toggleable content - dropdown */\n",
       "\n",
       "#sk-container-id-2 div.sk-toggleable__content {\n",
       "  max-height: 0;\n",
       "  max-width: 0;\n",
       "  overflow: hidden;\n",
       "  text-align: left;\n",
       "  /* unfitted */\n",
       "  background-color: var(--sklearn-color-unfitted-level-0);\n",
       "}\n",
       "\n",
       "#sk-container-id-2 div.sk-toggleable__content.fitted {\n",
       "  /* fitted */\n",
       "  background-color: var(--sklearn-color-fitted-level-0);\n",
       "}\n",
       "\n",
       "#sk-container-id-2 div.sk-toggleable__content pre {\n",
       "  margin: 0.2em;\n",
       "  border-radius: 0.25em;\n",
       "  color: var(--sklearn-color-text);\n",
       "  /* unfitted */\n",
       "  background-color: var(--sklearn-color-unfitted-level-0);\n",
       "}\n",
       "\n",
       "#sk-container-id-2 div.sk-toggleable__content.fitted pre {\n",
       "  /* unfitted */\n",
       "  background-color: var(--sklearn-color-fitted-level-0);\n",
       "}\n",
       "\n",
       "#sk-container-id-2 input.sk-toggleable__control:checked~div.sk-toggleable__content {\n",
       "  /* Expand drop-down */\n",
       "  max-height: 200px;\n",
       "  max-width: 100%;\n",
       "  overflow: auto;\n",
       "}\n",
       "\n",
       "#sk-container-id-2 input.sk-toggleable__control:checked~label.sk-toggleable__label-arrow:before {\n",
       "  content: \"▾\";\n",
       "}\n",
       "\n",
       "/* Pipeline/ColumnTransformer-specific style */\n",
       "\n",
       "#sk-container-id-2 div.sk-label input.sk-toggleable__control:checked~label.sk-toggleable__label {\n",
       "  color: var(--sklearn-color-text);\n",
       "  background-color: var(--sklearn-color-unfitted-level-2);\n",
       "}\n",
       "\n",
       "#sk-container-id-2 div.sk-label.fitted input.sk-toggleable__control:checked~label.sk-toggleable__label {\n",
       "  background-color: var(--sklearn-color-fitted-level-2);\n",
       "}\n",
       "\n",
       "/* Estimator-specific style */\n",
       "\n",
       "/* Colorize estimator box */\n",
       "#sk-container-id-2 div.sk-estimator input.sk-toggleable__control:checked~label.sk-toggleable__label {\n",
       "  /* unfitted */\n",
       "  background-color: var(--sklearn-color-unfitted-level-2);\n",
       "}\n",
       "\n",
       "#sk-container-id-2 div.sk-estimator.fitted input.sk-toggleable__control:checked~label.sk-toggleable__label {\n",
       "  /* fitted */\n",
       "  background-color: var(--sklearn-color-fitted-level-2);\n",
       "}\n",
       "\n",
       "#sk-container-id-2 div.sk-label label.sk-toggleable__label,\n",
       "#sk-container-id-2 div.sk-label label {\n",
       "  /* The background is the default theme color */\n",
       "  color: var(--sklearn-color-text-on-default-background);\n",
       "}\n",
       "\n",
       "/* On hover, darken the color of the background */\n",
       "#sk-container-id-2 div.sk-label:hover label.sk-toggleable__label {\n",
       "  color: var(--sklearn-color-text);\n",
       "  background-color: var(--sklearn-color-unfitted-level-2);\n",
       "}\n",
       "\n",
       "/* Label box, darken color on hover, fitted */\n",
       "#sk-container-id-2 div.sk-label.fitted:hover label.sk-toggleable__label.fitted {\n",
       "  color: var(--sklearn-color-text);\n",
       "  background-color: var(--sklearn-color-fitted-level-2);\n",
       "}\n",
       "\n",
       "/* Estimator label */\n",
       "\n",
       "#sk-container-id-2 div.sk-label label {\n",
       "  font-family: monospace;\n",
       "  font-weight: bold;\n",
       "  display: inline-block;\n",
       "  line-height: 1.2em;\n",
       "}\n",
       "\n",
       "#sk-container-id-2 div.sk-label-container {\n",
       "  text-align: center;\n",
       "}\n",
       "\n",
       "/* Estimator-specific */\n",
       "#sk-container-id-2 div.sk-estimator {\n",
       "  font-family: monospace;\n",
       "  border: 1px dotted var(--sklearn-color-border-box);\n",
       "  border-radius: 0.25em;\n",
       "  box-sizing: border-box;\n",
       "  margin-bottom: 0.5em;\n",
       "  /* unfitted */\n",
       "  background-color: var(--sklearn-color-unfitted-level-0);\n",
       "}\n",
       "\n",
       "#sk-container-id-2 div.sk-estimator.fitted {\n",
       "  /* fitted */\n",
       "  background-color: var(--sklearn-color-fitted-level-0);\n",
       "}\n",
       "\n",
       "/* on hover */\n",
       "#sk-container-id-2 div.sk-estimator:hover {\n",
       "  /* unfitted */\n",
       "  background-color: var(--sklearn-color-unfitted-level-2);\n",
       "}\n",
       "\n",
       "#sk-container-id-2 div.sk-estimator.fitted:hover {\n",
       "  /* fitted */\n",
       "  background-color: var(--sklearn-color-fitted-level-2);\n",
       "}\n",
       "\n",
       "/* Specification for estimator info (e.g. \"i\" and \"?\") */\n",
       "\n",
       "/* Common style for \"i\" and \"?\" */\n",
       "\n",
       ".sk-estimator-doc-link,\n",
       "a:link.sk-estimator-doc-link,\n",
       "a:visited.sk-estimator-doc-link {\n",
       "  float: right;\n",
       "  font-size: smaller;\n",
       "  line-height: 1em;\n",
       "  font-family: monospace;\n",
       "  background-color: var(--sklearn-color-background);\n",
       "  border-radius: 1em;\n",
       "  height: 1em;\n",
       "  width: 1em;\n",
       "  text-decoration: none !important;\n",
       "  margin-left: 0.5em;\n",
       "  text-align: center;\n",
       "  /* unfitted */\n",
       "  border: var(--sklearn-color-unfitted-level-1) 1pt solid;\n",
       "  color: var(--sklearn-color-unfitted-level-1);\n",
       "}\n",
       "\n",
       ".sk-estimator-doc-link.fitted,\n",
       "a:link.sk-estimator-doc-link.fitted,\n",
       "a:visited.sk-estimator-doc-link.fitted {\n",
       "  /* fitted */\n",
       "  border: var(--sklearn-color-fitted-level-1) 1pt solid;\n",
       "  color: var(--sklearn-color-fitted-level-1);\n",
       "}\n",
       "\n",
       "/* On hover */\n",
       "div.sk-estimator:hover .sk-estimator-doc-link:hover,\n",
       ".sk-estimator-doc-link:hover,\n",
       "div.sk-label-container:hover .sk-estimator-doc-link:hover,\n",
       ".sk-estimator-doc-link:hover {\n",
       "  /* unfitted */\n",
       "  background-color: var(--sklearn-color-unfitted-level-3);\n",
       "  color: var(--sklearn-color-background);\n",
       "  text-decoration: none;\n",
       "}\n",
       "\n",
       "div.sk-estimator.fitted:hover .sk-estimator-doc-link.fitted:hover,\n",
       ".sk-estimator-doc-link.fitted:hover,\n",
       "div.sk-label-container:hover .sk-estimator-doc-link.fitted:hover,\n",
       ".sk-estimator-doc-link.fitted:hover {\n",
       "  /* fitted */\n",
       "  background-color: var(--sklearn-color-fitted-level-3);\n",
       "  color: var(--sklearn-color-background);\n",
       "  text-decoration: none;\n",
       "}\n",
       "\n",
       "/* Span, style for the box shown on hovering the info icon */\n",
       ".sk-estimator-doc-link span {\n",
       "  display: none;\n",
       "  z-index: 9999;\n",
       "  position: relative;\n",
       "  font-weight: normal;\n",
       "  right: .2ex;\n",
       "  padding: .5ex;\n",
       "  margin: .5ex;\n",
       "  width: min-content;\n",
       "  min-width: 20ex;\n",
       "  max-width: 50ex;\n",
       "  color: var(--sklearn-color-text);\n",
       "  box-shadow: 2pt 2pt 4pt #999;\n",
       "  /* unfitted */\n",
       "  background: var(--sklearn-color-unfitted-level-0);\n",
       "  border: .5pt solid var(--sklearn-color-unfitted-level-3);\n",
       "}\n",
       "\n",
       ".sk-estimator-doc-link.fitted span {\n",
       "  /* fitted */\n",
       "  background: var(--sklearn-color-fitted-level-0);\n",
       "  border: var(--sklearn-color-fitted-level-3);\n",
       "}\n",
       "\n",
       ".sk-estimator-doc-link:hover span {\n",
       "  display: block;\n",
       "}\n",
       "\n",
       "/* \"?\"-specific style due to the `<a>` HTML tag */\n",
       "\n",
       "#sk-container-id-2 a.estimator_doc_link {\n",
       "  float: right;\n",
       "  font-size: 1rem;\n",
       "  line-height: 1em;\n",
       "  font-family: monospace;\n",
       "  background-color: var(--sklearn-color-background);\n",
       "  border-radius: 1rem;\n",
       "  height: 1rem;\n",
       "  width: 1rem;\n",
       "  text-decoration: none;\n",
       "  /* unfitted */\n",
       "  color: var(--sklearn-color-unfitted-level-1);\n",
       "  border: var(--sklearn-color-unfitted-level-1) 1pt solid;\n",
       "}\n",
       "\n",
       "#sk-container-id-2 a.estimator_doc_link.fitted {\n",
       "  /* fitted */\n",
       "  border: var(--sklearn-color-fitted-level-1) 1pt solid;\n",
       "  color: var(--sklearn-color-fitted-level-1);\n",
       "}\n",
       "\n",
       "/* On hover */\n",
       "#sk-container-id-2 a.estimator_doc_link:hover {\n",
       "  /* unfitted */\n",
       "  background-color: var(--sklearn-color-unfitted-level-3);\n",
       "  color: var(--sklearn-color-background);\n",
       "  text-decoration: none;\n",
       "}\n",
       "\n",
       "#sk-container-id-2 a.estimator_doc_link.fitted:hover {\n",
       "  /* fitted */\n",
       "  background-color: var(--sklearn-color-fitted-level-3);\n",
       "}\n",
       "</style><div id=\"sk-container-id-2\" class=\"sk-top-container\"><div class=\"sk-text-repr-fallback\"><pre>KMeans(n_clusters=30, random_state=42)</pre><b>In a Jupyter environment, please rerun this cell to show the HTML representation or trust the notebook. <br />On GitHub, the HTML representation is unable to render, please try loading this page with nbviewer.org.</b></div><div class=\"sk-container\" hidden><div class=\"sk-item\"><div class=\"sk-estimator fitted sk-toggleable\"><input class=\"sk-toggleable__control sk-hidden--visually\" id=\"sk-estimator-id-2\" type=\"checkbox\" checked><label for=\"sk-estimator-id-2\" class=\"sk-toggleable__label fitted sk-toggleable__label-arrow\"><div><div>KMeans</div></div><div><a class=\"sk-estimator-doc-link fitted\" rel=\"noreferrer\" target=\"_blank\" href=\"https://scikit-learn.org/1.6/modules/generated/sklearn.cluster.KMeans.html\">?<span>Documentation for KMeans</span></a><span class=\"sk-estimator-doc-link fitted\">i<span>Fitted</span></span></div></label><div class=\"sk-toggleable__content fitted\"><pre>KMeans(n_clusters=30, random_state=42)</pre></div> </div></div></div></div>"
      ],
      "text/plain": [
       "KMeans(n_clusters=30, random_state=42)"
      ]
     },
     "execution_count": 14,
     "metadata": {},
     "output_type": "execute_result"
    }
   ],
   "source": [
    "k_means = KMeans(n_clusters=30, max_iter=300, random_state=42)  \n",
    "k_means.fit(artist_vectors)"
   ]
  },
  {
   "cell_type": "code",
   "execution_count": 15,
   "id": "55980891-0d15-4498-bfef-a1f7f2d8e56a",
   "metadata": {},
   "outputs": [],
   "source": [
    "labels = k_means.labels_ # each artist, assign the label of cluster to it. "
   ]
  },
  {
   "cell_type": "code",
   "execution_count": 16,
   "id": "858cfb43-1148-49f5-b4da-51e468863fec",
   "metadata": {},
   "outputs": [],
   "source": [
    "import random\n",
    "def recommend_cluster(playlist_id):\n",
    "    # Step 1: Extract the genres for the selected playlist\n",
    "    my_all_genres = playlist_genres_dup.loc[playlist_id, 'genres']\n",
    "    \n",
    "    # Step 2: Count the genres and calculate the genre distribution as percentages\n",
    "    my_genre_counts = Counter(my_all_genres)\n",
    "    total_genres = len(my_all_genres)\n",
    "    \n",
    "    # Create the genre vector (percentage for each genre)\n",
    "    my_vector = []\n",
    "    for genre in common_genres:\n",
    "        count = my_genre_counts.get(genre, 0)\n",
    "        percentage = (count / total_genres) * 100\n",
    "        my_vector.append(percentage)\n",
    "    my_vector = np.array(my_vector)\n",
    "\n",
    "    # Step 3: Using Cluster Analysis \n",
    "    my_vector = my_vector.reshape(1, -1)\n",
    "    centroids = k_means.cluster_centers_\n",
    "    distances = np.linalg.norm(centroids - my_vector, axis=1) #euclidean \n",
    "    closest_cluster_idx = np.argmin(distances)\n",
    "\n",
    "    artists_in_cluster = [idx for idx, label in enumerate(labels) if label == closest_cluster_idx] #get artists in that cluster\n",
    "    top_artists = [unique_artists_df['artist_name'][idx] for idx in artists_in_cluster]\n",
    "    selected_artists = random.sample(top_artists, min(5, len(top_artists)))\n",
    "    \n",
    "    # Step 6: Get the existing tracks in the playlist to filter out from recommendations\n",
    "    existing_tracks = tracks_df[tracks_df['playlist_pid'] == playlist_id]['track_uri'].values\n",
    "    \n",
    "    # Step 7: Recommend songs from the top artists, excluding already existing tracks\n",
    "    recommended_songs = []\n",
    "    for artist in selected_artists:\n",
    "        if len(recommended_songs) >= 5: \n",
    "            break\n",
    "        artist_songs = tracks_df[tracks_df['artist_name'] == artist]\n",
    "        artist_songs = artist_songs[~artist_songs['track_uri'].isin(existing_tracks)] \n",
    "        \n",
    "        if not artist_songs.empty:\n",
    "            top_song = artist_songs.sample(n=1).iloc[0]  \n",
    "            recommended_songs.append({\n",
    "                'track_name': top_song['track_name'],\n",
    "                'artist_name': top_song['artist_name'],\n",
    "                'album_name': top_song['album_name'],\n",
    "            })\n",
    "    \n",
    "    recommended_songs_df = pd.DataFrame(recommended_songs)\n",
    "    \n",
    "    return recommended_songs_df\n"
   ]
  },
  {
   "cell_type": "code",
   "execution_count": 17,
   "id": "038c0bf4-7265-4e07-97f0-ec50b02f5ef3",
   "metadata": {},
   "outputs": [
    {
     "name": "stdin",
     "output_type": "stream",
     "text": [
      "Enter Playlist ID:  110\n"
     ]
    },
    {
     "data": {
      "text/html": [
       "<div>\n",
       "<style scoped>\n",
       "    .dataframe tbody tr th:only-of-type {\n",
       "        vertical-align: middle;\n",
       "    }\n",
       "\n",
       "    .dataframe tbody tr th {\n",
       "        vertical-align: top;\n",
       "    }\n",
       "\n",
       "    .dataframe thead th {\n",
       "        text-align: right;\n",
       "    }\n",
       "</style>\n",
       "<table border=\"1\" class=\"dataframe\">\n",
       "  <thead>\n",
       "    <tr style=\"text-align: right;\">\n",
       "      <th></th>\n",
       "      <th>track_name</th>\n",
       "      <th>artist_name</th>\n",
       "      <th>album_name</th>\n",
       "    </tr>\n",
       "  </thead>\n",
       "  <tbody>\n",
       "    <tr>\n",
       "      <th>0</th>\n",
       "      <td>Storm of creation</td>\n",
       "      <td>The Graviators</td>\n",
       "      <td>The Graviators</td>\n",
       "    </tr>\n",
       "    <tr>\n",
       "      <th>1</th>\n",
       "      <td>Nettle Bed - Remastered 2006</td>\n",
       "      <td>Soft Machine</td>\n",
       "      <td>Seven</td>\n",
       "    </tr>\n",
       "    <tr>\n",
       "      <th>2</th>\n",
       "      <td>Chapala</td>\n",
       "      <td>Ale</td>\n",
       "      <td>Chill-sur-mer</td>\n",
       "    </tr>\n",
       "    <tr>\n",
       "      <th>3</th>\n",
       "      <td>Future</td>\n",
       "      <td>Dux</td>\n",
       "      <td>Future</td>\n",
       "    </tr>\n",
       "    <tr>\n",
       "      <th>4</th>\n",
       "      <td>My Stance</td>\n",
       "      <td>Freedom</td>\n",
       "      <td>USA Hardcore</td>\n",
       "    </tr>\n",
       "  </tbody>\n",
       "</table>\n",
       "</div>"
      ],
      "text/plain": [
       "                     track_name     artist_name      album_name\n",
       "0             Storm of creation  The Graviators  The Graviators\n",
       "1  Nettle Bed - Remastered 2006    Soft Machine           Seven\n",
       "2                       Chapala             Ale   Chill-sur-mer\n",
       "3                        Future             Dux          Future\n",
       "4                     My Stance         Freedom    USA Hardcore"
      ]
     },
     "execution_count": 17,
     "metadata": {},
     "output_type": "execute_result"
    }
   ],
   "source": [
    "playlist_id = int(input(\"Enter Playlist ID: \"))  # Take user input for playlist ID\n",
    "recommended_songs_df = recommend_cluster(playlist_id)\n",
    "recommended_songs_df"
   ]
  },
  {
   "cell_type": "markdown",
   "id": "32367847-d9e6-4adb-b12b-93959e0817e1",
   "metadata": {},
   "source": [
    "## Step 7: One-hot Encoding Approach"
   ]
  },
  {
   "cell_type": "markdown",
   "id": "c35a7520-e9de-4294-adb2-56270cd3fa93",
   "metadata": {},
   "source": [
    "* Loop through my unique playlist_genres\n",
    "* Check if each of my genres contain in the list called common_genres\n",
    "* If it contained --> put 1 at that index. And 0, otherwise."
   ]
  },
  {
   "cell_type": "code",
   "execution_count": 58,
   "id": "0bf2cda0-9dd7-4d0a-ad10-c5f23182ed2e",
   "metadata": {},
   "outputs": [
    {
     "name": "stdout",
     "output_type": "stream",
     "text": [
      "            track_name      artist_name                                album_name\n",
      "This Must Be The Place      Iron & Wine                        Sing Into My Mouth\n",
      "        Left Of Center     Suzanne Vega The Best Of Suzanne Vega - Tried And True\n",
      "         Call Me Maybe Carly Rae Jepsen                                      Kiss\n",
      "                Jolene   Ray LaMontagne                                   Trouble\n",
      "      The Sweet Escape     Gwen Stefani                          The Sweet Escape\n"
     ]
    }
   ],
   "source": [
    "cosine_sim = cosine_similarity(one_hot_vector.reshape(1, -1), artists_genre_matrix)\n",
    "top_5_cossim = np.argsort(cosine_sim[0])[::-1][:5]\n",
    "top_5_artists = unique_artists_df.iloc[top_5_cossim]['artist_uri'].values\n",
    "existing_tracks = myplaylist_genres['track_uri']\n",
    "recommended_songs = []\n",
    "for artist_uri in top_5_artists:\n",
    "    artist_songs = tracks_df[tracks_df['artist_uri'] == artist_uri]\n",
    "    artist_songs = artist_songs[~artist_songs['track_uri'].isin(existing_tracks)]\n",
    "    if not artist_songs.empty:\n",
    "        top_song = artist_songs.iloc[0]\n",
    "        recommended_songs.append({\n",
    "                'track_name': top_song['track_name'],\n",
    "                'artist_name': top_song['artist_name'],\n",
    "                'album_name': top_song['album_name']\n",
    "            })\n",
    "recommendations_df = pd.DataFrame(recommended_songs)\n",
    "print(recommendations_df.to_string(index=False))"
   ]
  },
  {
   "cell_type": "code",
   "execution_count": 15,
   "id": "84787da2-6a8d-4f0d-befb-43e5de1c59b1",
   "metadata": {},
   "outputs": [],
   "source": [
    "def cb_recommend1(playlist_pid):\n",
    "    all_genres = playlist_genres_dup.loc[playlist_id, 'genres']\n",
    "#Step 1: Convert genres into one-hot encoding with common_genres\n",
    "    one_hot_vector = np.zeros(len(common_genres))\n",
    "    for genre in all_genres:\n",
    "        if genre in common_genres:\n",
    "            index = common_genres.index(genre)\n",
    "            one_hot_vector[index]=1\n",
    "#Step 2: Compute CS of one-hot vector and artist_genres_matrix\n",
    "    cosine_sim = cosine_similarity(one_hot_vector.reshape(1, -1), artists_genre_matrix)\n",
    "    top_5_cossim = np.argsort(cosine_sim[0])[::-1][:5]\n",
    "    top_5_artists = unique_artists_df.iloc[top_5_cossim]['artist_uri'].values\n",
    "    existing_tracks = tracks_df[tracks_df['playlist_pid'] == playlist_id]['track_uri'].values\n",
    "#Step 3: Recommend songs\n",
    "    recommended_songs = []\n",
    "    for artist_uri in top_5_artists:\n",
    "        artist_songs = tracks_df[tracks_df['artist_uri'] == artist_uri]\n",
    "        artist_songs = artist_songs[~artist_songs['track_uri'].isin(existing_tracks)]\n",
    "        if not artist_songs.empty:\n",
    "            top_song = artist_songs.sample(n=1).iloc[0]  #recommend random song from that artist\n",
    "            recommended_songs.append({\n",
    "                'track_name': top_song['track_name'],\n",
    "                'artist_name': top_song['artist_name'],\n",
    "                'album_name': top_song['album_name']\n",
    "            })\n",
    "    recommendations_df = pd.DataFrame(recommended_songs)\n",
    "    return recommendations_df"
   ]
  },
  {
   "cell_type": "code",
   "execution_count": 16,
   "id": "dd462824-ed58-4991-ad6b-5fe43435ef68",
   "metadata": {},
   "outputs": [
    {
     "name": "stdin",
     "output_type": "stream",
     "text": [
      "Enter Playlist ID:  110\n"
     ]
    },
    {
     "data": {
      "text/html": [
       "<div>\n",
       "<style scoped>\n",
       "    .dataframe tbody tr th:only-of-type {\n",
       "        vertical-align: middle;\n",
       "    }\n",
       "\n",
       "    .dataframe tbody tr th {\n",
       "        vertical-align: top;\n",
       "    }\n",
       "\n",
       "    .dataframe thead th {\n",
       "        text-align: right;\n",
       "    }\n",
       "</style>\n",
       "<table border=\"1\" class=\"dataframe\">\n",
       "  <thead>\n",
       "    <tr style=\"text-align: right;\">\n",
       "      <th></th>\n",
       "      <th>track_name</th>\n",
       "      <th>artist_name</th>\n",
       "      <th>album_name</th>\n",
       "    </tr>\n",
       "  </thead>\n",
       "  <tbody>\n",
       "    <tr>\n",
       "      <th>0</th>\n",
       "      <td>Going Red</td>\n",
       "      <td>KANGA</td>\n",
       "      <td>KANGA</td>\n",
       "    </tr>\n",
       "    <tr>\n",
       "      <th>1</th>\n",
       "      <td>Holding On</td>\n",
       "      <td>Netta</td>\n",
       "      <td>Tropic New Wave</td>\n",
       "    </tr>\n",
       "    <tr>\n",
       "      <th>2</th>\n",
       "      <td>This Is The World We Live In</td>\n",
       "      <td>Alcazar</td>\n",
       "      <td>Dancefloor Deluxe</td>\n",
       "    </tr>\n",
       "    <tr>\n",
       "      <th>3</th>\n",
       "      <td>Madhouse</td>\n",
       "      <td>Anthrax</td>\n",
       "      <td>Spreading The Disease</td>\n",
       "    </tr>\n",
       "    <tr>\n",
       "      <th>4</th>\n",
       "      <td>Whore</td>\n",
       "      <td>In This Moment</td>\n",
       "      <td>Blood</td>\n",
       "    </tr>\n",
       "  </tbody>\n",
       "</table>\n",
       "</div>"
      ],
      "text/plain": [
       "                     track_name     artist_name             album_name\n",
       "0                     Going Red           KANGA                  KANGA\n",
       "1                    Holding On           Netta        Tropic New Wave\n",
       "2  This Is The World We Live In         Alcazar      Dancefloor Deluxe\n",
       "3                      Madhouse         Anthrax  Spreading The Disease\n",
       "4                         Whore  In This Moment                  Blood"
      ]
     },
     "execution_count": 16,
     "metadata": {},
     "output_type": "execute_result"
    }
   ],
   "source": [
    "playlist_id = int(input(\"Enter Playlist ID: \"))  # Take user input for playlist ID\n",
    "recommended_songs_df = cb_recommend1(playlist_id)\n",
    "recommended_songs_df"
   ]
  },
  {
   "cell_type": "code",
   "execution_count": null,
   "id": "955ecaee-563b-40bd-a8e6-7ddb4e341a36",
   "metadata": {},
   "outputs": [],
   "source": []
  }
 ],
 "metadata": {
  "kernelspec": {
   "display_name": "Python 3 (ipykernel)",
   "language": "python",
   "name": "python3"
  },
  "language_info": {
   "codemirror_mode": {
    "name": "ipython",
    "version": 3
   },
   "file_extension": ".py",
   "mimetype": "text/x-python",
   "name": "python",
   "nbconvert_exporter": "python",
   "pygments_lexer": "ipython3",
   "version": "3.10.12"
  }
 },
 "nbformat": 4,
 "nbformat_minor": 5
}
