{
 "cells": [
  {
   "cell_type": "markdown",
   "id": "618301cf-1842-418f-bfa9-1e15a4fb7ef5",
   "metadata": {
    "jp-MarkdownHeadingCollapsed": true
   },
   "source": [
    "# Getting The Dataset "
   ]
  },
  {
   "cell_type": "code",
   "execution_count": 2,
   "id": "f3317048-4156-4f56-95b2-3c9de8f17ba2",
   "metadata": {},
   "outputs": [],
   "source": [
    "import numpy as np\n",
    "import pandas as pd"
   ]
  },
  {
   "cell_type": "code",
   "execution_count": 2,
   "id": "12303791-02ce-4c62-9338-f1d1d3b97b17",
   "metadata": {},
   "outputs": [],
   "source": [
    "import os\n",
    "import json\n",
    "directory = \"/home/jovyan/Spotify/data\"\n",
    "# Get a list of all JSON files in the directory\n",
    "files = [os.path.join(directory, f) for f in os.listdir(directory) if f.endswith('.json')]"
   ]
  },
  {
   "cell_type": "code",
   "execution_count": 3,
   "id": "cefa3cc1-0e78-486c-a022-220b0e5ecda2",
   "metadata": {},
   "outputs": [
    {
     "data": {
      "text/plain": [
       "1000"
      ]
     },
     "execution_count": 3,
     "metadata": {},
     "output_type": "execute_result"
    }
   ],
   "source": [
    "len(files)"
   ]
  },
  {
   "cell_type": "code",
   "execution_count": 4,
   "id": "c96d5e4d-d44b-489b-b3f0-ff7f00ba9fd8",
   "metadata": {},
   "outputs": [],
   "source": [
    "spotify_data = []\n",
    "\n",
    "for file in files:\n",
    "    # Open each file\n",
    "    with open(file, 'r') as f:\n",
    "        # Load the data from the file and append it to the list\n",
    "        spotify_data.append(json.load(f))"
   ]
  },
  {
   "cell_type": "code",
   "execution_count": 5,
   "id": "4656965f-8669-4bd3-b7cd-cf704a981cf5",
   "metadata": {},
   "outputs": [],
   "source": [
    "import pandas as pd\n",
    "spotify_df= pd.DataFrame(spotify_data)"
   ]
  },
  {
   "cell_type": "code",
   "execution_count": 5,
   "id": "68e4355c-5e45-4796-b590-f070e25c7aee",
   "metadata": {},
   "outputs": [],
   "source": [
    "spotify_df.to_csv('spotify_df.csv', index=False)"
   ]
  },
  {
   "cell_type": "markdown",
   "id": "99bae65e-52dc-4fec-a1f3-09270e0d922d",
   "metadata": {
    "jp-MarkdownHeadingCollapsed": true
   },
   "source": [
    "# Create DataFrame For Playlists"
   ]
  },
  {
   "cell_type": "code",
   "execution_count": 6,
   "id": "83bd063b-6232-4ae3-979b-cc34fae5147d",
   "metadata": {},
   "outputs": [],
   "source": [
    "playlists = []\n",
    "# Loop through each file's data\n",
    "for file_data in spotify_data:\n",
    "    # Append each playlist to the list\n",
    "    playlists.extend(file_data['playlists'])"
   ]
  },
  {
   "cell_type": "code",
   "execution_count": 7,
   "id": "0c54ac3f-cf7f-42b0-945f-f78534572b37",
   "metadata": {},
   "outputs": [],
   "source": [
    "playlists_df = pd.DataFrame(playlists)"
   ]
  },
  {
   "cell_type": "code",
   "execution_count": 8,
   "id": "9d21e06f-a2c6-424c-8c9f-f3bd733a23c9",
   "metadata": {},
   "outputs": [],
   "source": [
    "playlists_df.to_csv('playlists_df.csv', index=False)"
   ]
  },
  {
   "cell_type": "markdown",
   "id": "8aa422e0-ecba-477e-b67c-abdce89b8fc2",
   "metadata": {
    "jp-MarkdownHeadingCollapsed": true
   },
   "source": [
    "# Create DataFrame For Tracks & Artists"
   ]
  },
  {
   "cell_type": "code",
   "execution_count": 13,
   "id": "f66bebe4-b6aa-4c55-8327-7dd9cfb58f4a",
   "metadata": {},
   "outputs": [],
   "source": [
    "all_tracks = []\n",
    "for _, row in playlists_df.iterrows():\n",
    "    for track in row['tracks']:\n",
    "        # Add playlist information to each track\n",
    "        track['playlist_name'] = row['name']# add this columns correspond to playlists name in playlists df\n",
    "        \n",
    "        track['playlist_pid'] = row['pid']\n",
    "        all_tracks.append(track)\n",
    "\n",
    "# Create a DataFrame from the extracted track details\n",
    "tracks_df = pd.DataFrame(all_tracks)\n"
   ]
  },
  {
   "cell_type": "code",
   "execution_count": 10,
   "id": "2842dcae-c095-435a-b572-c8bba3b4140b",
   "metadata": {},
   "outputs": [],
   "source": [
    "tracks_df.to_csv('tracks_df.csv', index=False)"
   ]
  },
  {
   "cell_type": "code",
   "execution_count": null,
   "id": "8806fe60-e1da-4075-b4d4-d243587b6f4a",
   "metadata": {},
   "outputs": [],
   "source": [
    "# Create The Interaction Dataframe"
   ]
  },
  {
   "cell_type": "code",
   "execution_count": 14,
   "id": "b45258d3-881e-429e-9afa-daf7d120b343",
   "metadata": {},
   "outputs": [],
   "source": [
    "playlist_tracks = []\n",
    "for playlist in playlists:\n",
    "    pid = playlist['pid']\n",
    "    for track in playlist['tracks']:\n",
    "        playlist_tracks.append([pid, track['track_uri'], 1])  # Adding implicit feedback rating of 1"
   ]
  },
  {
   "cell_type": "code",
   "execution_count": 15,
   "id": "5125b152-d043-43bc-a9bb-017a1e1dc259",
   "metadata": {},
   "outputs": [],
   "source": [
    "interaction_df = pd.DataFrame(playlist_tracks, columns=['playlist_id', 'track_uri', 'rating'])"
   ]
  },
  {
   "cell_type": "code",
   "execution_count": 16,
   "id": "fb6254c1-ead8-4d83-9ce1-8dd82c9832b3",
   "metadata": {},
   "outputs": [
    {
     "name": "stdout",
     "output_type": "stream",
     "text": [
      "(66346428, 3)\n"
     ]
    },
    {
     "data": {
      "text/html": [
       "<div>\n",
       "<style scoped>\n",
       "    .dataframe tbody tr th:only-of-type {\n",
       "        vertical-align: middle;\n",
       "    }\n",
       "\n",
       "    .dataframe tbody tr th {\n",
       "        vertical-align: top;\n",
       "    }\n",
       "\n",
       "    .dataframe thead th {\n",
       "        text-align: right;\n",
       "    }\n",
       "</style>\n",
       "<table border=\"1\" class=\"dataframe\">\n",
       "  <thead>\n",
       "    <tr style=\"text-align: right;\">\n",
       "      <th></th>\n",
       "      <th>playlist_id</th>\n",
       "      <th>track_uri</th>\n",
       "      <th>rating</th>\n",
       "    </tr>\n",
       "  </thead>\n",
       "  <tbody>\n",
       "    <tr>\n",
       "      <th>0</th>\n",
       "      <td>981000</td>\n",
       "      <td>spotify:track:7gKIt3rDGIMJDFVSPBnGmj</td>\n",
       "      <td>1</td>\n",
       "    </tr>\n",
       "    <tr>\n",
       "      <th>1</th>\n",
       "      <td>981000</td>\n",
       "      <td>spotify:track:2eAAEa8pxKF7My0EO4rFgR</td>\n",
       "      <td>1</td>\n",
       "    </tr>\n",
       "    <tr>\n",
       "      <th>2</th>\n",
       "      <td>981000</td>\n",
       "      <td>spotify:track:5rnFOEEIBIWZ6dhHrY6zHh</td>\n",
       "      <td>1</td>\n",
       "    </tr>\n",
       "    <tr>\n",
       "      <th>3</th>\n",
       "      <td>981000</td>\n",
       "      <td>spotify:track:7fwXWKdDNI5IutOMc5OKYw</td>\n",
       "      <td>1</td>\n",
       "    </tr>\n",
       "    <tr>\n",
       "      <th>4</th>\n",
       "      <td>981000</td>\n",
       "      <td>spotify:track:19yIQRLAYMNxmEfdnnQDsS</td>\n",
       "      <td>1</td>\n",
       "    </tr>\n",
       "  </tbody>\n",
       "</table>\n",
       "</div>"
      ],
      "text/plain": [
       "   playlist_id                             track_uri  rating\n",
       "0       981000  spotify:track:7gKIt3rDGIMJDFVSPBnGmj       1\n",
       "1       981000  spotify:track:2eAAEa8pxKF7My0EO4rFgR       1\n",
       "2       981000  spotify:track:5rnFOEEIBIWZ6dhHrY6zHh       1\n",
       "3       981000  spotify:track:7fwXWKdDNI5IutOMc5OKYw       1\n",
       "4       981000  spotify:track:19yIQRLAYMNxmEfdnnQDsS       1"
      ]
     },
     "execution_count": 16,
     "metadata": {},
     "output_type": "execute_result"
    }
   ],
   "source": [
    "print(interaction_df.shape)\n",
    "interaction_df.head()"
   ]
  },
  {
   "cell_type": "code",
   "execution_count": 22,
   "id": "379cdebf-4613-4667-835d-e921cc96f89e",
   "metadata": {},
   "outputs": [],
   "source": [
    "interaction_df.to_csv('interaction_df.csv', index=False)"
   ]
  },
  {
   "cell_type": "code",
   "execution_count": 19,
   "id": "23bfe783-cc60-4c02-af61-af2d726ad942",
   "metadata": {},
   "outputs": [],
   "source": [
    "#store unique pis and track_uri\n",
    "playlists = list(np.sort(interaction_df['playlist_id'].unique()))\n",
    "tracks = list(np.sort(interaction_df['track_uri'].unique()))"
   ]
  },
  {
   "cell_type": "code",
   "execution_count": 20,
   "id": "d5d02953-a9c2-4352-8489-fdbe12bc2ecd",
   "metadata": {},
   "outputs": [],
   "source": [
    "# Map IDs to integer indices\n",
    "playlist_to_idx = {playlist: i for i, playlist in enumerate(playlists)}\n",
    "track_to_idx = {track: i for i, track in enumerate(tracks)}\n",
    "\n",
    "# Map the interaction DataFrame values to integer indices\n",
    "interaction_df['playlist_idx'] = interaction_df['playlist_id'].map(playlist_to_idx)\n",
    "interaction_df['track_idx'] = interaction_df['track_uri'].map(track_to_idx)"
   ]
  },
  {
   "cell_type": "markdown",
   "id": "8c1844fe-1883-4bdd-9245-da08940d05dd",
   "metadata": {
    "jp-MarkdownHeadingCollapsed": true
   },
   "source": [
    "# Getting the Kaggle Dataset"
   ]
  },
  {
   "cell_type": "code",
   "execution_count": 11,
   "id": "263194a6-9d34-4928-af19-4b8e01f7d0fd",
   "metadata": {},
   "outputs": [],
   "source": [
    "kaggle_data = pd.read_csv('kaggle_data.csv')"
   ]
  },
  {
   "cell_type": "code",
   "execution_count": 9,
   "id": "f0dab8e5-842e-4389-89cc-4a0e4d8384a3",
   "metadata": {},
   "outputs": [
    {
     "data": {
      "text/plain": [
       "(1159764, 20)"
      ]
     },
     "execution_count": 9,
     "metadata": {},
     "output_type": "execute_result"
    }
   ],
   "source": [
    "kaggle_data.shape"
   ]
  },
  {
   "cell_type": "code",
   "execution_count": 8,
   "id": "2322215d-299d-4ef2-a71c-74aec2081b5c",
   "metadata": {},
   "outputs": [
    {
     "data": {
      "text/html": [
       "<div>\n",
       "<style scoped>\n",
       "    .dataframe tbody tr th:only-of-type {\n",
       "        vertical-align: middle;\n",
       "    }\n",
       "\n",
       "    .dataframe tbody tr th {\n",
       "        vertical-align: top;\n",
       "    }\n",
       "\n",
       "    .dataframe thead th {\n",
       "        text-align: right;\n",
       "    }\n",
       "</style>\n",
       "<table border=\"1\" class=\"dataframe\">\n",
       "  <thead>\n",
       "    <tr style=\"text-align: right;\">\n",
       "      <th></th>\n",
       "      <th>Unnamed: 0</th>\n",
       "      <th>artist_name</th>\n",
       "      <th>track_name</th>\n",
       "      <th>track_id</th>\n",
       "      <th>popularity</th>\n",
       "      <th>year</th>\n",
       "      <th>genre</th>\n",
       "      <th>danceability</th>\n",
       "      <th>energy</th>\n",
       "      <th>key</th>\n",
       "      <th>loudness</th>\n",
       "      <th>mode</th>\n",
       "      <th>speechiness</th>\n",
       "      <th>acousticness</th>\n",
       "      <th>instrumentalness</th>\n",
       "      <th>liveness</th>\n",
       "      <th>valence</th>\n",
       "      <th>tempo</th>\n",
       "      <th>duration_ms</th>\n",
       "      <th>time_signature</th>\n",
       "    </tr>\n",
       "  </thead>\n",
       "  <tbody>\n",
       "    <tr>\n",
       "      <th>0</th>\n",
       "      <td>0</td>\n",
       "      <td>Jason Mraz</td>\n",
       "      <td>I Won't Give Up</td>\n",
       "      <td>53QF56cjZA9RTuuMZDrSA6</td>\n",
       "      <td>68</td>\n",
       "      <td>2012</td>\n",
       "      <td>acoustic</td>\n",
       "      <td>0.483</td>\n",
       "      <td>0.303</td>\n",
       "      <td>4</td>\n",
       "      <td>-10.058</td>\n",
       "      <td>1</td>\n",
       "      <td>0.0429</td>\n",
       "      <td>0.6940</td>\n",
       "      <td>0.000000</td>\n",
       "      <td>0.1150</td>\n",
       "      <td>0.139</td>\n",
       "      <td>133.406</td>\n",
       "      <td>240166</td>\n",
       "      <td>3</td>\n",
       "    </tr>\n",
       "    <tr>\n",
       "      <th>1</th>\n",
       "      <td>1</td>\n",
       "      <td>Jason Mraz</td>\n",
       "      <td>93 Million Miles</td>\n",
       "      <td>1s8tP3jP4GZcyHDsjvw218</td>\n",
       "      <td>50</td>\n",
       "      <td>2012</td>\n",
       "      <td>acoustic</td>\n",
       "      <td>0.572</td>\n",
       "      <td>0.454</td>\n",
       "      <td>3</td>\n",
       "      <td>-10.286</td>\n",
       "      <td>1</td>\n",
       "      <td>0.0258</td>\n",
       "      <td>0.4770</td>\n",
       "      <td>0.000014</td>\n",
       "      <td>0.0974</td>\n",
       "      <td>0.515</td>\n",
       "      <td>140.182</td>\n",
       "      <td>216387</td>\n",
       "      <td>4</td>\n",
       "    </tr>\n",
       "    <tr>\n",
       "      <th>2</th>\n",
       "      <td>2</td>\n",
       "      <td>Joshua Hyslop</td>\n",
       "      <td>Do Not Let Me Go</td>\n",
       "      <td>7BRCa8MPiyuvr2VU3O9W0F</td>\n",
       "      <td>57</td>\n",
       "      <td>2012</td>\n",
       "      <td>acoustic</td>\n",
       "      <td>0.409</td>\n",
       "      <td>0.234</td>\n",
       "      <td>3</td>\n",
       "      <td>-13.711</td>\n",
       "      <td>1</td>\n",
       "      <td>0.0323</td>\n",
       "      <td>0.3380</td>\n",
       "      <td>0.000050</td>\n",
       "      <td>0.0895</td>\n",
       "      <td>0.145</td>\n",
       "      <td>139.832</td>\n",
       "      <td>158960</td>\n",
       "      <td>4</td>\n",
       "    </tr>\n",
       "    <tr>\n",
       "      <th>3</th>\n",
       "      <td>3</td>\n",
       "      <td>Boyce Avenue</td>\n",
       "      <td>Fast Car</td>\n",
       "      <td>63wsZUhUZLlh1OsyrZq7sz</td>\n",
       "      <td>58</td>\n",
       "      <td>2012</td>\n",
       "      <td>acoustic</td>\n",
       "      <td>0.392</td>\n",
       "      <td>0.251</td>\n",
       "      <td>10</td>\n",
       "      <td>-9.845</td>\n",
       "      <td>1</td>\n",
       "      <td>0.0363</td>\n",
       "      <td>0.8070</td>\n",
       "      <td>0.000000</td>\n",
       "      <td>0.0797</td>\n",
       "      <td>0.508</td>\n",
       "      <td>204.961</td>\n",
       "      <td>304293</td>\n",
       "      <td>4</td>\n",
       "    </tr>\n",
       "    <tr>\n",
       "      <th>4</th>\n",
       "      <td>4</td>\n",
       "      <td>Andrew Belle</td>\n",
       "      <td>Sky's Still Blue</td>\n",
       "      <td>6nXIYClvJAfi6ujLiKqEq8</td>\n",
       "      <td>54</td>\n",
       "      <td>2012</td>\n",
       "      <td>acoustic</td>\n",
       "      <td>0.430</td>\n",
       "      <td>0.791</td>\n",
       "      <td>6</td>\n",
       "      <td>-5.419</td>\n",
       "      <td>0</td>\n",
       "      <td>0.0302</td>\n",
       "      <td>0.0726</td>\n",
       "      <td>0.019300</td>\n",
       "      <td>0.1100</td>\n",
       "      <td>0.217</td>\n",
       "      <td>171.864</td>\n",
       "      <td>244320</td>\n",
       "      <td>4</td>\n",
       "    </tr>\n",
       "  </tbody>\n",
       "</table>\n",
       "</div>"
      ],
      "text/plain": [
       "   Unnamed: 0    artist_name        track_name                track_id  \\\n",
       "0           0     Jason Mraz   I Won't Give Up  53QF56cjZA9RTuuMZDrSA6   \n",
       "1           1     Jason Mraz  93 Million Miles  1s8tP3jP4GZcyHDsjvw218   \n",
       "2           2  Joshua Hyslop  Do Not Let Me Go  7BRCa8MPiyuvr2VU3O9W0F   \n",
       "3           3   Boyce Avenue          Fast Car  63wsZUhUZLlh1OsyrZq7sz   \n",
       "4           4   Andrew Belle  Sky's Still Blue  6nXIYClvJAfi6ujLiKqEq8   \n",
       "\n",
       "   popularity  year     genre  danceability  energy  key  loudness  mode  \\\n",
       "0          68  2012  acoustic         0.483   0.303    4   -10.058     1   \n",
       "1          50  2012  acoustic         0.572   0.454    3   -10.286     1   \n",
       "2          57  2012  acoustic         0.409   0.234    3   -13.711     1   \n",
       "3          58  2012  acoustic         0.392   0.251   10    -9.845     1   \n",
       "4          54  2012  acoustic         0.430   0.791    6    -5.419     0   \n",
       "\n",
       "   speechiness  acousticness  instrumentalness  liveness  valence    tempo  \\\n",
       "0       0.0429        0.6940          0.000000    0.1150    0.139  133.406   \n",
       "1       0.0258        0.4770          0.000014    0.0974    0.515  140.182   \n",
       "2       0.0323        0.3380          0.000050    0.0895    0.145  139.832   \n",
       "3       0.0363        0.8070          0.000000    0.0797    0.508  204.961   \n",
       "4       0.0302        0.0726          0.019300    0.1100    0.217  171.864   \n",
       "\n",
       "   duration_ms  time_signature  \n",
       "0       240166               3  \n",
       "1       216387               4  \n",
       "2       158960               4  \n",
       "3       304293               4  \n",
       "4       244320               4  "
      ]
     },
     "execution_count": 8,
     "metadata": {},
     "output_type": "execute_result"
    }
   ],
   "source": [
    "kaggle_data.head()"
   ]
  },
  {
   "cell_type": "markdown",
   "id": "a4b211c8-165c-4e78-9f35-c4bcfc0ebfba",
   "metadata": {},
   "source": [
    "## Merge track_df and kaggle_data"
   ]
  },
  {
   "cell_type": "code",
   "execution_count": 7,
   "id": "e1ee88b0-7a1c-4ed8-ab47-588e935eb5e3",
   "metadata": {},
   "outputs": [],
   "source": [
    "tracks_df = pd.read_csv('tracks_df.csv')"
   ]
  },
  {
   "cell_type": "code",
   "execution_count": 6,
   "id": "674e440b-0755-43da-b4de-fb85c806efde",
   "metadata": {},
   "outputs": [
    {
     "data": {
      "text/html": [
       "<div>\n",
       "<style scoped>\n",
       "    .dataframe tbody tr th:only-of-type {\n",
       "        vertical-align: middle;\n",
       "    }\n",
       "\n",
       "    .dataframe tbody tr th {\n",
       "        vertical-align: top;\n",
       "    }\n",
       "\n",
       "    .dataframe thead th {\n",
       "        text-align: right;\n",
       "    }\n",
       "</style>\n",
       "<table border=\"1\" class=\"dataframe\">\n",
       "  <thead>\n",
       "    <tr style=\"text-align: right;\">\n",
       "      <th></th>\n",
       "      <th>pos</th>\n",
       "      <th>artist_name</th>\n",
       "      <th>track_uri</th>\n",
       "      <th>artist_uri</th>\n",
       "      <th>track_name</th>\n",
       "      <th>album_uri</th>\n",
       "      <th>duration_ms</th>\n",
       "      <th>album_name</th>\n",
       "      <th>playlist_name</th>\n",
       "      <th>playlist_pid</th>\n",
       "      <th>track_id</th>\n",
       "    </tr>\n",
       "  </thead>\n",
       "  <tbody>\n",
       "    <tr>\n",
       "      <th>0</th>\n",
       "      <td>0</td>\n",
       "      <td>Nicki Minaj</td>\n",
       "      <td>spotify:track:7gKIt3rDGIMJDFVSPBnGmj</td>\n",
       "      <td>spotify:artist:0hCNtLu0JehylgoiP8L4Gh</td>\n",
       "      <td>Super Bass</td>\n",
       "      <td>spotify:album:2RfF6dGpYIN5u1mNkfG8Pb</td>\n",
       "      <td>200013</td>\n",
       "      <td>Pink Friday</td>\n",
       "      <td>life</td>\n",
       "      <td>981000</td>\n",
       "      <td>7gKIt3rDGIMJDFVSPBnGmj</td>\n",
       "    </tr>\n",
       "    <tr>\n",
       "      <th>1</th>\n",
       "      <td>1</td>\n",
       "      <td>Dua Lipa</td>\n",
       "      <td>spotify:track:2eAAEa8pxKF7My0EO4rFgR</td>\n",
       "      <td>spotify:artist:6M2wZ9GZgrQXHCFfjv46we</td>\n",
       "      <td>Blow Your Mind (Mwah)</td>\n",
       "      <td>spotify:album:01sfgrNbnnPUEyz6GZYlt9</td>\n",
       "      <td>178583</td>\n",
       "      <td>Dua Lipa</td>\n",
       "      <td>life</td>\n",
       "      <td>981000</td>\n",
       "      <td>2eAAEa8pxKF7My0EO4rFgR</td>\n",
       "    </tr>\n",
       "    <tr>\n",
       "      <th>2</th>\n",
       "      <td>2</td>\n",
       "      <td>ILoveMakonnen</td>\n",
       "      <td>spotify:track:5rnFOEEIBIWZ6dhHrY6zHh</td>\n",
       "      <td>spotify:artist:3aGFCoR8xGN6DKwvdzeSja</td>\n",
       "      <td>Love (feat. Rae Sremmurd)</td>\n",
       "      <td>spotify:album:44sGCAuUKSGPbF6fSXO2vZ</td>\n",
       "      <td>283193</td>\n",
       "      <td>Love (feat. Rae Sremmurd)</td>\n",
       "      <td>life</td>\n",
       "      <td>981000</td>\n",
       "      <td>5rnFOEEIBIWZ6dhHrY6zHh</td>\n",
       "    </tr>\n",
       "    <tr>\n",
       "      <th>3</th>\n",
       "      <td>3</td>\n",
       "      <td>J Balvin</td>\n",
       "      <td>spotify:track:7fwXWKdDNI5IutOMc5OKYw</td>\n",
       "      <td>spotify:artist:1vyhD5VmyZ7KMfW5gqLgo5</td>\n",
       "      <td>Mi Gente (feat. Beyoncé)</td>\n",
       "      <td>spotify:album:0ARVq1kA5eRP4F5VsZsr3m</td>\n",
       "      <td>209733</td>\n",
       "      <td>Mi Gente (feat. Beyoncé)</td>\n",
       "      <td>life</td>\n",
       "      <td>981000</td>\n",
       "      <td>7fwXWKdDNI5IutOMc5OKYw</td>\n",
       "    </tr>\n",
       "    <tr>\n",
       "      <th>4</th>\n",
       "      <td>4</td>\n",
       "      <td>Era Istrefi</td>\n",
       "      <td>spotify:track:19yIQRLAYMNxmEfdnnQDsS</td>\n",
       "      <td>spotify:artist:4poL7YCSkG7kMnWjAdDU91</td>\n",
       "      <td>No I Love Yous</td>\n",
       "      <td>spotify:album:6z4lsw2W6YwkA3CNDhGP42</td>\n",
       "      <td>180012</td>\n",
       "      <td>No I Love Yous</td>\n",
       "      <td>life</td>\n",
       "      <td>981000</td>\n",
       "      <td>19yIQRLAYMNxmEfdnnQDsS</td>\n",
       "    </tr>\n",
       "  </tbody>\n",
       "</table>\n",
       "</div>"
      ],
      "text/plain": [
       "   pos    artist_name                             track_uri  \\\n",
       "0    0    Nicki Minaj  spotify:track:7gKIt3rDGIMJDFVSPBnGmj   \n",
       "1    1       Dua Lipa  spotify:track:2eAAEa8pxKF7My0EO4rFgR   \n",
       "2    2  ILoveMakonnen  spotify:track:5rnFOEEIBIWZ6dhHrY6zHh   \n",
       "3    3       J Balvin  spotify:track:7fwXWKdDNI5IutOMc5OKYw   \n",
       "4    4    Era Istrefi  spotify:track:19yIQRLAYMNxmEfdnnQDsS   \n",
       "\n",
       "                              artist_uri                 track_name  \\\n",
       "0  spotify:artist:0hCNtLu0JehylgoiP8L4Gh                 Super Bass   \n",
       "1  spotify:artist:6M2wZ9GZgrQXHCFfjv46we      Blow Your Mind (Mwah)   \n",
       "2  spotify:artist:3aGFCoR8xGN6DKwvdzeSja  Love (feat. Rae Sremmurd)   \n",
       "3  spotify:artist:1vyhD5VmyZ7KMfW5gqLgo5   Mi Gente (feat. Beyoncé)   \n",
       "4  spotify:artist:4poL7YCSkG7kMnWjAdDU91             No I Love Yous   \n",
       "\n",
       "                              album_uri  duration_ms  \\\n",
       "0  spotify:album:2RfF6dGpYIN5u1mNkfG8Pb       200013   \n",
       "1  spotify:album:01sfgrNbnnPUEyz6GZYlt9       178583   \n",
       "2  spotify:album:44sGCAuUKSGPbF6fSXO2vZ       283193   \n",
       "3  spotify:album:0ARVq1kA5eRP4F5VsZsr3m       209733   \n",
       "4  spotify:album:6z4lsw2W6YwkA3CNDhGP42       180012   \n",
       "\n",
       "                  album_name playlist_name  playlist_pid  \\\n",
       "0                Pink Friday          life        981000   \n",
       "1                   Dua Lipa          life        981000   \n",
       "2  Love (feat. Rae Sremmurd)          life        981000   \n",
       "3   Mi Gente (feat. Beyoncé)          life        981000   \n",
       "4             No I Love Yous          life        981000   \n",
       "\n",
       "                 track_id  \n",
       "0  7gKIt3rDGIMJDFVSPBnGmj  \n",
       "1  2eAAEa8pxKF7My0EO4rFgR  \n",
       "2  5rnFOEEIBIWZ6dhHrY6zHh  \n",
       "3  7fwXWKdDNI5IutOMc5OKYw  \n",
       "4  19yIQRLAYMNxmEfdnnQDsS  "
      ]
     },
     "execution_count": 6,
     "metadata": {},
     "output_type": "execute_result"
    }
   ],
   "source": [
    "tracks_df['track_id']= tracks_df['track_uri'].str.replace('spotify:track:', '')\n",
    "tracks_df.head()"
   ]
  },
  {
   "cell_type": "code",
   "execution_count": 8,
   "id": "5e7a8b06-b6e4-4291-b4cb-1a7adae79683",
   "metadata": {},
   "outputs": [
    {
     "data": {
      "text/plain": [
       "(66346428, 11)"
      ]
     },
     "execution_count": 8,
     "metadata": {},
     "output_type": "execute_result"
    }
   ],
   "source": [
    "tracks_df.shape"
   ]
  },
  {
   "cell_type": "code",
   "execution_count": 19,
   "id": "388d44b4-98c3-4d57-9d7f-e94c0537124d",
   "metadata": {},
   "outputs": [],
   "source": [
    "# Merege\n",
    "merged_df = pd.merge(tracks_df, kaggle_data, on='track_id', how='inner').drop_duplicates(subset='track_id')"
   ]
  },
  {
   "cell_type": "code",
   "execution_count": 20,
   "id": "333b9d1a-4f09-4b1f-be40-de7841498f1d",
   "metadata": {},
   "outputs": [
    {
     "data": {
      "text/plain": [
       "(188298, 30)"
      ]
     },
     "execution_count": 20,
     "metadata": {},
     "output_type": "execute_result"
    }
   ],
   "source": [
    "merged_df.shape"
   ]
  },
  {
   "cell_type": "code",
   "execution_count": 21,
   "id": "828d1612-1590-4c9b-886b-fdd61a9649ee",
   "metadata": {},
   "outputs": [
    {
     "data": {
      "text/html": [
       "<div>\n",
       "<style scoped>\n",
       "    .dataframe tbody tr th:only-of-type {\n",
       "        vertical-align: middle;\n",
       "    }\n",
       "\n",
       "    .dataframe tbody tr th {\n",
       "        vertical-align: top;\n",
       "    }\n",
       "\n",
       "    .dataframe thead th {\n",
       "        text-align: right;\n",
       "    }\n",
       "</style>\n",
       "<table border=\"1\" class=\"dataframe\">\n",
       "  <thead>\n",
       "    <tr style=\"text-align: right;\">\n",
       "      <th></th>\n",
       "      <th>pos</th>\n",
       "      <th>artist_name_x</th>\n",
       "      <th>track_uri</th>\n",
       "      <th>artist_uri</th>\n",
       "      <th>track_name_x</th>\n",
       "      <th>album_uri</th>\n",
       "      <th>duration_ms_x</th>\n",
       "      <th>album_name</th>\n",
       "      <th>playlist_name</th>\n",
       "      <th>playlist_pid</th>\n",
       "      <th>...</th>\n",
       "      <th>loudness</th>\n",
       "      <th>mode</th>\n",
       "      <th>speechiness</th>\n",
       "      <th>acousticness</th>\n",
       "      <th>instrumentalness</th>\n",
       "      <th>liveness</th>\n",
       "      <th>valence</th>\n",
       "      <th>tempo</th>\n",
       "      <th>duration_ms_y</th>\n",
       "      <th>time_signature</th>\n",
       "    </tr>\n",
       "  </thead>\n",
       "  <tbody>\n",
       "    <tr>\n",
       "      <th>0</th>\n",
       "      <td>5</td>\n",
       "      <td>Era Istrefi</td>\n",
       "      <td>spotify:track:2tBFf1pd3PyYXVLJ5QO3de</td>\n",
       "      <td>spotify:artist:4poL7YCSkG7kMnWjAdDU91</td>\n",
       "      <td>Bonbon - English Version</td>\n",
       "      <td>spotify:album:7sMM9mV7CxSNYf1AqjxEgT</td>\n",
       "      <td>167171</td>\n",
       "      <td>Bonbon</td>\n",
       "      <td>life</td>\n",
       "      <td>981000</td>\n",
       "      <td>...</td>\n",
       "      <td>-4.133</td>\n",
       "      <td>0</td>\n",
       "      <td>0.1100</td>\n",
       "      <td>0.077400</td>\n",
       "      <td>0.000666</td>\n",
       "      <td>0.1180</td>\n",
       "      <td>0.699</td>\n",
       "      <td>94.962</td>\n",
       "      <td>167171</td>\n",
       "      <td>4</td>\n",
       "    </tr>\n",
       "    <tr>\n",
       "      <th>1</th>\n",
       "      <td>9</td>\n",
       "      <td>Louis Tomlinson</td>\n",
       "      <td>spotify:track:7F9vK8hNFMml4GtHsaXui6</td>\n",
       "      <td>spotify:artist:57WHJIHrjOE3iAxpihhMnp</td>\n",
       "      <td>Back to You (feat. Bebe Rexha &amp; Digital Farm A...</td>\n",
       "      <td>spotify:album:4sBgGazGb7S9ZUQJu2Y0qa</td>\n",
       "      <td>190427</td>\n",
       "      <td>Back to You (feat. Bebe Rexha &amp; Digital Farm A...</td>\n",
       "      <td>life</td>\n",
       "      <td>981000</td>\n",
       "      <td>...</td>\n",
       "      <td>-4.918</td>\n",
       "      <td>0</td>\n",
       "      <td>0.1420</td>\n",
       "      <td>0.207000</td>\n",
       "      <td>0.000000</td>\n",
       "      <td>0.3940</td>\n",
       "      <td>0.645</td>\n",
       "      <td>75.016</td>\n",
       "      <td>190428</td>\n",
       "      <td>4</td>\n",
       "    </tr>\n",
       "    <tr>\n",
       "      <th>2</th>\n",
       "      <td>12</td>\n",
       "      <td>Khalid</td>\n",
       "      <td>spotify:track:248OFOZef6ShXv6DGgbnxU</td>\n",
       "      <td>spotify:artist:6LuN9FCkKOj5PcnpouEgny</td>\n",
       "      <td>Saved</td>\n",
       "      <td>spotify:album:6kf46HbnYCZzP6rjvQHYzg</td>\n",
       "      <td>206533</td>\n",
       "      <td>American Teen</td>\n",
       "      <td>life</td>\n",
       "      <td>981000</td>\n",
       "      <td>...</td>\n",
       "      <td>-10.280</td>\n",
       "      <td>0</td>\n",
       "      <td>0.1380</td>\n",
       "      <td>0.189000</td>\n",
       "      <td>0.000000</td>\n",
       "      <td>0.1180</td>\n",
       "      <td>0.553</td>\n",
       "      <td>81.044</td>\n",
       "      <td>206533</td>\n",
       "      <td>4</td>\n",
       "    </tr>\n",
       "    <tr>\n",
       "      <th>3</th>\n",
       "      <td>21</td>\n",
       "      <td>SZA</td>\n",
       "      <td>spotify:track:0q75NwOoFiARAVp4EXU4Bs</td>\n",
       "      <td>spotify:artist:7tYKF4w9nC0nq9CsPZTHyP</td>\n",
       "      <td>Love Galore</td>\n",
       "      <td>spotify:album:76290XdXVF9rPzGdNRWdCh</td>\n",
       "      <td>275080</td>\n",
       "      <td>Ctrl</td>\n",
       "      <td>life</td>\n",
       "      <td>981000</td>\n",
       "      <td>...</td>\n",
       "      <td>-6.200</td>\n",
       "      <td>1</td>\n",
       "      <td>0.0748</td>\n",
       "      <td>0.112000</td>\n",
       "      <td>0.000000</td>\n",
       "      <td>0.1620</td>\n",
       "      <td>0.409</td>\n",
       "      <td>135.002</td>\n",
       "      <td>275080</td>\n",
       "      <td>4</td>\n",
       "    </tr>\n",
       "    <tr>\n",
       "      <th>4</th>\n",
       "      <td>22</td>\n",
       "      <td>Maggie Lindemann</td>\n",
       "      <td>spotify:track:1NDxZ7cFAo481dtYWdrUnR</td>\n",
       "      <td>spotify:artist:0uGk2czvcpWQA383Im6ajf</td>\n",
       "      <td>Pretty Girl - Cheat Codes X CADE Remix</td>\n",
       "      <td>spotify:album:1XYA8eDvomdYTbQBzk0jT1</td>\n",
       "      <td>193613</td>\n",
       "      <td>Pretty Girl</td>\n",
       "      <td>life</td>\n",
       "      <td>981000</td>\n",
       "      <td>...</td>\n",
       "      <td>-4.661</td>\n",
       "      <td>0</td>\n",
       "      <td>0.0291</td>\n",
       "      <td>0.150000</td>\n",
       "      <td>0.132000</td>\n",
       "      <td>0.1040</td>\n",
       "      <td>0.733</td>\n",
       "      <td>121.030</td>\n",
       "      <td>193613</td>\n",
       "      <td>4</td>\n",
       "    </tr>\n",
       "    <tr>\n",
       "      <th>...</th>\n",
       "      <td>...</td>\n",
       "      <td>...</td>\n",
       "      <td>...</td>\n",
       "      <td>...</td>\n",
       "      <td>...</td>\n",
       "      <td>...</td>\n",
       "      <td>...</td>\n",
       "      <td>...</td>\n",
       "      <td>...</td>\n",
       "      <td>...</td>\n",
       "      <td>...</td>\n",
       "      <td>...</td>\n",
       "      <td>...</td>\n",
       "      <td>...</td>\n",
       "      <td>...</td>\n",
       "      <td>...</td>\n",
       "      <td>...</td>\n",
       "      <td>...</td>\n",
       "      <td>...</td>\n",
       "      <td>...</td>\n",
       "      <td>...</td>\n",
       "    </tr>\n",
       "    <tr>\n",
       "      <th>19846424</th>\n",
       "      <td>69</td>\n",
       "      <td>Hoth</td>\n",
       "      <td>spotify:track:78oeyFJcN3PGfhDYn154KD</td>\n",
       "      <td>spotify:artist:6AZvcFijP8NR8dhGjJRx1U</td>\n",
       "      <td>The Unholy Conception</td>\n",
       "      <td>spotify:album:0mjYHlEGn0G5atFXIrDe2n</td>\n",
       "      <td>442160</td>\n",
       "      <td>Oathbreaker</td>\n",
       "      <td>metal</td>\n",
       "      <td>930808</td>\n",
       "      <td>...</td>\n",
       "      <td>-9.262</td>\n",
       "      <td>0</td>\n",
       "      <td>0.0433</td>\n",
       "      <td>0.000079</td>\n",
       "      <td>0.791000</td>\n",
       "      <td>0.1040</td>\n",
       "      <td>0.195</td>\n",
       "      <td>98.767</td>\n",
       "      <td>442160</td>\n",
       "      <td>3</td>\n",
       "    </tr>\n",
       "    <tr>\n",
       "      <th>19846829</th>\n",
       "      <td>86</td>\n",
       "      <td>Insan3lik3</td>\n",
       "      <td>spotify:track:4tKvPpe5IRu8GdwMtwokfu</td>\n",
       "      <td>spotify:artist:0ACEzksK2oPw72QtDMCUVV</td>\n",
       "      <td>Go Ballistic</td>\n",
       "      <td>spotify:album:1ppqWOIAnfR8jpMNSldsJg</td>\n",
       "      <td>368483</td>\n",
       "      <td>Go Ballistic</td>\n",
       "      <td>edm</td>\n",
       "      <td>930821</td>\n",
       "      <td>...</td>\n",
       "      <td>-10.220</td>\n",
       "      <td>0</td>\n",
       "      <td>0.0608</td>\n",
       "      <td>0.012700</td>\n",
       "      <td>0.828000</td>\n",
       "      <td>0.0927</td>\n",
       "      <td>0.318</td>\n",
       "      <td>127.995</td>\n",
       "      <td>368483</td>\n",
       "      <td>4</td>\n",
       "    </tr>\n",
       "    <tr>\n",
       "      <th>19849729</th>\n",
       "      <td>40</td>\n",
       "      <td>Project 86</td>\n",
       "      <td>spotify:track:11ZZgXmPo8dR2WI4VZeR4P</td>\n",
       "      <td>spotify:artist:7toVzxZQU21OjB5PqXNvTF</td>\n",
       "      <td>Know What It Means</td>\n",
       "      <td>spotify:album:6A534gDjI3kQfU5hlC097a</td>\n",
       "      <td>254933</td>\n",
       "      <td>Truthless Heroes</td>\n",
       "      <td>Nostalgia</td>\n",
       "      <td>930965</td>\n",
       "      <td>...</td>\n",
       "      <td>-5.033</td>\n",
       "      <td>1</td>\n",
       "      <td>0.0666</td>\n",
       "      <td>0.000158</td>\n",
       "      <td>0.002010</td>\n",
       "      <td>0.1060</td>\n",
       "      <td>0.188</td>\n",
       "      <td>182.567</td>\n",
       "      <td>254933</td>\n",
       "      <td>3</td>\n",
       "    </tr>\n",
       "    <tr>\n",
       "      <th>19849734</th>\n",
       "      <td>47</td>\n",
       "      <td>Project 86</td>\n",
       "      <td>spotify:track:0NciXpcSyzMAa3CTNVVuh1</td>\n",
       "      <td>spotify:artist:7toVzxZQU21OjB5PqXNvTF</td>\n",
       "      <td>Another Boredom Movement</td>\n",
       "      <td>spotify:album:6A534gDjI3kQfU5hlC097a</td>\n",
       "      <td>234160</td>\n",
       "      <td>Truthless Heroes</td>\n",
       "      <td>Nostalgia</td>\n",
       "      <td>930965</td>\n",
       "      <td>...</td>\n",
       "      <td>-4.314</td>\n",
       "      <td>1</td>\n",
       "      <td>0.0493</td>\n",
       "      <td>0.000071</td>\n",
       "      <td>0.638000</td>\n",
       "      <td>0.3840</td>\n",
       "      <td>0.267</td>\n",
       "      <td>119.676</td>\n",
       "      <td>234160</td>\n",
       "      <td>4</td>\n",
       "    </tr>\n",
       "    <tr>\n",
       "      <th>19849897</th>\n",
       "      <td>99</td>\n",
       "      <td>Kamikazee</td>\n",
       "      <td>spotify:track:3MrlFe09uJwxf3KoUqqnGA</td>\n",
       "      <td>spotify:artist:4GBFKKuwmZUnAJt6nBal7A</td>\n",
       "      <td>Lucky</td>\n",
       "      <td>spotify:album:345KmDiLID6QRx5TbBSOOW</td>\n",
       "      <td>213920</td>\n",
       "      <td>Kamikazee</td>\n",
       "      <td>pinoy rap</td>\n",
       "      <td>930978</td>\n",
       "      <td>...</td>\n",
       "      <td>-4.663</td>\n",
       "      <td>1</td>\n",
       "      <td>0.0442</td>\n",
       "      <td>0.002460</td>\n",
       "      <td>0.000000</td>\n",
       "      <td>0.0877</td>\n",
       "      <td>0.467</td>\n",
       "      <td>105.723</td>\n",
       "      <td>213920</td>\n",
       "      <td>4</td>\n",
       "    </tr>\n",
       "  </tbody>\n",
       "</table>\n",
       "<p>188298 rows × 30 columns</p>\n",
       "</div>"
      ],
      "text/plain": [
       "          pos     artist_name_x                             track_uri  \\\n",
       "0           5       Era Istrefi  spotify:track:2tBFf1pd3PyYXVLJ5QO3de   \n",
       "1           9   Louis Tomlinson  spotify:track:7F9vK8hNFMml4GtHsaXui6   \n",
       "2          12            Khalid  spotify:track:248OFOZef6ShXv6DGgbnxU   \n",
       "3          21               SZA  spotify:track:0q75NwOoFiARAVp4EXU4Bs   \n",
       "4          22  Maggie Lindemann  spotify:track:1NDxZ7cFAo481dtYWdrUnR   \n",
       "...       ...               ...                                   ...   \n",
       "19846424   69              Hoth  spotify:track:78oeyFJcN3PGfhDYn154KD   \n",
       "19846829   86        Insan3lik3  spotify:track:4tKvPpe5IRu8GdwMtwokfu   \n",
       "19849729   40        Project 86  spotify:track:11ZZgXmPo8dR2WI4VZeR4P   \n",
       "19849734   47        Project 86  spotify:track:0NciXpcSyzMAa3CTNVVuh1   \n",
       "19849897   99         Kamikazee  spotify:track:3MrlFe09uJwxf3KoUqqnGA   \n",
       "\n",
       "                                     artist_uri  \\\n",
       "0         spotify:artist:4poL7YCSkG7kMnWjAdDU91   \n",
       "1         spotify:artist:57WHJIHrjOE3iAxpihhMnp   \n",
       "2         spotify:artist:6LuN9FCkKOj5PcnpouEgny   \n",
       "3         spotify:artist:7tYKF4w9nC0nq9CsPZTHyP   \n",
       "4         spotify:artist:0uGk2czvcpWQA383Im6ajf   \n",
       "...                                         ...   \n",
       "19846424  spotify:artist:6AZvcFijP8NR8dhGjJRx1U   \n",
       "19846829  spotify:artist:0ACEzksK2oPw72QtDMCUVV   \n",
       "19849729  spotify:artist:7toVzxZQU21OjB5PqXNvTF   \n",
       "19849734  spotify:artist:7toVzxZQU21OjB5PqXNvTF   \n",
       "19849897  spotify:artist:4GBFKKuwmZUnAJt6nBal7A   \n",
       "\n",
       "                                               track_name_x  \\\n",
       "0                                  Bonbon - English Version   \n",
       "1         Back to You (feat. Bebe Rexha & Digital Farm A...   \n",
       "2                                                     Saved   \n",
       "3                                               Love Galore   \n",
       "4                    Pretty Girl - Cheat Codes X CADE Remix   \n",
       "...                                                     ...   \n",
       "19846424                              The Unholy Conception   \n",
       "19846829                                       Go Ballistic   \n",
       "19849729                                 Know What It Means   \n",
       "19849734                           Another Boredom Movement   \n",
       "19849897                                              Lucky   \n",
       "\n",
       "                                     album_uri  duration_ms_x  \\\n",
       "0         spotify:album:7sMM9mV7CxSNYf1AqjxEgT         167171   \n",
       "1         spotify:album:4sBgGazGb7S9ZUQJu2Y0qa         190427   \n",
       "2         spotify:album:6kf46HbnYCZzP6rjvQHYzg         206533   \n",
       "3         spotify:album:76290XdXVF9rPzGdNRWdCh         275080   \n",
       "4         spotify:album:1XYA8eDvomdYTbQBzk0jT1         193613   \n",
       "...                                        ...            ...   \n",
       "19846424  spotify:album:0mjYHlEGn0G5atFXIrDe2n         442160   \n",
       "19846829  spotify:album:1ppqWOIAnfR8jpMNSldsJg         368483   \n",
       "19849729  spotify:album:6A534gDjI3kQfU5hlC097a         254933   \n",
       "19849734  spotify:album:6A534gDjI3kQfU5hlC097a         234160   \n",
       "19849897  spotify:album:345KmDiLID6QRx5TbBSOOW         213920   \n",
       "\n",
       "                                                 album_name playlist_name  \\\n",
       "0                                                    Bonbon          life   \n",
       "1         Back to You (feat. Bebe Rexha & Digital Farm A...          life   \n",
       "2                                             American Teen          life   \n",
       "3                                                      Ctrl          life   \n",
       "4                                               Pretty Girl          life   \n",
       "...                                                     ...           ...   \n",
       "19846424                                        Oathbreaker         metal   \n",
       "19846829                                       Go Ballistic           edm   \n",
       "19849729                                   Truthless Heroes     Nostalgia   \n",
       "19849734                                   Truthless Heroes     Nostalgia   \n",
       "19849897                                          Kamikazee     pinoy rap   \n",
       "\n",
       "          playlist_pid  ... loudness  mode speechiness acousticness  \\\n",
       "0               981000  ...   -4.133     0      0.1100     0.077400   \n",
       "1               981000  ...   -4.918     0      0.1420     0.207000   \n",
       "2               981000  ...  -10.280     0      0.1380     0.189000   \n",
       "3               981000  ...   -6.200     1      0.0748     0.112000   \n",
       "4               981000  ...   -4.661     0      0.0291     0.150000   \n",
       "...                ...  ...      ...   ...         ...          ...   \n",
       "19846424        930808  ...   -9.262     0      0.0433     0.000079   \n",
       "19846829        930821  ...  -10.220     0      0.0608     0.012700   \n",
       "19849729        930965  ...   -5.033     1      0.0666     0.000158   \n",
       "19849734        930965  ...   -4.314     1      0.0493     0.000071   \n",
       "19849897        930978  ...   -4.663     1      0.0442     0.002460   \n",
       "\n",
       "          instrumentalness  liveness valence    tempo  duration_ms_y  \\\n",
       "0                 0.000666    0.1180   0.699   94.962         167171   \n",
       "1                 0.000000    0.3940   0.645   75.016         190428   \n",
       "2                 0.000000    0.1180   0.553   81.044         206533   \n",
       "3                 0.000000    0.1620   0.409  135.002         275080   \n",
       "4                 0.132000    0.1040   0.733  121.030         193613   \n",
       "...                    ...       ...     ...      ...            ...   \n",
       "19846424          0.791000    0.1040   0.195   98.767         442160   \n",
       "19846829          0.828000    0.0927   0.318  127.995         368483   \n",
       "19849729          0.002010    0.1060   0.188  182.567         254933   \n",
       "19849734          0.638000    0.3840   0.267  119.676         234160   \n",
       "19849897          0.000000    0.0877   0.467  105.723         213920   \n",
       "\n",
       "          time_signature  \n",
       "0                      4  \n",
       "1                      4  \n",
       "2                      4  \n",
       "3                      4  \n",
       "4                      4  \n",
       "...                  ...  \n",
       "19846424               3  \n",
       "19846829               4  \n",
       "19849729               3  \n",
       "19849734               4  \n",
       "19849897               4  \n",
       "\n",
       "[188298 rows x 30 columns]"
      ]
     },
     "execution_count": 21,
     "metadata": {},
     "output_type": "execute_result"
    }
   ],
   "source": [
    "merged_df"
   ]
  },
  {
   "cell_type": "code",
   "execution_count": 26,
   "id": "247ccdc6-7e63-4ca5-b40d-d8926d31513e",
   "metadata": {},
   "outputs": [
    {
     "data": {
      "text/plain": [
       "(1159764,)"
      ]
     },
     "execution_count": 26,
     "metadata": {},
     "output_type": "execute_result"
    }
   ],
   "source": [
    "kaggle_data['track_id'].unique().shape"
   ]
  },
  {
   "cell_type": "code",
   "execution_count": null,
   "id": "f64f5598-f879-4d15-bd04-0446d90adfd7",
   "metadata": {},
   "outputs": [],
   "source": [
    "merged_df.to_csv('merged_csv', index=False)\n"
   ]
  },
  {
   "cell_type": "markdown",
   "id": "fd9da489-47cc-40c8-ab5a-4c00ad2dd05c",
   "metadata": {
    "jp-MarkdownHeadingCollapsed": true
   },
   "source": [
    "# Getting The Musicbrainz Artist Tar File"
   ]
  },
  {
   "cell_type": "code",
   "execution_count": 17,
   "id": "343b71a8-8552-47c8-9964-a4dfc89d1870",
   "metadata": {},
   "outputs": [],
   "source": [
    "import json\n",
    "\n",
    "artist_json_path = \"/home/jovyan/Spotify/musicbrainz/mbdump/artist\" \n",
    "\n",
    "artists_data = []\n",
    "with open(artist_json_path, 'r', encoding='utf-8') as f:\n",
    "    for line in f:\n",
    "        artists_data.append(json.loads(line))\n"
   ]
  },
  {
   "cell_type": "code",
   "execution_count": 18,
   "id": "4eafd366-ba83-425f-ad40-406f8ac88828",
   "metadata": {},
   "outputs": [],
   "source": [
    "artist_df = pd.DataFrame(artists_data)"
   ]
  },
  {
   "cell_type": "code",
   "execution_count": null,
   "id": "cffcc574-7c75-4b94-a9ca-30261e15036d",
   "metadata": {},
   "outputs": [],
   "source": [
    "artist_df.to_csv('artist_df.csv', index = False)"
   ]
  },
  {
   "cell_type": "code",
   "execution_count": 3,
   "id": "80895f68-ab51-4e1e-8582-e85adadcdfa0",
   "metadata": {},
   "outputs": [],
   "source": [
    "artist_df = pd.read_csv('artist_df.csv')"
   ]
  },
  {
   "cell_type": "code",
   "execution_count": 4,
   "id": "2b52edaa-6068-46fe-a155-cab8c8bc5384",
   "metadata": {},
   "outputs": [
    {
     "data": {
      "text/plain": [
       "(2425588, 21)"
      ]
     },
     "execution_count": 4,
     "metadata": {},
     "output_type": "execute_result"
    }
   ],
   "source": [
    "artist_df.shape"
   ]
  },
  {
   "cell_type": "code",
   "execution_count": 42,
   "id": "c299fb51-f475-4c41-ba26-370c0951ad27",
   "metadata": {},
   "outputs": [
    {
     "data": {
      "text/plain": [
       "2195132"
      ]
     },
     "execution_count": 42,
     "metadata": {},
     "output_type": "execute_result"
    }
   ],
   "source": [
    "len(artist_df['name'].unique())"
   ]
  },
  {
   "cell_type": "code",
   "execution_count": 28,
   "id": "977da87b-f1d0-416a-963f-f75dfc6a7a9c",
   "metadata": {
    "collapsed": true,
    "jupyter": {
     "outputs_hidden": true
    }
   },
   "outputs": [
    {
     "data": {
      "text/plain": [
       "annotation        2406905\n",
       "begin-area        2024378\n",
       "ipis                    0\n",
       "disambiguation    1629042\n",
       "type-id            535150\n",
       "rating                  0\n",
       "sort-name              36\n",
       "aliases                 0\n",
       "area              1236934\n",
       "life-span               0\n",
       "name                   30\n",
       "id                      0\n",
       "type               535150\n",
       "country           1496627\n",
       "end-area          2361069\n",
       "gender            1389796\n",
       "isnis                   0\n",
       "gender-id         1389796\n",
       "relations               0\n",
       "genres                  0\n",
       "tags                    0\n",
       "dtype: int64"
      ]
     },
     "execution_count": 28,
     "metadata": {},
     "output_type": "execute_result"
    }
   ],
   "source": [
    "artist_df.isnull().sum()"
   ]
  },
  {
   "cell_type": "code",
   "execution_count": 44,
   "id": "4334982e-cb29-43bf-99e6-88ae26cf4877",
   "metadata": {},
   "outputs": [
    {
     "data": {
      "text/html": [
       "<div>\n",
       "<style scoped>\n",
       "    .dataframe tbody tr th:only-of-type {\n",
       "        vertical-align: middle;\n",
       "    }\n",
       "\n",
       "    .dataframe tbody tr th {\n",
       "        vertical-align: top;\n",
       "    }\n",
       "\n",
       "    .dataframe thead th {\n",
       "        text-align: right;\n",
       "    }\n",
       "</style>\n",
       "<table border=\"1\" class=\"dataframe\">\n",
       "  <thead>\n",
       "    <tr style=\"text-align: right;\">\n",
       "      <th></th>\n",
       "      <th>annotation</th>\n",
       "      <th>begin-area</th>\n",
       "      <th>ipis</th>\n",
       "      <th>disambiguation</th>\n",
       "      <th>type-id</th>\n",
       "      <th>rating</th>\n",
       "      <th>sort-name</th>\n",
       "      <th>aliases</th>\n",
       "      <th>area</th>\n",
       "      <th>life-span</th>\n",
       "      <th>...</th>\n",
       "      <th>artist_uri</th>\n",
       "      <th>type</th>\n",
       "      <th>country</th>\n",
       "      <th>end-area</th>\n",
       "      <th>gender</th>\n",
       "      <th>isnis</th>\n",
       "      <th>gender-id</th>\n",
       "      <th>relations</th>\n",
       "      <th>genres</th>\n",
       "      <th>tags</th>\n",
       "    </tr>\n",
       "  </thead>\n",
       "  <tbody>\n",
       "    <tr>\n",
       "      <th>0</th>\n",
       "      <td>NaN</td>\n",
       "      <td>{'type-id': None, 'name': 'San Pedro', 'id': '...</td>\n",
       "      <td>[]</td>\n",
       "      <td>early 80s US hardcore punk band</td>\n",
       "      <td>e431f5f6-b5d2-343d-8b36-72607fffb74b</td>\n",
       "      <td>{'value': 4, 'votes-count': 1}</td>\n",
       "      <td>Minutemen</td>\n",
       "      <td>[{'name': 'The Minutemen', 'primary': None, 'b...</td>\n",
       "      <td>{'type-id': None, 'iso-3166-1-codes': ['US'], ...</td>\n",
       "      <td>{'end': '1985-12-22', 'ended': True, 'begin': ...</td>\n",
       "      <td>...</td>\n",
       "      <td>d4ad0149-d8ae-4105-8009-0221fce9ff35</td>\n",
       "      <td>Group</td>\n",
       "      <td>US</td>\n",
       "      <td>NaN</td>\n",
       "      <td>NaN</td>\n",
       "      <td>[]</td>\n",
       "      <td>NaN</td>\n",
       "      <td>[{'attribute-ids': {}, 'source-credit': '', 'e...</td>\n",
       "      <td>[{'disambiguation': '', 'id': '00055e8b-b951-4...</td>\n",
       "      <td>[{'count': 1, 'name': 'acoustic rock'}, {'coun...</td>\n",
       "    </tr>\n",
       "    <tr>\n",
       "      <th>1</th>\n",
       "      <td>NaN</td>\n",
       "      <td>NaN</td>\n",
       "      <td>[]</td>\n",
       "      <td>NaN</td>\n",
       "      <td>e431f5f6-b5d2-343d-8b36-72607fffb74b</td>\n",
       "      <td>{'votes-count': 0, 'value': None}</td>\n",
       "      <td>Burunduk Kvartet</td>\n",
       "      <td>[{'primary': None, 'name': 'Burunduk Quartet',...</td>\n",
       "      <td>{'type-id': None, 'iso-3166-1-codes': ['RU'], ...</td>\n",
       "      <td>{'ended': False, 'begin': '1997', 'end': None}</td>\n",
       "      <td>...</td>\n",
       "      <td>76b84628-bb79-4589-ae7c-91e1d886fc3c</td>\n",
       "      <td>Group</td>\n",
       "      <td>RU</td>\n",
       "      <td>NaN</td>\n",
       "      <td>NaN</td>\n",
       "      <td>[]</td>\n",
       "      <td>NaN</td>\n",
       "      <td>[{'type': 'remixer', 'direction': 'forward', '...</td>\n",
       "      <td>[]</td>\n",
       "      <td>[]</td>\n",
       "    </tr>\n",
       "    <tr>\n",
       "      <th>2</th>\n",
       "      <td>NaN</td>\n",
       "      <td>{'type-id': None, 'sort-name': 'Kingston', 'na...</td>\n",
       "      <td>[]</td>\n",
       "      <td>dancehall deejay</td>\n",
       "      <td>b6e035f4-3ce9-331c-97df-83397230b0df</td>\n",
       "      <td>{'value': None, 'votes-count': 0}</td>\n",
       "      <td>Super Cat</td>\n",
       "      <td>[{'name': 'Supercat', 'primary': None, 'begin'...</td>\n",
       "      <td>{'disambiguation': '', 'type': None, 'id': '2d...</td>\n",
       "      <td>{'ended': False, 'begin': '1963-06-25', 'end':...</td>\n",
       "      <td>...</td>\n",
       "      <td>2d5fbbfd-27a7-4b74-848a-2b1f24fa1d0a</td>\n",
       "      <td>Person</td>\n",
       "      <td>JM</td>\n",
       "      <td>NaN</td>\n",
       "      <td>Male</td>\n",
       "      <td>['0000000055177699']</td>\n",
       "      <td>36d3d30a-839d-3eda-8cb3-29be4384e4a9</td>\n",
       "      <td>[{'attributes': [], 'direction': 'forward', 'e...</td>\n",
       "      <td>[{'disambiguation': '', 'name': 'dancehall', '...</td>\n",
       "      <td>[{'name': 'dancehall', 'count': 2}, {'count': ...</td>\n",
       "    </tr>\n",
       "    <tr>\n",
       "      <th>3</th>\n",
       "      <td>Archived Czech homepage: http://wayback.archiv...</td>\n",
       "      <td>{'sort-name': 'Praha', 'type-id': None, 'iso-3...</td>\n",
       "      <td>['00066842160']</td>\n",
       "      <td>Czech-American composer, filmmaker, musician</td>\n",
       "      <td>b6e035f4-3ce9-331c-97df-83397230b0df</td>\n",
       "      <td>{'votes-count': 0, 'value': None}</td>\n",
       "      <td>Král, Ivan</td>\n",
       "      <td>[{'type-id': '1937e404-b981-3cb7-8151-4c86ebfc...</td>\n",
       "      <td>{'disambiguation': '', 'type': None, 'name': '...</td>\n",
       "      <td>{'ended': True, 'begin': '1948-05-12', 'end': ...</td>\n",
       "      <td>...</td>\n",
       "      <td>3095b79c-0f52-4ac8-a3c4-c1a15a61aa12</td>\n",
       "      <td>Person</td>\n",
       "      <td>US</td>\n",
       "      <td>{'type-id': None, 'sort-name': 'Michigan', 'di...</td>\n",
       "      <td>Male</td>\n",
       "      <td>['0000000046377410']</td>\n",
       "      <td>36d3d30a-839d-3eda-8cb3-29be4384e4a9</td>\n",
       "      <td>[{'attribute-values': {}, 'end': '1974', 'type...</td>\n",
       "      <td>[]</td>\n",
       "      <td>[]</td>\n",
       "    </tr>\n",
       "    <tr>\n",
       "      <th>4</th>\n",
       "      <td>NaN</td>\n",
       "      <td>{'type-id': None, 'iso-3166-1-codes': ['US'], ...</td>\n",
       "      <td>[]</td>\n",
       "      <td>NaN</td>\n",
       "      <td>e431f5f6-b5d2-343d-8b36-72607fffb74b</td>\n",
       "      <td>{'votes-count': 1, 'value': 5}</td>\n",
       "      <td>Love Jones</td>\n",
       "      <td>[]</td>\n",
       "      <td>{'iso-3166-1-codes': ['US'], 'type-id': None, ...</td>\n",
       "      <td>{'end': None, 'begin': '1990', 'ended': False}</td>\n",
       "      <td>...</td>\n",
       "      <td>4231388d-489e-4fb6-918c-ecc514bf882d</td>\n",
       "      <td>Group</td>\n",
       "      <td>US</td>\n",
       "      <td>NaN</td>\n",
       "      <td>NaN</td>\n",
       "      <td>[]</td>\n",
       "      <td>NaN</td>\n",
       "      <td>[{'attribute-ids': {}, 'source-credit': '', 'l...</td>\n",
       "      <td>[]</td>\n",
       "      <td>[]</td>\n",
       "    </tr>\n",
       "  </tbody>\n",
       "</table>\n",
       "<p>5 rows × 21 columns</p>\n",
       "</div>"
      ],
      "text/plain": [
       "                                          annotation  \\\n",
       "0                                                NaN   \n",
       "1                                                NaN   \n",
       "2                                                NaN   \n",
       "3  Archived Czech homepage: http://wayback.archiv...   \n",
       "4                                                NaN   \n",
       "\n",
       "                                          begin-area             ipis  \\\n",
       "0  {'type-id': None, 'name': 'San Pedro', 'id': '...               []   \n",
       "1                                                NaN               []   \n",
       "2  {'type-id': None, 'sort-name': 'Kingston', 'na...               []   \n",
       "3  {'sort-name': 'Praha', 'type-id': None, 'iso-3...  ['00066842160']   \n",
       "4  {'type-id': None, 'iso-3166-1-codes': ['US'], ...               []   \n",
       "\n",
       "                                 disambiguation  \\\n",
       "0               early 80s US hardcore punk band   \n",
       "1                                           NaN   \n",
       "2                              dancehall deejay   \n",
       "3  Czech-American composer, filmmaker, musician   \n",
       "4                                           NaN   \n",
       "\n",
       "                                type-id                             rating  \\\n",
       "0  e431f5f6-b5d2-343d-8b36-72607fffb74b     {'value': 4, 'votes-count': 1}   \n",
       "1  e431f5f6-b5d2-343d-8b36-72607fffb74b  {'votes-count': 0, 'value': None}   \n",
       "2  b6e035f4-3ce9-331c-97df-83397230b0df  {'value': None, 'votes-count': 0}   \n",
       "3  b6e035f4-3ce9-331c-97df-83397230b0df  {'votes-count': 0, 'value': None}   \n",
       "4  e431f5f6-b5d2-343d-8b36-72607fffb74b     {'votes-count': 1, 'value': 5}   \n",
       "\n",
       "          sort-name                                            aliases  \\\n",
       "0         Minutemen  [{'name': 'The Minutemen', 'primary': None, 'b...   \n",
       "1  Burunduk Kvartet  [{'primary': None, 'name': 'Burunduk Quartet',...   \n",
       "2         Super Cat  [{'name': 'Supercat', 'primary': None, 'begin'...   \n",
       "3        Král, Ivan  [{'type-id': '1937e404-b981-3cb7-8151-4c86ebfc...   \n",
       "4        Love Jones                                                 []   \n",
       "\n",
       "                                                area  \\\n",
       "0  {'type-id': None, 'iso-3166-1-codes': ['US'], ...   \n",
       "1  {'type-id': None, 'iso-3166-1-codes': ['RU'], ...   \n",
       "2  {'disambiguation': '', 'type': None, 'id': '2d...   \n",
       "3  {'disambiguation': '', 'type': None, 'name': '...   \n",
       "4  {'iso-3166-1-codes': ['US'], 'type-id': None, ...   \n",
       "\n",
       "                                           life-span  ...  \\\n",
       "0  {'end': '1985-12-22', 'ended': True, 'begin': ...  ...   \n",
       "1     {'ended': False, 'begin': '1997', 'end': None}  ...   \n",
       "2  {'ended': False, 'begin': '1963-06-25', 'end':...  ...   \n",
       "3  {'ended': True, 'begin': '1948-05-12', 'end': ...  ...   \n",
       "4     {'end': None, 'begin': '1990', 'ended': False}  ...   \n",
       "\n",
       "                             artist_uri    type country  \\\n",
       "0  d4ad0149-d8ae-4105-8009-0221fce9ff35   Group      US   \n",
       "1  76b84628-bb79-4589-ae7c-91e1d886fc3c   Group      RU   \n",
       "2  2d5fbbfd-27a7-4b74-848a-2b1f24fa1d0a  Person      JM   \n",
       "3  3095b79c-0f52-4ac8-a3c4-c1a15a61aa12  Person      US   \n",
       "4  4231388d-489e-4fb6-918c-ecc514bf882d   Group      US   \n",
       "\n",
       "                                            end-area gender  \\\n",
       "0                                                NaN    NaN   \n",
       "1                                                NaN    NaN   \n",
       "2                                                NaN   Male   \n",
       "3  {'type-id': None, 'sort-name': 'Michigan', 'di...   Male   \n",
       "4                                                NaN    NaN   \n",
       "\n",
       "                  isnis                             gender-id  \\\n",
       "0                    []                                   NaN   \n",
       "1                    []                                   NaN   \n",
       "2  ['0000000055177699']  36d3d30a-839d-3eda-8cb3-29be4384e4a9   \n",
       "3  ['0000000046377410']  36d3d30a-839d-3eda-8cb3-29be4384e4a9   \n",
       "4                    []                                   NaN   \n",
       "\n",
       "                                           relations  \\\n",
       "0  [{'attribute-ids': {}, 'source-credit': '', 'e...   \n",
       "1  [{'type': 'remixer', 'direction': 'forward', '...   \n",
       "2  [{'attributes': [], 'direction': 'forward', 'e...   \n",
       "3  [{'attribute-values': {}, 'end': '1974', 'type...   \n",
       "4  [{'attribute-ids': {}, 'source-credit': '', 'l...   \n",
       "\n",
       "                                              genres  \\\n",
       "0  [{'disambiguation': '', 'id': '00055e8b-b951-4...   \n",
       "1                                                 []   \n",
       "2  [{'disambiguation': '', 'name': 'dancehall', '...   \n",
       "3                                                 []   \n",
       "4                                                 []   \n",
       "\n",
       "                                                tags  \n",
       "0  [{'count': 1, 'name': 'acoustic rock'}, {'coun...  \n",
       "1                                                 []  \n",
       "2  [{'name': 'dancehall', 'count': 2}, {'count': ...  \n",
       "3                                                 []  \n",
       "4                                                 []  \n",
       "\n",
       "[5 rows x 21 columns]"
      ]
     },
     "execution_count": 44,
     "metadata": {},
     "output_type": "execute_result"
    }
   ],
   "source": [
    "artist_df[:5]"
   ]
  },
  {
   "cell_type": "code",
   "execution_count": 5,
   "id": "1dd587c8-bd87-489e-bf78-b58c2d43ccbd",
   "metadata": {},
   "outputs": [],
   "source": [
    "### Rename the columns\n",
    "artist_df=  artist_df.rename(columns={'id': 'artist_uri', 'name': 'artist_name'})"
   ]
  },
  {
   "cell_type": "code",
   "execution_count": 8,
   "id": "f28f1bb4-f6ec-459c-b2ae-7ffc271cbfc8",
   "metadata": {},
   "outputs": [
    {
     "data": {
      "text/plain": [
       "0             Minutemen\n",
       "1      Бурундук Квартет\n",
       "2             Super Cat\n",
       "3             Ivan Král\n",
       "4            Love Jones\n",
       "5               Niagara\n",
       "6            E_SHAK MMS\n",
       "7                 Hydra\n",
       "8    Saturday Supercade\n",
       "9               Persone\n",
       "Name: artist_name, dtype: object"
      ]
     },
     "execution_count": 8,
     "metadata": {},
     "output_type": "execute_result"
    }
   ],
   "source": [
    "artist_df['artist_name'][:10]"
   ]
  },
  {
   "cell_type": "markdown",
   "id": "c1d93c65-3dc1-47a9-9eb4-abf8a6b7566e",
   "metadata": {},
   "source": [
    "### 1. Merging track_df And artist_df"
   ]
  },
  {
   "cell_type": "code",
   "execution_count": 8,
   "id": "f39d6875-985a-471b-91da-fc395dd773f9",
   "metadata": {},
   "outputs": [],
   "source": [
    "tracks_df1= tracks_df[['track_uri','track_name','artist_name','artist_uri','album_uri', 'album_name']]"
   ]
  },
  {
   "cell_type": "code",
   "execution_count": 6,
   "id": "588cd3b7-70ef-4eaf-b874-4f8e63ddaabc",
   "metadata": {},
   "outputs": [
    {
     "data": {
      "text/html": [
       "<div>\n",
       "<style scoped>\n",
       "    .dataframe tbody tr th:only-of-type {\n",
       "        vertical-align: middle;\n",
       "    }\n",
       "\n",
       "    .dataframe tbody tr th {\n",
       "        vertical-align: top;\n",
       "    }\n",
       "\n",
       "    .dataframe thead th {\n",
       "        text-align: right;\n",
       "    }\n",
       "</style>\n",
       "<table border=\"1\" class=\"dataframe\">\n",
       "  <thead>\n",
       "    <tr style=\"text-align: right;\">\n",
       "      <th></th>\n",
       "      <th>track_uri</th>\n",
       "      <th>track_name</th>\n",
       "      <th>artist_name</th>\n",
       "      <th>artist_uri</th>\n",
       "      <th>album_uri</th>\n",
       "      <th>album_name</th>\n",
       "    </tr>\n",
       "  </thead>\n",
       "  <tbody>\n",
       "    <tr>\n",
       "      <th>0</th>\n",
       "      <td>spotify:track:7gKIt3rDGIMJDFVSPBnGmj</td>\n",
       "      <td>Super Bass</td>\n",
       "      <td>Nicki Minaj</td>\n",
       "      <td>spotify:artist:0hCNtLu0JehylgoiP8L4Gh</td>\n",
       "      <td>spotify:album:2RfF6dGpYIN5u1mNkfG8Pb</td>\n",
       "      <td>Pink Friday</td>\n",
       "    </tr>\n",
       "    <tr>\n",
       "      <th>1</th>\n",
       "      <td>spotify:track:2eAAEa8pxKF7My0EO4rFgR</td>\n",
       "      <td>Blow Your Mind (Mwah)</td>\n",
       "      <td>Dua Lipa</td>\n",
       "      <td>spotify:artist:6M2wZ9GZgrQXHCFfjv46we</td>\n",
       "      <td>spotify:album:01sfgrNbnnPUEyz6GZYlt9</td>\n",
       "      <td>Dua Lipa</td>\n",
       "    </tr>\n",
       "    <tr>\n",
       "      <th>2</th>\n",
       "      <td>spotify:track:5rnFOEEIBIWZ6dhHrY6zHh</td>\n",
       "      <td>Love (feat. Rae Sremmurd)</td>\n",
       "      <td>ILoveMakonnen</td>\n",
       "      <td>spotify:artist:3aGFCoR8xGN6DKwvdzeSja</td>\n",
       "      <td>spotify:album:44sGCAuUKSGPbF6fSXO2vZ</td>\n",
       "      <td>Love (feat. Rae Sremmurd)</td>\n",
       "    </tr>\n",
       "    <tr>\n",
       "      <th>3</th>\n",
       "      <td>spotify:track:7fwXWKdDNI5IutOMc5OKYw</td>\n",
       "      <td>Mi Gente (feat. Beyoncé)</td>\n",
       "      <td>J Balvin</td>\n",
       "      <td>spotify:artist:1vyhD5VmyZ7KMfW5gqLgo5</td>\n",
       "      <td>spotify:album:0ARVq1kA5eRP4F5VsZsr3m</td>\n",
       "      <td>Mi Gente (feat. Beyoncé)</td>\n",
       "    </tr>\n",
       "    <tr>\n",
       "      <th>4</th>\n",
       "      <td>spotify:track:19yIQRLAYMNxmEfdnnQDsS</td>\n",
       "      <td>No I Love Yous</td>\n",
       "      <td>Era Istrefi</td>\n",
       "      <td>spotify:artist:4poL7YCSkG7kMnWjAdDU91</td>\n",
       "      <td>spotify:album:6z4lsw2W6YwkA3CNDhGP42</td>\n",
       "      <td>No I Love Yous</td>\n",
       "    </tr>\n",
       "  </tbody>\n",
       "</table>\n",
       "</div>"
      ],
      "text/plain": [
       "                              track_uri                 track_name  \\\n",
       "0  spotify:track:7gKIt3rDGIMJDFVSPBnGmj                 Super Bass   \n",
       "1  spotify:track:2eAAEa8pxKF7My0EO4rFgR      Blow Your Mind (Mwah)   \n",
       "2  spotify:track:5rnFOEEIBIWZ6dhHrY6zHh  Love (feat. Rae Sremmurd)   \n",
       "3  spotify:track:7fwXWKdDNI5IutOMc5OKYw   Mi Gente (feat. Beyoncé)   \n",
       "4  spotify:track:19yIQRLAYMNxmEfdnnQDsS             No I Love Yous   \n",
       "\n",
       "     artist_name                             artist_uri  \\\n",
       "0    Nicki Minaj  spotify:artist:0hCNtLu0JehylgoiP8L4Gh   \n",
       "1       Dua Lipa  spotify:artist:6M2wZ9GZgrQXHCFfjv46we   \n",
       "2  ILoveMakonnen  spotify:artist:3aGFCoR8xGN6DKwvdzeSja   \n",
       "3       J Balvin  spotify:artist:1vyhD5VmyZ7KMfW5gqLgo5   \n",
       "4    Era Istrefi  spotify:artist:4poL7YCSkG7kMnWjAdDU91   \n",
       "\n",
       "                              album_uri                 album_name  \n",
       "0  spotify:album:2RfF6dGpYIN5u1mNkfG8Pb                Pink Friday  \n",
       "1  spotify:album:01sfgrNbnnPUEyz6GZYlt9                   Dua Lipa  \n",
       "2  spotify:album:44sGCAuUKSGPbF6fSXO2vZ  Love (feat. Rae Sremmurd)  \n",
       "3  spotify:album:0ARVq1kA5eRP4F5VsZsr3m   Mi Gente (feat. Beyoncé)  \n",
       "4  spotify:album:6z4lsw2W6YwkA3CNDhGP42             No I Love Yous  "
      ]
     },
     "execution_count": 6,
     "metadata": {},
     "output_type": "execute_result"
    }
   ],
   "source": [
    "tracks_df1.head()"
   ]
  },
  {
   "cell_type": "code",
   "execution_count": 10,
   "id": "78446372-235a-4233-9098-2a4709694200",
   "metadata": {},
   "outputs": [],
   "source": [
    "tracks_df1.to_csv('tracks_df1.csv', index = False)"
   ]
  },
  {
   "cell_type": "code",
   "execution_count": 9,
   "id": "b791ae9d-a9e2-459d-bdff-63f5edccc7a2",
   "metadata": {},
   "outputs": [],
   "source": [
    "tracks_df1 = pd.read_csv('tracks_df1.csv')"
   ]
  },
  {
   "cell_type": "markdown",
   "id": "142a2dfc-ff7a-4910-9313-715ff38c48b6",
   "metadata": {
    "jp-MarkdownHeadingCollapsed": true
   },
   "source": [
    "### Checking if some artists have ambiguous name"
   ]
  },
  {
   "cell_type": "code",
   "execution_count": 28,
   "id": "da897e6a-e229-4f67-a3ff-547217c22644",
   "metadata": {},
   "outputs": [
    {
     "name": "stdout",
     "output_type": "stream",
     "text": [
      "sort-name\n",
      "!!!        3\n",
      "\"O\"        2\n",
      "$K         2\n",
      "&          2\n",
      "'Fusion    2\n",
      "          ..\n",
      "賊恩         2\n",
      "김영민        2\n",
      "김창훈        2\n",
      "이은지        2\n",
      "정우         2\n",
      "Name: id, Length: 101929, dtype: int64\n"
     ]
    }
   ],
   "source": [
    "print(artist_groups[artist_groups > 1])"
   ]
  },
  {
   "cell_type": "code",
   "execution_count": 32,
   "id": "a73c6691-b71c-472e-afd1-53e39bfce8f0",
   "metadata": {},
   "outputs": [
    {
     "name": "stdout",
     "output_type": "stream",
     "text": [
      "artist_name\n",
      "& More         3\n",
      "100%           2\n",
      "11:11          2\n",
      "12th Planet    2\n",
      "1982           2\n",
      "              ..\n",
      "邱勝翊            2\n",
      "매니악            2\n",
      "박정현            2\n",
      "정승환            2\n",
      "하울             3\n",
      "Name: artist_uri, Length: 5990, dtype: int64\n"
     ]
    }
   ],
   "source": [
    "artist_groups1 = tracks_df1.groupby('artist_name')['artist_uri'].nunique()\n",
    "print(artist_groups1[artist_groups1 > 1])"
   ]
  },
  {
   "cell_type": "markdown",
   "id": "3186ecd5-63bd-47c4-86bb-acbe1d229475",
   "metadata": {},
   "source": [
    "### Merging tracks_df1 and artists_df Dataframe"
   ]
  },
  {
   "cell_type": "code",
   "execution_count": 10,
   "id": "f5a27a37-729b-48c2-82eb-4024cf5ecb0c",
   "metadata": {},
   "outputs": [
    {
     "data": {
      "text/html": [
       "<div>\n",
       "<style scoped>\n",
       "    .dataframe tbody tr th:only-of-type {\n",
       "        vertical-align: middle;\n",
       "    }\n",
       "\n",
       "    .dataframe tbody tr th {\n",
       "        vertical-align: top;\n",
       "    }\n",
       "\n",
       "    .dataframe thead th {\n",
       "        text-align: right;\n",
       "    }\n",
       "</style>\n",
       "<table border=\"1\" class=\"dataframe\">\n",
       "  <thead>\n",
       "    <tr style=\"text-align: right;\">\n",
       "      <th></th>\n",
       "      <th>track_uri</th>\n",
       "      <th>track_name</th>\n",
       "      <th>artist_name</th>\n",
       "      <th>artist_uri</th>\n",
       "      <th>album_uri</th>\n",
       "      <th>album_name</th>\n",
       "      <th>type-id</th>\n",
       "      <th>tags</th>\n",
       "    </tr>\n",
       "  </thead>\n",
       "  <tbody>\n",
       "    <tr>\n",
       "      <th>0</th>\n",
       "      <td>spotify:track:7gKIt3rDGIMJDFVSPBnGmj</td>\n",
       "      <td>Super Bass</td>\n",
       "      <td>Nicki Minaj</td>\n",
       "      <td>spotify:artist:0hCNtLu0JehylgoiP8L4Gh</td>\n",
       "      <td>spotify:album:2RfF6dGpYIN5u1mNkfG8Pb</td>\n",
       "      <td>Pink Friday</td>\n",
       "      <td>b6e035f4-3ce9-331c-97df-83397230b0df</td>\n",
       "      <td>[{'count': 1, 'name': '2010s'}, {'name': 'east...</td>\n",
       "    </tr>\n",
       "    <tr>\n",
       "      <th>1</th>\n",
       "      <td>spotify:track:2eAAEa8pxKF7My0EO4rFgR</td>\n",
       "      <td>Blow Your Mind (Mwah)</td>\n",
       "      <td>Dua Lipa</td>\n",
       "      <td>spotify:artist:6M2wZ9GZgrQXHCFfjv46we</td>\n",
       "      <td>spotify:album:01sfgrNbnnPUEyz6GZYlt9</td>\n",
       "      <td>Dua Lipa</td>\n",
       "      <td>b6e035f4-3ce9-331c-97df-83397230b0df</td>\n",
       "      <td>[{'name': 'alternative pop', 'count': 1}, {'na...</td>\n",
       "    </tr>\n",
       "    <tr>\n",
       "      <th>2</th>\n",
       "      <td>spotify:track:5rnFOEEIBIWZ6dhHrY6zHh</td>\n",
       "      <td>Love (feat. Rae Sremmurd)</td>\n",
       "      <td>ILoveMakonnen</td>\n",
       "      <td>spotify:artist:3aGFCoR8xGN6DKwvdzeSja</td>\n",
       "      <td>spotify:album:44sGCAuUKSGPbF6fSXO2vZ</td>\n",
       "      <td>Love (feat. Rae Sremmurd)</td>\n",
       "      <td>NaN</td>\n",
       "      <td>NaN</td>\n",
       "    </tr>\n",
       "    <tr>\n",
       "      <th>3</th>\n",
       "      <td>spotify:track:7fwXWKdDNI5IutOMc5OKYw</td>\n",
       "      <td>Mi Gente (feat. Beyoncé)</td>\n",
       "      <td>J Balvin</td>\n",
       "      <td>spotify:artist:1vyhD5VmyZ7KMfW5gqLgo5</td>\n",
       "      <td>spotify:album:0ARVq1kA5eRP4F5VsZsr3m</td>\n",
       "      <td>Mi Gente (feat. Beyoncé)</td>\n",
       "      <td>b6e035f4-3ce9-331c-97df-83397230b0df</td>\n",
       "      <td>[{'count': 6, 'name': 'hip hop'}, {'count': 5,...</td>\n",
       "    </tr>\n",
       "    <tr>\n",
       "      <th>4</th>\n",
       "      <td>spotify:track:19yIQRLAYMNxmEfdnnQDsS</td>\n",
       "      <td>No I Love Yous</td>\n",
       "      <td>Era Istrefi</td>\n",
       "      <td>spotify:artist:4poL7YCSkG7kMnWjAdDU91</td>\n",
       "      <td>spotify:album:6z4lsw2W6YwkA3CNDhGP42</td>\n",
       "      <td>No I Love Yous</td>\n",
       "      <td>b6e035f4-3ce9-331c-97df-83397230b0df</td>\n",
       "      <td>[]</td>\n",
       "    </tr>\n",
       "    <tr>\n",
       "      <th>...</th>\n",
       "      <td>...</td>\n",
       "      <td>...</td>\n",
       "      <td>...</td>\n",
       "      <td>...</td>\n",
       "      <td>...</td>\n",
       "      <td>...</td>\n",
       "      <td>...</td>\n",
       "      <td>...</td>\n",
       "    </tr>\n",
       "    <tr>\n",
       "      <th>124252510</th>\n",
       "      <td>spotify:track:3wu9ADop1FXdhToPCxwBL8</td>\n",
       "      <td>Take You Down</td>\n",
       "      <td>Chris Brown</td>\n",
       "      <td>spotify:artist:7bXgB6jMjp9ATFy66eO08Z</td>\n",
       "      <td>spotify:album:1UtE4zAlSE2TlKmTFgrTg5</td>\n",
       "      <td>Exclusive - The Forever Edition</td>\n",
       "      <td>b6e035f4-3ce9-331c-97df-83397230b0df</td>\n",
       "      <td>[]</td>\n",
       "    </tr>\n",
       "    <tr>\n",
       "      <th>124252511</th>\n",
       "      <td>spotify:track:3wu9ADop1FXdhToPCxwBL8</td>\n",
       "      <td>Take You Down</td>\n",
       "      <td>Chris Brown</td>\n",
       "      <td>spotify:artist:7bXgB6jMjp9ATFy66eO08Z</td>\n",
       "      <td>spotify:album:1UtE4zAlSE2TlKmTFgrTg5</td>\n",
       "      <td>Exclusive - The Forever Edition</td>\n",
       "      <td>b6e035f4-3ce9-331c-97df-83397230b0df</td>\n",
       "      <td>[]</td>\n",
       "    </tr>\n",
       "    <tr>\n",
       "      <th>124252512</th>\n",
       "      <td>spotify:track:3wu9ADop1FXdhToPCxwBL8</td>\n",
       "      <td>Take You Down</td>\n",
       "      <td>Chris Brown</td>\n",
       "      <td>spotify:artist:7bXgB6jMjp9ATFy66eO08Z</td>\n",
       "      <td>spotify:album:1UtE4zAlSE2TlKmTFgrTg5</td>\n",
       "      <td>Exclusive - The Forever Edition</td>\n",
       "      <td>b6e035f4-3ce9-331c-97df-83397230b0df</td>\n",
       "      <td>[]</td>\n",
       "    </tr>\n",
       "    <tr>\n",
       "      <th>124252513</th>\n",
       "      <td>spotify:track:3wu9ADop1FXdhToPCxwBL8</td>\n",
       "      <td>Take You Down</td>\n",
       "      <td>Chris Brown</td>\n",
       "      <td>spotify:artist:7bXgB6jMjp9ATFy66eO08Z</td>\n",
       "      <td>spotify:album:1UtE4zAlSE2TlKmTFgrTg5</td>\n",
       "      <td>Exclusive - The Forever Edition</td>\n",
       "      <td>b6e035f4-3ce9-331c-97df-83397230b0df</td>\n",
       "      <td>[]</td>\n",
       "    </tr>\n",
       "    <tr>\n",
       "      <th>124252514</th>\n",
       "      <td>spotify:track:3pfXxHoydFRfD7IBGJTQAN</td>\n",
       "      <td>Pony</td>\n",
       "      <td>Ginuwine</td>\n",
       "      <td>spotify:artist:7r8RF1tN2A4CiGEplkp1oP</td>\n",
       "      <td>spotify:album:3O2912EZv0FBJKZ0K5ruzK</td>\n",
       "      <td>R&amp;B: From Doo-Wop To Hip-Hop</td>\n",
       "      <td>b6e035f4-3ce9-331c-97df-83397230b0df</td>\n",
       "      <td>[{'count': 1, 'name': 'hip hop rnb and dance h...</td>\n",
       "    </tr>\n",
       "  </tbody>\n",
       "</table>\n",
       "<p>124252515 rows × 8 columns</p>\n",
       "</div>"
      ],
      "text/plain": [
       "                                      track_uri                 track_name  \\\n",
       "0          spotify:track:7gKIt3rDGIMJDFVSPBnGmj                 Super Bass   \n",
       "1          spotify:track:2eAAEa8pxKF7My0EO4rFgR      Blow Your Mind (Mwah)   \n",
       "2          spotify:track:5rnFOEEIBIWZ6dhHrY6zHh  Love (feat. Rae Sremmurd)   \n",
       "3          spotify:track:7fwXWKdDNI5IutOMc5OKYw   Mi Gente (feat. Beyoncé)   \n",
       "4          spotify:track:19yIQRLAYMNxmEfdnnQDsS             No I Love Yous   \n",
       "...                                         ...                        ...   \n",
       "124252510  spotify:track:3wu9ADop1FXdhToPCxwBL8              Take You Down   \n",
       "124252511  spotify:track:3wu9ADop1FXdhToPCxwBL8              Take You Down   \n",
       "124252512  spotify:track:3wu9ADop1FXdhToPCxwBL8              Take You Down   \n",
       "124252513  spotify:track:3wu9ADop1FXdhToPCxwBL8              Take You Down   \n",
       "124252514  spotify:track:3pfXxHoydFRfD7IBGJTQAN                       Pony   \n",
       "\n",
       "             artist_name                             artist_uri  \\\n",
       "0            Nicki Minaj  spotify:artist:0hCNtLu0JehylgoiP8L4Gh   \n",
       "1               Dua Lipa  spotify:artist:6M2wZ9GZgrQXHCFfjv46we   \n",
       "2          ILoveMakonnen  spotify:artist:3aGFCoR8xGN6DKwvdzeSja   \n",
       "3               J Balvin  spotify:artist:1vyhD5VmyZ7KMfW5gqLgo5   \n",
       "4            Era Istrefi  spotify:artist:4poL7YCSkG7kMnWjAdDU91   \n",
       "...                  ...                                    ...   \n",
       "124252510    Chris Brown  spotify:artist:7bXgB6jMjp9ATFy66eO08Z   \n",
       "124252511    Chris Brown  spotify:artist:7bXgB6jMjp9ATFy66eO08Z   \n",
       "124252512    Chris Brown  spotify:artist:7bXgB6jMjp9ATFy66eO08Z   \n",
       "124252513    Chris Brown  spotify:artist:7bXgB6jMjp9ATFy66eO08Z   \n",
       "124252514       Ginuwine  spotify:artist:7r8RF1tN2A4CiGEplkp1oP   \n",
       "\n",
       "                                      album_uri  \\\n",
       "0          spotify:album:2RfF6dGpYIN5u1mNkfG8Pb   \n",
       "1          spotify:album:01sfgrNbnnPUEyz6GZYlt9   \n",
       "2          spotify:album:44sGCAuUKSGPbF6fSXO2vZ   \n",
       "3          spotify:album:0ARVq1kA5eRP4F5VsZsr3m   \n",
       "4          spotify:album:6z4lsw2W6YwkA3CNDhGP42   \n",
       "...                                         ...   \n",
       "124252510  spotify:album:1UtE4zAlSE2TlKmTFgrTg5   \n",
       "124252511  spotify:album:1UtE4zAlSE2TlKmTFgrTg5   \n",
       "124252512  spotify:album:1UtE4zAlSE2TlKmTFgrTg5   \n",
       "124252513  spotify:album:1UtE4zAlSE2TlKmTFgrTg5   \n",
       "124252514  spotify:album:3O2912EZv0FBJKZ0K5ruzK   \n",
       "\n",
       "                                album_name  \\\n",
       "0                              Pink Friday   \n",
       "1                                 Dua Lipa   \n",
       "2                Love (feat. Rae Sremmurd)   \n",
       "3                 Mi Gente (feat. Beyoncé)   \n",
       "4                           No I Love Yous   \n",
       "...                                    ...   \n",
       "124252510  Exclusive - The Forever Edition   \n",
       "124252511  Exclusive - The Forever Edition   \n",
       "124252512  Exclusive - The Forever Edition   \n",
       "124252513  Exclusive - The Forever Edition   \n",
       "124252514     R&B: From Doo-Wop To Hip-Hop   \n",
       "\n",
       "                                        type-id  \\\n",
       "0          b6e035f4-3ce9-331c-97df-83397230b0df   \n",
       "1          b6e035f4-3ce9-331c-97df-83397230b0df   \n",
       "2                                           NaN   \n",
       "3          b6e035f4-3ce9-331c-97df-83397230b0df   \n",
       "4          b6e035f4-3ce9-331c-97df-83397230b0df   \n",
       "...                                         ...   \n",
       "124252510  b6e035f4-3ce9-331c-97df-83397230b0df   \n",
       "124252511  b6e035f4-3ce9-331c-97df-83397230b0df   \n",
       "124252512  b6e035f4-3ce9-331c-97df-83397230b0df   \n",
       "124252513  b6e035f4-3ce9-331c-97df-83397230b0df   \n",
       "124252514  b6e035f4-3ce9-331c-97df-83397230b0df   \n",
       "\n",
       "                                                        tags  \n",
       "0          [{'count': 1, 'name': '2010s'}, {'name': 'east...  \n",
       "1          [{'name': 'alternative pop', 'count': 1}, {'na...  \n",
       "2                                                        NaN  \n",
       "3          [{'count': 6, 'name': 'hip hop'}, {'count': 5,...  \n",
       "4                                                         []  \n",
       "...                                                      ...  \n",
       "124252510                                                 []  \n",
       "124252511                                                 []  \n",
       "124252512                                                 []  \n",
       "124252513                                                 []  \n",
       "124252514  [{'count': 1, 'name': 'hip hop rnb and dance h...  \n",
       "\n",
       "[124252515 rows x 8 columns]"
      ]
     },
     "execution_count": 10,
     "metadata": {},
     "output_type": "execute_result"
    }
   ],
   "source": [
    "# Merging two DataFrames on 'artist_name'\n",
    "merged_df = pd.merge(tracks_df1, artist_df[['artist_name', 'type-id', 'tags']], on='artist_name', how='left').drop_duplicates(subset=['artist_name'])\n",
    "merged_df"
   ]
  },
  {
   "cell_type": "code",
   "execution_count": 15,
   "id": "0c7db104-6624-482a-bc0a-963bbd6df8de",
   "metadata": {},
   "outputs": [],
   "source": [
    "merged_df.to_csv('merged_df', index= False)"
   ]
  },
  {
   "cell_type": "markdown",
   "id": "2b5bd319-4082-4404-9c08-807b2b267478",
   "metadata": {},
   "source": [
    "# Spotify Million Song Dataset "
   ]
  },
  {
   "cell_type": "code",
   "execution_count": null,
   "id": "dc1c450f-a5c2-429c-8a6e-5d556777d69d",
   "metadata": {},
   "outputs": [],
   "source": [
    "import requests\n",
    "url = 'http://millionsongdataset.com/sites/default/files/AdditionalFiles/unique_tracks.txt'\n",
    "response = requests.get(url)\n",
    "# Save the content to a local file\n",
    "with open('unique_tracks.txt', 'wb') as file:\n",
    "    file.write(response.content)\n",
    "\n",
    "print(\"Download completed!\")\n"
   ]
  },
  {
   "cell_type": "code",
   "execution_count": 4,
   "id": "5f06bd9f-c85a-4cc0-b643-39bbedd78632",
   "metadata": {},
   "outputs": [
    {
     "name": "stderr",
     "output_type": "stream",
     "text": [
      "/tmp/ipykernel_520/3473224496.py:1: ParserWarning: Falling back to the 'python' engine because the 'c' engine does not support regex separators (separators > 1 char and different from '\\s+' are interpreted as regex); you can avoid this warning by specifying engine='python'.\n",
      "  spotifymilsongs = pd.read_csv('/home/jovyan/Spotify/unique_tracks.txt',sep='<SEP>', header=None)\n"
     ]
    }
   ],
   "source": [
    "spotifymilsongs = pd.read_csv('/home/jovyan/Spotify/unique_tracks.txt',sep='<SEP>', header=None)\n",
    "spotifymilsongs.columns = ['track_uri', 'artist_uri', 'artist_name', 'track_name']"
   ]
  },
  {
   "cell_type": "code",
   "execution_count": 3,
   "id": "23b2a0fc-7004-4697-a39a-f9bc2b04efac",
   "metadata": {},
   "outputs": [],
   "source": [
    "spotifymilsongs = pd.read_csv('/home/jovyan/Spotify/spotifymilsongs.csv')"
   ]
  },
  {
   "cell_type": "code",
   "execution_count": 6,
   "id": "03195450-6c63-4a15-accd-ff43a8986a7d",
   "metadata": {},
   "outputs": [
    {
     "data": {
      "text/html": [
       "<div>\n",
       "<style scoped>\n",
       "    .dataframe tbody tr th:only-of-type {\n",
       "        vertical-align: middle;\n",
       "    }\n",
       "\n",
       "    .dataframe tbody tr th {\n",
       "        vertical-align: top;\n",
       "    }\n",
       "\n",
       "    .dataframe thead th {\n",
       "        text-align: right;\n",
       "    }\n",
       "</style>\n",
       "<table border=\"1\" class=\"dataframe\">\n",
       "  <thead>\n",
       "    <tr style=\"text-align: right;\">\n",
       "      <th></th>\n",
       "      <th>track_uri</th>\n",
       "      <th>artist_uri</th>\n",
       "      <th>artist_name</th>\n",
       "      <th>track_name</th>\n",
       "    </tr>\n",
       "  </thead>\n",
       "  <tbody>\n",
       "    <tr>\n",
       "      <th>0</th>\n",
       "      <td>TRMMMYQ128F932D901</td>\n",
       "      <td>SOQMMHC12AB0180CB8</td>\n",
       "      <td>Faster Pussy cat</td>\n",
       "      <td>Silent Night</td>\n",
       "    </tr>\n",
       "    <tr>\n",
       "      <th>1</th>\n",
       "      <td>TRMMMKD128F425225D</td>\n",
       "      <td>SOVFVAK12A8C1350D9</td>\n",
       "      <td>Karkkiautomaatti</td>\n",
       "      <td>Tanssi vaan</td>\n",
       "    </tr>\n",
       "    <tr>\n",
       "      <th>2</th>\n",
       "      <td>TRMMMRX128F93187D9</td>\n",
       "      <td>SOGTUKN12AB017F4F1</td>\n",
       "      <td>Hudson Mohawke</td>\n",
       "      <td>No One Could Ever</td>\n",
       "    </tr>\n",
       "    <tr>\n",
       "      <th>3</th>\n",
       "      <td>TRMMMCH128F425532C</td>\n",
       "      <td>SOBNYVR12A8C13558C</td>\n",
       "      <td>Yerba Brava</td>\n",
       "      <td>Si Vos Querés</td>\n",
       "    </tr>\n",
       "    <tr>\n",
       "      <th>4</th>\n",
       "      <td>TRMMMWA128F426B589</td>\n",
       "      <td>SOHSBXH12A8C13B0DF</td>\n",
       "      <td>Der Mystic</td>\n",
       "      <td>Tangle Of Aspens</td>\n",
       "    </tr>\n",
       "  </tbody>\n",
       "</table>\n",
       "</div>"
      ],
      "text/plain": [
       "            track_uri          artist_uri       artist_name         track_name\n",
       "0  TRMMMYQ128F932D901  SOQMMHC12AB0180CB8  Faster Pussy cat       Silent Night\n",
       "1  TRMMMKD128F425225D  SOVFVAK12A8C1350D9  Karkkiautomaatti        Tanssi vaan\n",
       "2  TRMMMRX128F93187D9  SOGTUKN12AB017F4F1    Hudson Mohawke  No One Could Ever\n",
       "3  TRMMMCH128F425532C  SOBNYVR12A8C13558C       Yerba Brava      Si Vos Querés\n",
       "4  TRMMMWA128F426B589  SOHSBXH12A8C13B0DF        Der Mystic   Tangle Of Aspens"
      ]
     },
     "execution_count": 6,
     "metadata": {},
     "output_type": "execute_result"
    }
   ],
   "source": [
    "spotifymilsongs.head()"
   ]
  },
  {
   "cell_type": "markdown",
   "id": "c8d8ec8e-571c-4691-98a3-13b831c21093",
   "metadata": {},
   "source": [
    "# The Echo Nest Taste Profile Subset"
   ]
  },
  {
   "cell_type": "code",
   "execution_count": 3,
   "id": "d0c3d438-d0b0-4c08-b456-a256d4d2af6d",
   "metadata": {},
   "outputs": [],
   "source": [
    "users_pcount= pd.read_csv('/home/jovyan/Spotify/MillionSongDatsetKaggle/train_triplets.txt', sep='\\t', header = None)"
   ]
  },
  {
   "cell_type": "code",
   "execution_count": 8,
   "id": "76ec7299-4ac9-425f-8bc6-91027c0c24e4",
   "metadata": {},
   "outputs": [],
   "source": [
    "users_pcount.columns =['user_id', 'artist_uri', 'play_count']"
   ]
  },
  {
   "cell_type": "code",
   "execution_count": 9,
   "id": "f2bc9486-f483-4701-abe2-d7dce5fd0f43",
   "metadata": {},
   "outputs": [],
   "source": [
    "users_pcount.to_csv('users_pcount.csv', index=False)"
   ]
  },
  {
   "cell_type": "code",
   "execution_count": 12,
   "id": "2393f8f2-4f38-40d9-9772-0cd3e52c788a",
   "metadata": {},
   "outputs": [
    {
     "data": {
      "text/html": [
       "<div>\n",
       "<style scoped>\n",
       "    .dataframe tbody tr th:only-of-type {\n",
       "        vertical-align: middle;\n",
       "    }\n",
       "\n",
       "    .dataframe tbody tr th {\n",
       "        vertical-align: top;\n",
       "    }\n",
       "\n",
       "    .dataframe thead th {\n",
       "        text-align: right;\n",
       "    }\n",
       "</style>\n",
       "<table border=\"1\" class=\"dataframe\">\n",
       "  <thead>\n",
       "    <tr style=\"text-align: right;\">\n",
       "      <th></th>\n",
       "      <th>user_id</th>\n",
       "      <th>artist_uri</th>\n",
       "      <th>play_count</th>\n",
       "    </tr>\n",
       "  </thead>\n",
       "  <tbody>\n",
       "    <tr>\n",
       "      <th>0</th>\n",
       "      <td>b80344d063b5ccb3212f76538f3d9e43d87dca9e</td>\n",
       "      <td>SOAKIMP12A8C130995</td>\n",
       "      <td>1</td>\n",
       "    </tr>\n",
       "    <tr>\n",
       "      <th>1</th>\n",
       "      <td>b80344d063b5ccb3212f76538f3d9e43d87dca9e</td>\n",
       "      <td>SOAPDEY12A81C210A9</td>\n",
       "      <td>1</td>\n",
       "    </tr>\n",
       "    <tr>\n",
       "      <th>2</th>\n",
       "      <td>b80344d063b5ccb3212f76538f3d9e43d87dca9e</td>\n",
       "      <td>SOBBMDR12A8C13253B</td>\n",
       "      <td>2</td>\n",
       "    </tr>\n",
       "    <tr>\n",
       "      <th>3</th>\n",
       "      <td>b80344d063b5ccb3212f76538f3d9e43d87dca9e</td>\n",
       "      <td>SOBFNSP12AF72A0E22</td>\n",
       "      <td>1</td>\n",
       "    </tr>\n",
       "    <tr>\n",
       "      <th>4</th>\n",
       "      <td>b80344d063b5ccb3212f76538f3d9e43d87dca9e</td>\n",
       "      <td>SOBFOVM12A58A7D494</td>\n",
       "      <td>1</td>\n",
       "    </tr>\n",
       "  </tbody>\n",
       "</table>\n",
       "</div>"
      ],
      "text/plain": [
       "                                    user_id          artist_uri  play_count\n",
       "0  b80344d063b5ccb3212f76538f3d9e43d87dca9e  SOAKIMP12A8C130995           1\n",
       "1  b80344d063b5ccb3212f76538f3d9e43d87dca9e  SOAPDEY12A81C210A9           1\n",
       "2  b80344d063b5ccb3212f76538f3d9e43d87dca9e  SOBBMDR12A8C13253B           2\n",
       "3  b80344d063b5ccb3212f76538f3d9e43d87dca9e  SOBFNSP12AF72A0E22           1\n",
       "4  b80344d063b5ccb3212f76538f3d9e43d87dca9e  SOBFOVM12A58A7D494           1"
      ]
     },
     "execution_count": 12,
     "metadata": {},
     "output_type": "execute_result"
    }
   ],
   "source": [
    "users_pcount.head()"
   ]
  },
  {
   "cell_type": "code",
   "execution_count": null,
   "id": "dbc22dca-e2a3-4c94-b6d4-6a1b3ec03ec9",
   "metadata": {},
   "outputs": [],
   "source": [
    "users_pcount= pd.read_csv('/home/jovyan/Spotify/MillionSongDatsetKaggle/users_pcount.csv'"
   ]
  },
  {
   "cell_type": "markdown",
   "id": "bd54b017-8a77-4b4a-8431-6dc158d95e9f",
   "metadata": {},
   "source": [
    "# Merged User Playcount - Million Songs"
   ]
  },
  {
   "cell_type": "code",
   "execution_count": 13,
   "id": "4015a590-0478-47cb-acb6-9994d2c1d0fa",
   "metadata": {},
   "outputs": [],
   "source": [
    "merged_mil_df = pd.merge(spotifymilsongs ,users_pcount, on='artist_uri', how='inner')"
   ]
  },
  {
   "cell_type": "code",
   "execution_count": 11,
   "id": "9b9c8cda-68ad-44ba-8db1-2953a333446d",
   "metadata": {},
   "outputs": [
    {
     "data": {
      "text/plain": [
       "2090147"
      ]
     },
     "execution_count": 11,
     "metadata": {},
     "output_type": "execute_result"
    }
   ],
   "source": [
    "len(merged_mil_df[merged_mil_df['play_count']>10])"
   ]
  },
  {
   "cell_type": "code",
   "execution_count": 15,
   "id": "f0e34181-6bc5-4194-ac4b-03ea3348d64e",
   "metadata": {},
   "outputs": [
    {
     "data": {
      "text/plain": [
       "(49664528, 6)"
      ]
     },
     "execution_count": 15,
     "metadata": {},
     "output_type": "execute_result"
    }
   ],
   "source": [
    "merged_mil_df.shape"
   ]
  },
  {
   "cell_type": "code",
   "execution_count": 16,
   "id": "5c3442aa-f471-4321-9a6a-6319ad64235b",
   "metadata": {},
   "outputs": [],
   "source": [
    "merged_mil_df.to_csv('merged_mil_df .csv', index=False)"
   ]
  },
  {
   "cell_type": "code",
   "execution_count": 6,
   "id": "ac1f3643-3b81-4fc1-9984-b4d9af735698",
   "metadata": {},
   "outputs": [],
   "source": [
    "merged_mil_df= pd.read_csv('/home/jovyan/Spotify/merged_mil_df .csv')"
   ]
  },
  {
   "cell_type": "markdown",
   "id": "635ad25d-2019-403d-8a51-bdcabc90b2eb",
   "metadata": {},
   "source": [
    "# Lyrics Train/Test Dataset From MillionSongDataset"
   ]
  },
  {
   "cell_type": "code",
   "execution_count": 78,
   "id": "49afe887-29f5-4bdc-9190-0fc5100d0c21",
   "metadata": {},
   "outputs": [],
   "source": [
    "from sklearn.metrics.pairwise import cosine_similarity\n",
    "from scipy.sparse import csr_matrix"
   ]
  },
  {
   "cell_type": "code",
   "execution_count": 2,
   "id": "e0631f86-4b4a-4510-a3a2-0ffef0edc462",
   "metadata": {},
   "outputs": [],
   "source": [
    "lyrics_df = pd.read_csv('/home/jovyan/Spotify/MillionSongDatsetKaggle/lyrics_dataset.txt', sep='<SEP>', comment='#', header=None, engine='python')"
   ]
  },
  {
   "cell_type": "code",
   "execution_count": 3,
   "id": "2b1e4b02-b5a7-440f-bff5-e6c59c15a2fe",
   "metadata": {},
   "outputs": [],
   "source": [
    "lyrics_trainset = pd.read_csv('/home/jovyan/Spotify/MillionSongDatsetKaggle/lyrics_trainset.txt', delimiter='\\t',comment='#' ,header=None)"
   ]
  }
 ],
 "metadata": {
  "kernelspec": {
   "display_name": "Python 3 (ipykernel)",
   "language": "python",
   "name": "python3"
  },
  "language_info": {
   "codemirror_mode": {
    "name": "ipython",
    "version": 3
   },
   "file_extension": ".py",
   "mimetype": "text/x-python",
   "name": "python",
   "nbconvert_exporter": "python",
   "pygments_lexer": "ipython3",
   "version": "3.10.12"
  }
 },
 "nbformat": 4,
 "nbformat_minor": 5
}
